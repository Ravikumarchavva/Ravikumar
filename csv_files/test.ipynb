{
 "cells": [
  {
   "cell_type": "code",
   "execution_count": 1,
   "metadata": {},
   "outputs": [],
   "source": [
    "import polars as pl\n",
    "import pandas as pd\n",
    "import numpy as np"
   ]
  },
  {
   "cell_type": "code",
   "execution_count": 2,
   "metadata": {},
   "outputs": [
    {
     "data": {
      "text/html": [
       "<div><style>\n",
       ".dataframe > thead > tr > th,\n",
       ".dataframe > tbody > tr > td {\n",
       "  text-align: right;\n",
       "}\n",
       "</style>\n",
       "<small>shape: (74, 18)</small><table border=\"1\" class=\"dataframe\"><thead><tr><th>season</th><th>date</th><th>match_number</th><th>match_type</th><th>venue</th><th>location</th><th>team1</th><th>team2</th><th>toss_won</th><th>toss_decision</th><th>umpire1</th><th>umpire2</th><th>reserve_umpire</th><th>match_referee</th><th>winner</th><th>winner_runs</th><th>winner_wickets</th><th>man_of_match</th></tr><tr><td>i64</td><td>str</td><td>i64</td><td>str</td><td>str</td><td>str</td><td>str</td><td>str</td><td>str</td><td>str</td><td>str</td><td>str</td><td>str</td><td>str</td><td>str</td><td>i64</td><td>i64</td><td>str</td></tr></thead><tbody><tr><td>2023</td><td>&quot;31-03-2023&quot;</td><td>1</td><td>&quot;Group&quot;</td><td>&quot;Narendra Modi …</td><td>&quot;Ahmedabad&quot;</td><td>&quot;Chennai Super …</td><td>&quot;Gujarat Titans…</td><td>&quot;Gujarat Titans…</td><td>&quot;field&quot;</td><td>&quot;Nitin Menon&quot;</td><td>&quot;HAS Khalid&quot;</td><td>&quot;A Bengeri&quot;</td><td>&quot;J Srinath&quot;</td><td>&quot;Gujarat Titans…</td><td>null</td><td>5</td><td>&quot;Rashid Khan&quot;</td></tr><tr><td>2023</td><td>&quot;01-04-2023&quot;</td><td>2</td><td>&quot;Group&quot;</td><td>&quot;Punjab Cricket…</td><td>&quot;Chandigarh&quot;</td><td>&quot;Punjab Kings&quot;</td><td>&quot;Kolkata Knight…</td><td>&quot;Kolkata Knight…</td><td>&quot;field&quot;</td><td>&quot;BNJ Oxenford&quot;</td><td>&quot;YC Barde&quot;</td><td>&quot;PM Joshi&quot;</td><td>&quot;M Nayyar&quot;</td><td>&quot;Punjab Kings&quot;</td><td>7</td><td>null</td><td>&quot;Arshdeep Singh…</td></tr><tr><td>2023</td><td>&quot;01-04-2023&quot;</td><td>3</td><td>&quot;Group&quot;</td><td>&quot;Bharat Ratna S…</td><td>&quot;Lucknow&quot;</td><td>&quot;Lucknow Super …</td><td>&quot;Delhi Capitals…</td><td>&quot;Delhi Capitals…</td><td>&quot;field&quot;</td><td>&quot;AK Chaudhary&quot;</td><td>&quot;NA Patwardhan&quot;</td><td>&quot;M Kuppuraj&quot;</td><td>&quot;DS Manohar&quot;</td><td>&quot;Lucknow Super …</td><td>50</td><td>null</td><td>&quot;MA Wood&quot;</td></tr><tr><td>2023</td><td>&quot;02-04-2023&quot;</td><td>4</td><td>&quot;Group&quot;</td><td>&quot;Rajiv Gandhi I…</td><td>&quot;Hyderabad&quot;</td><td>&quot;Rajasthan Roya…</td><td>&quot;Sunrisers Hyde…</td><td>&quot;Sunrisers Hyde…</td><td>&quot;field&quot;</td><td>&quot;KN Ananthapadm…</td><td>&quot;R Pandit&quot;</td><td>&quot;Abhijit Bhatta…</td><td>&quot;V Narayan Kutt…</td><td>&quot;Rajasthan Roya…</td><td>72</td><td>null</td><td>&quot;JC Buttler&quot;</td></tr><tr><td>2023</td><td>&quot;02-04-2023&quot;</td><td>5</td><td>&quot;Group&quot;</td><td>&quot;M Chinnaswamy …</td><td>&quot;Bengaluru&quot;</td><td>&quot;Mumbai Indians…</td><td>&quot;Royal Challeng…</td><td>&quot;Royal Challeng…</td><td>&quot;field&quot;</td><td>&quot;Nitin Menon&quot;</td><td>&quot;Tapan Sharma&quot;</td><td>&quot;A Bengeri&quot;</td><td>&quot;J Srinath&quot;</td><td>&quot;Royal Challeng…</td><td>null</td><td>8</td><td>&quot;F du Plessis&quot;</td></tr><tr><td>2023</td><td>&quot;03-04-2023&quot;</td><td>6</td><td>&quot;Group&quot;</td><td>&quot;MA Chidambaram…</td><td>&quot;Chennai&quot;</td><td>&quot;Chennai Super …</td><td>&quot;Lucknow Super …</td><td>&quot;Lucknow Super …</td><td>&quot;field&quot;</td><td>&quot;A Totre&quot;</td><td>&quot;BNJ Oxenford&quot;</td><td>&quot;PM Joshi&quot;</td><td>&quot;M Nayyar&quot;</td><td>&quot;Chennai Super …</td><td>12</td><td>null</td><td>&quot;MM Ali&quot;</td></tr><tr><td>2023</td><td>&quot;04-04-2023&quot;</td><td>7</td><td>&quot;Group&quot;</td><td>&quot;Arun Jaitley S…</td><td>&quot;Delhi&quot;</td><td>&quot;Delhi Capitals…</td><td>&quot;Gujarat Titans…</td><td>&quot;Gujarat Titans…</td><td>&quot;field&quot;</td><td>&quot;A Nand Kishore…</td><td>&quot;GR Sadashiv Iy…</td><td>&quot;M Kuppuraj&quot;</td><td>&quot;DS Manohar&quot;</td><td>&quot;Gujarat Titans…</td><td>null</td><td>6</td><td>&quot;B Sai Sudharsa…</td></tr><tr><td>2023</td><td>&quot;05-04-2023&quot;</td><td>8</td><td>&quot;Group&quot;</td><td>&quot;Barsapara Cric…</td><td>&quot;Guwahati&quot;</td><td>&quot;Punjab Kings&quot;</td><td>&quot;Rajasthan Roya…</td><td>&quot;Rajasthan Roya…</td><td>&quot;field&quot;</td><td>&quot;KN Ananthapadm…</td><td>&quot;MV Saidharshan…</td><td>&quot;Abhijit Bhatta…</td><td>&quot;V Narayan Kutt…</td><td>&quot;Punjab Kings&quot;</td><td>5</td><td>null</td><td>&quot;NT Ellis&quot;</td></tr><tr><td>2023</td><td>&quot;06-04-2023&quot;</td><td>9</td><td>&quot;Group&quot;</td><td>&quot;Eden Gardens&quot;</td><td>&quot;Kolkata&quot;</td><td>&quot;Kolkata Knight…</td><td>&quot;Royal Challeng…</td><td>&quot;Royal Challeng…</td><td>&quot;field&quot;</td><td>&quot;Vinod Seshan&quot;</td><td>&quot;VK Sharma&quot;</td><td>&quot;A Bengeri&quot;</td><td>&quot;Shakti Singh&quot;</td><td>&quot;Kolkata Knight…</td><td>81</td><td>null</td><td>&quot;SN Thakur&quot;</td></tr><tr><td>2023</td><td>&quot;07-04-2023&quot;</td><td>10</td><td>&quot;Group&quot;</td><td>&quot;Bharat Ratna S…</td><td>&quot;Lucknow&quot;</td><td>&quot;Sunrisers Hyde…</td><td>&quot;Lucknow Super …</td><td>&quot;Sunrisers Hyde…</td><td>&quot;bat&quot;</td><td>&quot;J Madanagopal&quot;</td><td>&quot;YC Barde&quot;</td><td>&quot;PM Joshi&quot;</td><td>&quot;M Nayyar&quot;</td><td>&quot;Lucknow Super …</td><td>null</td><td>5</td><td>&quot;KH Pandya&quot;</td></tr><tr><td>2023</td><td>&quot;08-04-2023&quot;</td><td>11</td><td>&quot;Group&quot;</td><td>&quot;Barsapara Cric…</td><td>&quot;Guwahati&quot;</td><td>&quot;Rajasthan Roya…</td><td>&quot;Delhi Capitals…</td><td>&quot;Delhi Capitals…</td><td>&quot;field&quot;</td><td>&quot;Navdeep Singh&quot;</td><td>&quot;MV Saidharshan…</td><td>&quot;Abhijit Bhatta…</td><td>&quot;V Narayan Kutt…</td><td>&quot;Rajasthan Roya…</td><td>57</td><td>null</td><td>&quot;YBK Jaiswal&quot;</td></tr><tr><td>2023</td><td>&quot;08-04-2023&quot;</td><td>12</td><td>&quot;Group&quot;</td><td>&quot;Wankhede Stadi…</td><td>&quot;Mumbai&quot;</td><td>&quot;Mumbai Indians…</td><td>&quot;Chennai Super …</td><td>&quot;Chennai Super …</td><td>&quot;field&quot;</td><td>&quot;CB Gaffaney&quot;</td><td>&quot;NA Patwardhan&quot;</td><td>&quot;M Kuppuraj&quot;</td><td>&quot;DS Manohar&quot;</td><td>&quot;Chennai Super …</td><td>null</td><td>7</td><td>&quot;RA Jadeja&quot;</td></tr><tr><td>&hellip;</td><td>&hellip;</td><td>&hellip;</td><td>&hellip;</td><td>&hellip;</td><td>&hellip;</td><td>&hellip;</td><td>&hellip;</td><td>&hellip;</td><td>&hellip;</td><td>&hellip;</td><td>&hellip;</td><td>&hellip;</td><td>&hellip;</td><td>&hellip;</td><td>&hellip;</td><td>&hellip;</td><td>&hellip;</td></tr><tr><td>2023</td><td>&quot;16-05-2023&quot;</td><td>63</td><td>&quot;Group&quot;</td><td>&quot;Bharat Ratna S…</td><td>&quot;Lucknow&quot;</td><td>&quot;Lucknow Super …</td><td>&quot;Mumbai Indians…</td><td>&quot;Mumbai Indians…</td><td>&quot;field&quot;</td><td>&quot;AK Chaudhary&quot;</td><td>&quot;A Nand Kishore…</td><td>&quot;M Krishnadas&quot;</td><td>&quot;Sanjay Verma&quot;</td><td>&quot;Lucknow Super …</td><td>5</td><td>null</td><td>&quot;MP Stoinis&quot;</td></tr><tr><td>2023</td><td>&quot;17-05-2023&quot;</td><td>64</td><td>&quot;Group&quot;</td><td>&quot;Himachal Prade…</td><td>&quot;Dharamsala&quot;</td><td>&quot;Delhi Capitals…</td><td>&quot;Punjab Kings&quot;</td><td>&quot;Punjab Kings&quot;</td><td>&quot;field&quot;</td><td>&quot;KN Ananthapadm…</td><td>&quot;MV Saidharshan…</td><td>&quot;P Joshi&quot;</td><td>&quot;P Dharmani&quot;</td><td>&quot;Delhi Capitals…</td><td>15</td><td>null</td><td>&quot;RR Rossouw&quot;</td></tr><tr><td>2023</td><td>&quot;18-05-2023&quot;</td><td>65</td><td>&quot;Group&quot;</td><td>&quot;Rajiv Gandhi I…</td><td>&quot;Hyderabad&quot;</td><td>&quot;Sunrisers Hyde…</td><td>&quot;Royal Challeng…</td><td>&quot;Royal Challeng…</td><td>&quot;field&quot;</td><td>&quot;BNJ Oxenford&quot;</td><td>&quot;VK Sharma&quot;</td><td>&quot;VM Dhokre&quot;</td><td>&quot;J Srinath&quot;</td><td>&quot;Royal Challeng…</td><td>null</td><td>8</td><td>&quot;V Kohli&quot;</td></tr><tr><td>2023</td><td>&quot;19-05-2023&quot;</td><td>66</td><td>&quot;Group&quot;</td><td>&quot;Himachal Prade…</td><td>&quot;Dharamsala&quot;</td><td>&quot;Punjab Kings&quot;</td><td>&quot;Rajasthan Roya…</td><td>&quot;Rajasthan Roya…</td><td>&quot;field&quot;</td><td>&quot;A Nand Kishore…</td><td>&quot;RJ Tucker&quot;</td><td>&quot;P Joshi&quot;</td><td>&quot;P Dharmani&quot;</td><td>&quot;Rajasthan Roya…</td><td>null</td><td>4</td><td>&quot;D Padikkal&quot;</td></tr><tr><td>2023</td><td>&quot;20-05-2023&quot;</td><td>67</td><td>&quot;Group&quot;</td><td>&quot;Arun Jaitley S…</td><td>&quot;Delhi&quot;</td><td>&quot;Chennai Super …</td><td>&quot;Delhi Capitals…</td><td>&quot;Chennai Super …</td><td>&quot;bat&quot;</td><td>&quot;CB Gaffaney&quot;</td><td>&quot;NA Patwardhan&quot;</td><td>&quot;M Krishnadas&quot;</td><td>&quot;Sanjay Verma&quot;</td><td>&quot;Chennai Super …</td><td>77</td><td>null</td><td>&quot;RD Gaikwad&quot;</td></tr><tr><td>2023</td><td>&quot;20-05-2023&quot;</td><td>68</td><td>&quot;Group&quot;</td><td>&quot;Eden Gardens&quot;</td><td>&quot;Kolkata&quot;</td><td>&quot;Lucknow Super …</td><td>&quot;Kolkata Knight…</td><td>&quot;Kolkata Knight…</td><td>&quot;field&quot;</td><td>&quot;J Madanagopal&quot;</td><td>&quot;UV Gandhe&quot;</td><td>&quot;Mohamad Rafi&quot;</td><td>&quot;M Nayyar&quot;</td><td>&quot;Lucknow Super …</td><td>1</td><td>null</td><td>&quot;N Pooran&quot;</td></tr><tr><td>2023</td><td>&quot;21-05-2023&quot;</td><td>69</td><td>&quot;Group&quot;</td><td>&quot;Wankhede Stadi…</td><td>&quot;Mumbai&quot;</td><td>&quot;Sunrisers Hyde…</td><td>&quot;Mumbai Indians…</td><td>&quot;Mumbai Indians…</td><td>&quot;field&quot;</td><td>&quot;KN Ananthapadm…</td><td>&quot;RJ Tucker&quot;</td><td>&quot;P Joshi&quot;</td><td>&quot;P Dharmani&quot;</td><td>&quot;Mumbai Indians…</td><td>null</td><td>8</td><td>&quot;C Green&quot;</td></tr><tr><td>2023</td><td>&quot;21-05-2023&quot;</td><td>70</td><td>&quot;Group&quot;</td><td>&quot;M Chinnaswamy …</td><td>&quot;Bengaluru&quot;</td><td>&quot;Royal Challeng…</td><td>&quot;Gujarat Titans…</td><td>&quot;Gujarat Titans…</td><td>&quot;field&quot;</td><td>&quot;Nitin Menon&quot;</td><td>&quot;VK Sharma&quot;</td><td>&quot;VM Dhokre&quot;</td><td>&quot;J Srinath&quot;</td><td>&quot;Gujarat Titans…</td><td>null</td><td>6</td><td>&quot;Shubman Gill&quot;</td></tr><tr><td>2023</td><td>&quot;23-05-2023&quot;</td><td>71</td><td>&quot;Qualifier&quot;</td><td>&quot;MA Chidambaram…</td><td>&quot;Chennai&quot;</td><td>&quot;Chennai Super …</td><td>&quot;Gujarat Titans…</td><td>&quot;Gujarat Titans…</td><td>&quot;field&quot;</td><td>&quot;AK Chaudhary&quot;</td><td>&quot;CB Gaffaney&quot;</td><td>&quot;VK Sharma&quot;</td><td>&quot;M Nayyar&quot;</td><td>&quot;Chennai Super …</td><td>15</td><td>null</td><td>&quot;RD Gaikwad&quot;</td></tr><tr><td>2023</td><td>&quot;24-05-2023&quot;</td><td>72</td><td>&quot;Eliminator&quot;</td><td>&quot;MA Chidambaram…</td><td>&quot;Chennai&quot;</td><td>&quot;Mumbai Indians…</td><td>&quot;Lucknow Super …</td><td>&quot;Mumbai Indians…</td><td>&quot;bat&quot;</td><td>&quot;BNJ Oxenford&quot;</td><td>&quot;VK Sharma&quot;</td><td>&quot;AK Chaudhary&quot;</td><td>&quot;V Narayan Kutt…</td><td>&quot;Mumbai Indians…</td><td>81</td><td>null</td><td>&quot;Akash Madhwal&quot;</td></tr><tr><td>2023</td><td>&quot;26-05-2023&quot;</td><td>73</td><td>&quot;Qualifier&quot;</td><td>&quot;Narendra Modi …</td><td>&quot;Ahmedabad&quot;</td><td>&quot;Gujarat Titans…</td><td>&quot;Mumbai Indians…</td><td>&quot;Mumbai Indians…</td><td>&quot;field&quot;</td><td>&quot;Nitin Menon&quot;</td><td>&quot;RJ Tucker&quot;</td><td>&quot;KN Ananthapadm…</td><td>&quot;J Srinath&quot;</td><td>&quot;Gujarat Titans…</td><td>62</td><td>null</td><td>&quot;Shubman Gill&quot;</td></tr><tr><td>2023</td><td>&quot;29-05-2023&quot;</td><td>74</td><td>&quot;Final&quot;</td><td>&quot;Narendra Modi …</td><td>&quot;Ahmedabad&quot;</td><td>&quot;Chennai Super …</td><td>&quot;Gujarat Titans…</td><td>&quot;Chennai Super …</td><td>&quot;field&quot;</td><td>&quot;Nitin Menon&quot;</td><td>&quot;RJ Tucker&quot;</td><td>&quot;J Madanagopal&quot;</td><td>&quot;J Srinath&quot;</td><td>&quot;Chennai Super …</td><td>null</td><td>5</td><td>&quot;DP Conway&quot;</td></tr></tbody></table></div>"
      ],
      "text/plain": [
       "shape: (74, 18)\n",
       "┌────────┬───────────┬────────────┬──────────┬───┬───────────┬───────────┬────────────┬────────────┐\n",
       "│ season ┆ date      ┆ match_numb ┆ match_ty ┆ … ┆ winner    ┆ winner_ru ┆ winner_wic ┆ man_of_mat │\n",
       "│ ---    ┆ ---       ┆ er         ┆ pe       ┆   ┆ ---       ┆ ns        ┆ kets       ┆ ch         │\n",
       "│ i64    ┆ str       ┆ ---        ┆ ---      ┆   ┆ str       ┆ ---       ┆ ---        ┆ ---        │\n",
       "│        ┆           ┆ i64        ┆ str      ┆   ┆           ┆ i64       ┆ i64        ┆ str        │\n",
       "╞════════╪═══════════╪════════════╪══════════╪═══╪═══════════╪═══════════╪════════════╪════════════╡\n",
       "│ 2023   ┆ 31-03-202 ┆ 1          ┆ Group    ┆ … ┆ Gujarat   ┆ null      ┆ 5          ┆ Rashid     │\n",
       "│        ┆ 3         ┆            ┆          ┆   ┆ Titans    ┆           ┆            ┆ Khan       │\n",
       "│ 2023   ┆ 01-04-202 ┆ 2          ┆ Group    ┆ … ┆ Punjab    ┆ 7         ┆ null       ┆ Arshdeep   │\n",
       "│        ┆ 3         ┆            ┆          ┆   ┆ Kings     ┆           ┆            ┆ Singh      │\n",
       "│ 2023   ┆ 01-04-202 ┆ 3          ┆ Group    ┆ … ┆ Lucknow   ┆ 50        ┆ null       ┆ MA Wood    │\n",
       "│        ┆ 3         ┆            ┆          ┆   ┆ Super     ┆           ┆            ┆            │\n",
       "│        ┆           ┆            ┆          ┆   ┆ Giants    ┆           ┆            ┆            │\n",
       "│ 2023   ┆ 02-04-202 ┆ 4          ┆ Group    ┆ … ┆ Rajasthan ┆ 72        ┆ null       ┆ JC Buttler │\n",
       "│        ┆ 3         ┆            ┆          ┆   ┆ Royals    ┆           ┆            ┆            │\n",
       "│ …      ┆ …         ┆ …          ┆ …        ┆ … ┆ …         ┆ …         ┆ …          ┆ …          │\n",
       "│ 2023   ┆ 23-05-202 ┆ 71         ┆ Qualifie ┆ … ┆ Chennai   ┆ 15        ┆ null       ┆ RD Gaikwad │\n",
       "│        ┆ 3         ┆            ┆ r        ┆   ┆ Super     ┆           ┆            ┆            │\n",
       "│        ┆           ┆            ┆          ┆   ┆ Kings     ┆           ┆            ┆            │\n",
       "│ 2023   ┆ 24-05-202 ┆ 72         ┆ Eliminat ┆ … ┆ Mumbai    ┆ 81        ┆ null       ┆ Akash      │\n",
       "│        ┆ 3         ┆            ┆ or       ┆   ┆ Indians   ┆           ┆            ┆ Madhwal    │\n",
       "│ 2023   ┆ 26-05-202 ┆ 73         ┆ Qualifie ┆ … ┆ Gujarat   ┆ 62        ┆ null       ┆ Shubman    │\n",
       "│        ┆ 3         ┆            ┆ r        ┆   ┆ Titans    ┆           ┆            ┆ Gill       │\n",
       "│ 2023   ┆ 29-05-202 ┆ 74         ┆ Final    ┆ … ┆ Chennai   ┆ null      ┆ 5          ┆ DP Conway  │\n",
       "│        ┆ 3         ┆            ┆          ┆   ┆ Super     ┆           ┆            ┆            │\n",
       "│        ┆           ┆            ┆          ┆   ┆ Kings     ┆           ┆            ┆            │\n",
       "└────────┴───────────┴────────────┴──────────┴───┴───────────┴───────────┴────────────┴────────────┘"
      ]
     },
     "execution_count": 2,
     "metadata": {},
     "output_type": "execute_result"
    }
   ],
   "source": [
    "matches=pl.read_csv(\"each_match_records.csv\")\n",
    "matches"
   ]
  },
  {
   "cell_type": "code",
   "execution_count": 3,
   "metadata": {},
   "outputs": [
    {
     "data": {
      "text/html": [
       "<div><style>\n",
       ".dataframe > thead > tr > th,\n",
       ".dataframe > tbody > tr > td {\n",
       "  text-align: right;\n",
       "}\n",
       "</style>\n",
       "<small>shape: (74, 4)</small><table border=\"1\" class=\"dataframe\"><thead><tr><th>toss_won</th><th>toss_decision</th><th>city</th><th>match_id</th></tr><tr><td>str</td><td>str</td><td>str</td><td>i64</td></tr></thead><tbody><tr><td>&quot;Gujarat Titans…</td><td>&quot;field&quot;</td><td>&quot;Ahmedabad&quot;</td><td>1</td></tr><tr><td>&quot;Kolkata Knight…</td><td>&quot;field&quot;</td><td>&quot;Chandigarh&quot;</td><td>2</td></tr><tr><td>&quot;Delhi Capitals…</td><td>&quot;field&quot;</td><td>&quot;Lucknow&quot;</td><td>3</td></tr><tr><td>&quot;Sunrisers Hyde…</td><td>&quot;field&quot;</td><td>&quot;Hyderabad&quot;</td><td>4</td></tr><tr><td>&quot;Royal Challeng…</td><td>&quot;field&quot;</td><td>&quot;Bengaluru&quot;</td><td>5</td></tr><tr><td>&quot;Lucknow Super …</td><td>&quot;field&quot;</td><td>&quot;Chennai&quot;</td><td>6</td></tr><tr><td>&quot;Gujarat Titans…</td><td>&quot;field&quot;</td><td>&quot;Delhi&quot;</td><td>7</td></tr><tr><td>&quot;Rajasthan Roya…</td><td>&quot;field&quot;</td><td>&quot;Guwahati&quot;</td><td>8</td></tr><tr><td>&quot;Royal Challeng…</td><td>&quot;field&quot;</td><td>&quot;Kolkata&quot;</td><td>9</td></tr><tr><td>&quot;Sunrisers Hyde…</td><td>&quot;bat&quot;</td><td>&quot;Lucknow&quot;</td><td>10</td></tr><tr><td>&quot;Delhi Capitals…</td><td>&quot;field&quot;</td><td>&quot;Guwahati&quot;</td><td>11</td></tr><tr><td>&quot;Chennai Super …</td><td>&quot;field&quot;</td><td>&quot;Mumbai&quot;</td><td>12</td></tr><tr><td>&hellip;</td><td>&hellip;</td><td>&hellip;</td><td>&hellip;</td></tr><tr><td>&quot;Mumbai Indians…</td><td>&quot;field&quot;</td><td>&quot;Lucknow&quot;</td><td>63</td></tr><tr><td>&quot;Punjab Kings&quot;</td><td>&quot;field&quot;</td><td>&quot;Dharamsala&quot;</td><td>64</td></tr><tr><td>&quot;Royal Challeng…</td><td>&quot;field&quot;</td><td>&quot;Hyderabad&quot;</td><td>65</td></tr><tr><td>&quot;Rajasthan Roya…</td><td>&quot;field&quot;</td><td>&quot;Dharamsala&quot;</td><td>66</td></tr><tr><td>&quot;Chennai Super …</td><td>&quot;bat&quot;</td><td>&quot;Delhi&quot;</td><td>67</td></tr><tr><td>&quot;Kolkata Knight…</td><td>&quot;field&quot;</td><td>&quot;Kolkata&quot;</td><td>68</td></tr><tr><td>&quot;Mumbai Indians…</td><td>&quot;field&quot;</td><td>&quot;Mumbai&quot;</td><td>69</td></tr><tr><td>&quot;Gujarat Titans…</td><td>&quot;field&quot;</td><td>&quot;Bengaluru&quot;</td><td>70</td></tr><tr><td>&quot;Gujarat Titans…</td><td>&quot;field&quot;</td><td>&quot;Chennai&quot;</td><td>71</td></tr><tr><td>&quot;Mumbai Indians…</td><td>&quot;bat&quot;</td><td>&quot;Chennai&quot;</td><td>72</td></tr><tr><td>&quot;Mumbai Indians…</td><td>&quot;field&quot;</td><td>&quot;Ahmedabad&quot;</td><td>73</td></tr><tr><td>&quot;Chennai Super …</td><td>&quot;field&quot;</td><td>&quot;Ahmedabad&quot;</td><td>74</td></tr></tbody></table></div>"
      ],
      "text/plain": [
       "shape: (74, 4)\n",
       "┌───────────────────────┬───────────────┬────────────┬──────────┐\n",
       "│ toss_won              ┆ toss_decision ┆ city       ┆ match_id │\n",
       "│ ---                   ┆ ---           ┆ ---        ┆ ---      │\n",
       "│ str                   ┆ str           ┆ str        ┆ i64      │\n",
       "╞═══════════════════════╪═══════════════╪════════════╪══════════╡\n",
       "│ Gujarat Titans        ┆ field         ┆ Ahmedabad  ┆ 1        │\n",
       "│ Kolkata Knight Riders ┆ field         ┆ Chandigarh ┆ 2        │\n",
       "│ Delhi Capitals        ┆ field         ┆ Lucknow    ┆ 3        │\n",
       "│ Sunrisers Hyderabad   ┆ field         ┆ Hyderabad  ┆ 4        │\n",
       "│ …                     ┆ …             ┆ …          ┆ …        │\n",
       "│ Gujarat Titans        ┆ field         ┆ Chennai    ┆ 71       │\n",
       "│ Mumbai Indians        ┆ bat           ┆ Chennai    ┆ 72       │\n",
       "│ Mumbai Indians        ┆ field         ┆ Ahmedabad  ┆ 73       │\n",
       "│ Chennai Super Kings   ┆ field         ┆ Ahmedabad  ┆ 74       │\n",
       "└───────────────────────┴───────────────┴────────────┴──────────┘"
      ]
     },
     "execution_count": 3,
     "metadata": {},
     "output_type": "execute_result"
    }
   ],
   "source": [
    "matches=matches.drop(\"season\",\"date\",\"match_type\",\"venue\",\"team1\",\"team2\",\"umpire1\",\"umpire2\",\"reserve_umpire\",\"match_referee\",\"winner\",\"winner_runs\",\"winner_wickets\",\"man_of_match\").with_columns(pl.col(\"location\").alias(\"city\"),(pl.col(\"match_number\")).alias(\"match_id\")).drop(\"match_number\",\"location\")\n",
    "matches"
   ]
  },
  {
   "cell_type": "code",
   "execution_count": 4,
   "metadata": {},
   "outputs": [
    {
     "data": {
      "text/html": [
       "<div><style>\n",
       ".dataframe > thead > tr > th,\n",
       ".dataframe > tbody > tr > td {\n",
       "  text-align: right;\n",
       "}\n",
       "</style>\n",
       "<small>shape: (243_815, 22)</small><table border=\"1\" class=\"dataframe\"><thead><tr><th>match_id</th><th>season</th><th>start_date</th><th>venue</th><th>innings</th><th>ball</th><th>batting_team</th><th>bowling_team</th><th>striker</th><th>non_striker</th><th>bowler</th><th>runs_off_bat</th><th>extras</th><th>wides</th><th>noballs</th><th>byes</th><th>legbyes</th><th>penalty</th><th>wicket_type</th><th>player_dismissed</th><th>other_wicket_type</th><th>other_player_dismissed</th></tr><tr><td>i64</td><td>i64</td><td>str</td><td>str</td><td>i64</td><td>f64</td><td>str</td><td>str</td><td>str</td><td>str</td><td>str</td><td>i64</td><td>i64</td><td>i64</td><td>str</td><td>i64</td><td>i64</td><td>str</td><td>str</td><td>str</td><td>str</td><td>str</td></tr></thead><tbody><tr><td>335982</td><td>2008</td><td>&quot;18-04-2008&quot;</td><td>&quot;M Chinnaswamy …</td><td>1</td><td>0.1</td><td>&quot;Kolkata Knight…</td><td>&quot;Royal Challeng…</td><td>&quot;SC Ganguly&quot;</td><td>&quot;BB McCullum&quot;</td><td>&quot;P Kumar&quot;</td><td>0</td><td>1</td><td>null</td><td>null</td><td>null</td><td>1</td><td>null</td><td>null</td><td>null</td><td>null</td><td>null</td></tr><tr><td>335982</td><td>2008</td><td>&quot;18-04-2008&quot;</td><td>&quot;M Chinnaswamy …</td><td>1</td><td>0.2</td><td>&quot;Kolkata Knight…</td><td>&quot;Royal Challeng…</td><td>&quot;BB McCullum&quot;</td><td>&quot;SC Ganguly&quot;</td><td>&quot;P Kumar&quot;</td><td>0</td><td>0</td><td>null</td><td>null</td><td>null</td><td>null</td><td>null</td><td>null</td><td>null</td><td>null</td><td>null</td></tr><tr><td>335982</td><td>2008</td><td>&quot;18-04-2008&quot;</td><td>&quot;M Chinnaswamy …</td><td>1</td><td>0.3</td><td>&quot;Kolkata Knight…</td><td>&quot;Royal Challeng…</td><td>&quot;BB McCullum&quot;</td><td>&quot;SC Ganguly&quot;</td><td>&quot;P Kumar&quot;</td><td>0</td><td>1</td><td>1</td><td>null</td><td>null</td><td>null</td><td>null</td><td>null</td><td>null</td><td>null</td><td>null</td></tr><tr><td>335982</td><td>2008</td><td>&quot;18-04-2008&quot;</td><td>&quot;M Chinnaswamy …</td><td>1</td><td>0.4</td><td>&quot;Kolkata Knight…</td><td>&quot;Royal Challeng…</td><td>&quot;BB McCullum&quot;</td><td>&quot;SC Ganguly&quot;</td><td>&quot;P Kumar&quot;</td><td>0</td><td>0</td><td>null</td><td>null</td><td>null</td><td>null</td><td>null</td><td>null</td><td>null</td><td>null</td><td>null</td></tr><tr><td>335982</td><td>2008</td><td>&quot;18-04-2008&quot;</td><td>&quot;M Chinnaswamy …</td><td>1</td><td>0.5</td><td>&quot;Kolkata Knight…</td><td>&quot;Royal Challeng…</td><td>&quot;BB McCullum&quot;</td><td>&quot;SC Ganguly&quot;</td><td>&quot;P Kumar&quot;</td><td>0</td><td>0</td><td>null</td><td>null</td><td>null</td><td>null</td><td>null</td><td>null</td><td>null</td><td>null</td><td>null</td></tr><tr><td>335982</td><td>2008</td><td>&quot;18-04-2008&quot;</td><td>&quot;M Chinnaswamy …</td><td>1</td><td>0.6</td><td>&quot;Kolkata Knight…</td><td>&quot;Royal Challeng…</td><td>&quot;BB McCullum&quot;</td><td>&quot;SC Ganguly&quot;</td><td>&quot;P Kumar&quot;</td><td>0</td><td>0</td><td>null</td><td>null</td><td>null</td><td>null</td><td>null</td><td>null</td><td>null</td><td>null</td><td>null</td></tr><tr><td>335982</td><td>2008</td><td>&quot;18-04-2008&quot;</td><td>&quot;M Chinnaswamy …</td><td>1</td><td>0.7</td><td>&quot;Kolkata Knight…</td><td>&quot;Royal Challeng…</td><td>&quot;BB McCullum&quot;</td><td>&quot;SC Ganguly&quot;</td><td>&quot;P Kumar&quot;</td><td>0</td><td>1</td><td>null</td><td>null</td><td>null</td><td>1</td><td>null</td><td>null</td><td>null</td><td>null</td><td>null</td></tr><tr><td>335982</td><td>2008</td><td>&quot;18-04-2008&quot;</td><td>&quot;M Chinnaswamy …</td><td>1</td><td>1.1</td><td>&quot;Kolkata Knight…</td><td>&quot;Royal Challeng…</td><td>&quot;BB McCullum&quot;</td><td>&quot;SC Ganguly&quot;</td><td>&quot;Z Khan&quot;</td><td>0</td><td>0</td><td>null</td><td>null</td><td>null</td><td>null</td><td>null</td><td>null</td><td>null</td><td>null</td><td>null</td></tr><tr><td>335982</td><td>2008</td><td>&quot;18-04-2008&quot;</td><td>&quot;M Chinnaswamy …</td><td>1</td><td>1.2</td><td>&quot;Kolkata Knight…</td><td>&quot;Royal Challeng…</td><td>&quot;BB McCullum&quot;</td><td>&quot;SC Ganguly&quot;</td><td>&quot;Z Khan&quot;</td><td>4</td><td>0</td><td>null</td><td>null</td><td>null</td><td>null</td><td>null</td><td>null</td><td>null</td><td>null</td><td>null</td></tr><tr><td>335982</td><td>2008</td><td>&quot;18-04-2008&quot;</td><td>&quot;M Chinnaswamy …</td><td>1</td><td>1.3</td><td>&quot;Kolkata Knight…</td><td>&quot;Royal Challeng…</td><td>&quot;BB McCullum&quot;</td><td>&quot;SC Ganguly&quot;</td><td>&quot;Z Khan&quot;</td><td>4</td><td>0</td><td>null</td><td>null</td><td>null</td><td>null</td><td>null</td><td>null</td><td>null</td><td>null</td><td>null</td></tr><tr><td>335982</td><td>2008</td><td>&quot;18-04-2008&quot;</td><td>&quot;M Chinnaswamy …</td><td>1</td><td>1.4</td><td>&quot;Kolkata Knight…</td><td>&quot;Royal Challeng…</td><td>&quot;BB McCullum&quot;</td><td>&quot;SC Ganguly&quot;</td><td>&quot;Z Khan&quot;</td><td>6</td><td>0</td><td>null</td><td>null</td><td>null</td><td>null</td><td>null</td><td>null</td><td>null</td><td>null</td><td>null</td></tr><tr><td>335982</td><td>2008</td><td>&quot;18-04-2008&quot;</td><td>&quot;M Chinnaswamy …</td><td>1</td><td>1.5</td><td>&quot;Kolkata Knight…</td><td>&quot;Royal Challeng…</td><td>&quot;BB McCullum&quot;</td><td>&quot;SC Ganguly&quot;</td><td>&quot;Z Khan&quot;</td><td>4</td><td>0</td><td>null</td><td>null</td><td>null</td><td>null</td><td>null</td><td>null</td><td>null</td><td>null</td><td>null</td></tr><tr><td>&hellip;</td><td>&hellip;</td><td>&hellip;</td><td>&hellip;</td><td>&hellip;</td><td>&hellip;</td><td>&hellip;</td><td>&hellip;</td><td>&hellip;</td><td>&hellip;</td><td>&hellip;</td><td>&hellip;</td><td>&hellip;</td><td>&hellip;</td><td>&hellip;</td><td>&hellip;</td><td>&hellip;</td><td>&hellip;</td><td>&hellip;</td><td>&hellip;</td><td>&hellip;</td><td>&hellip;</td></tr><tr><td>1370353</td><td>2023</td><td>&quot;29-05-2023&quot;</td><td>&quot;Narendra Modi …</td><td>2</td><td>13.1</td><td>&quot;Chennai Super …</td><td>&quot;Gujarat Titans…</td><td>&quot;RA Jadeja&quot;</td><td>&quot;S Dube&quot;</td><td>&quot;Mohammed Shami…</td><td>1</td><td>0</td><td>null</td><td>null</td><td>null</td><td>null</td><td>null</td><td>null</td><td>null</td><td>null</td><td>null</td></tr><tr><td>1370353</td><td>2023</td><td>&quot;29-05-2023&quot;</td><td>&quot;Narendra Modi …</td><td>2</td><td>13.2</td><td>&quot;Chennai Super …</td><td>&quot;Gujarat Titans…</td><td>&quot;S Dube&quot;</td><td>&quot;RA Jadeja&quot;</td><td>&quot;Mohammed Shami…</td><td>0</td><td>0</td><td>null</td><td>null</td><td>null</td><td>null</td><td>null</td><td>null</td><td>null</td><td>null</td><td>null</td></tr><tr><td>1370353</td><td>2023</td><td>&quot;29-05-2023&quot;</td><td>&quot;Narendra Modi …</td><td>2</td><td>13.3</td><td>&quot;Chennai Super …</td><td>&quot;Gujarat Titans…</td><td>&quot;S Dube&quot;</td><td>&quot;RA Jadeja&quot;</td><td>&quot;Mohammed Shami…</td><td>2</td><td>0</td><td>null</td><td>null</td><td>null</td><td>null</td><td>null</td><td>null</td><td>null</td><td>null</td><td>null</td></tr><tr><td>1370353</td><td>2023</td><td>&quot;29-05-2023&quot;</td><td>&quot;Narendra Modi …</td><td>2</td><td>13.4</td><td>&quot;Chennai Super …</td><td>&quot;Gujarat Titans…</td><td>&quot;S Dube&quot;</td><td>&quot;RA Jadeja&quot;</td><td>&quot;Mohammed Shami…</td><td>2</td><td>0</td><td>null</td><td>null</td><td>null</td><td>null</td><td>null</td><td>null</td><td>null</td><td>null</td><td>null</td></tr><tr><td>1370353</td><td>2023</td><td>&quot;29-05-2023&quot;</td><td>&quot;Narendra Modi …</td><td>2</td><td>13.5</td><td>&quot;Chennai Super …</td><td>&quot;Gujarat Titans…</td><td>&quot;S Dube&quot;</td><td>&quot;RA Jadeja&quot;</td><td>&quot;Mohammed Shami…</td><td>1</td><td>0</td><td>null</td><td>null</td><td>null</td><td>null</td><td>null</td><td>null</td><td>null</td><td>null</td><td>null</td></tr><tr><td>1370353</td><td>2023</td><td>&quot;29-05-2023&quot;</td><td>&quot;Narendra Modi …</td><td>2</td><td>13.6</td><td>&quot;Chennai Super …</td><td>&quot;Gujarat Titans…</td><td>&quot;RA Jadeja&quot;</td><td>&quot;S Dube&quot;</td><td>&quot;Mohammed Shami…</td><td>2</td><td>0</td><td>null</td><td>null</td><td>null</td><td>null</td><td>null</td><td>null</td><td>null</td><td>null</td><td>null</td></tr><tr><td>1370353</td><td>2023</td><td>&quot;29-05-2023&quot;</td><td>&quot;Narendra Modi …</td><td>2</td><td>14.1</td><td>&quot;Chennai Super …</td><td>&quot;Gujarat Titans…</td><td>&quot;S Dube&quot;</td><td>&quot;RA Jadeja&quot;</td><td>&quot;MM Sharma&quot;</td><td>0</td><td>0</td><td>null</td><td>null</td><td>null</td><td>null</td><td>null</td><td>null</td><td>null</td><td>null</td><td>null</td></tr><tr><td>1370353</td><td>2023</td><td>&quot;29-05-2023&quot;</td><td>&quot;Narendra Modi …</td><td>2</td><td>14.2</td><td>&quot;Chennai Super …</td><td>&quot;Gujarat Titans…</td><td>&quot;S Dube&quot;</td><td>&quot;RA Jadeja&quot;</td><td>&quot;MM Sharma&quot;</td><td>1</td><td>0</td><td>null</td><td>null</td><td>null</td><td>null</td><td>null</td><td>null</td><td>null</td><td>null</td><td>null</td></tr><tr><td>1370353</td><td>2023</td><td>&quot;29-05-2023&quot;</td><td>&quot;Narendra Modi …</td><td>2</td><td>14.3</td><td>&quot;Chennai Super …</td><td>&quot;Gujarat Titans…</td><td>&quot;RA Jadeja&quot;</td><td>&quot;S Dube&quot;</td><td>&quot;MM Sharma&quot;</td><td>1</td><td>0</td><td>null</td><td>null</td><td>null</td><td>null</td><td>null</td><td>null</td><td>null</td><td>null</td><td>null</td></tr><tr><td>1370353</td><td>2023</td><td>&quot;29-05-2023&quot;</td><td>&quot;Narendra Modi …</td><td>2</td><td>14.4</td><td>&quot;Chennai Super …</td><td>&quot;Gujarat Titans…</td><td>&quot;S Dube&quot;</td><td>&quot;RA Jadeja&quot;</td><td>&quot;MM Sharma&quot;</td><td>1</td><td>0</td><td>null</td><td>null</td><td>null</td><td>null</td><td>null</td><td>null</td><td>null</td><td>null</td><td>null</td></tr><tr><td>1370353</td><td>2023</td><td>&quot;29-05-2023&quot;</td><td>&quot;Narendra Modi …</td><td>2</td><td>14.5</td><td>&quot;Chennai Super …</td><td>&quot;Gujarat Titans…</td><td>&quot;RA Jadeja&quot;</td><td>&quot;S Dube&quot;</td><td>&quot;MM Sharma&quot;</td><td>6</td><td>0</td><td>null</td><td>null</td><td>null</td><td>null</td><td>null</td><td>null</td><td>null</td><td>null</td><td>null</td></tr><tr><td>1370353</td><td>2023</td><td>&quot;29-05-2023&quot;</td><td>&quot;Narendra Modi …</td><td>2</td><td>14.6</td><td>&quot;Chennai Super …</td><td>&quot;Gujarat Titans…</td><td>&quot;RA Jadeja&quot;</td><td>&quot;S Dube&quot;</td><td>&quot;MM Sharma&quot;</td><td>4</td><td>0</td><td>null</td><td>null</td><td>null</td><td>null</td><td>null</td><td>null</td><td>null</td><td>null</td><td>null</td></tr></tbody></table></div>"
      ],
      "text/plain": [
       "shape: (243_815, 22)\n",
       "┌──────────┬────────┬──────────┬────────────┬───┬───────────┬────────────┬────────────┬────────────┐\n",
       "│ match_id ┆ season ┆ start_da ┆ venue      ┆ … ┆ wicket_ty ┆ player_dis ┆ other_wick ┆ other_play │\n",
       "│ ---      ┆ ---    ┆ te       ┆ ---        ┆   ┆ pe        ┆ missed     ┆ et_type    ┆ er_dismiss │\n",
       "│ i64      ┆ i64    ┆ ---      ┆ str        ┆   ┆ ---       ┆ ---        ┆ ---        ┆ ed         │\n",
       "│          ┆        ┆ str      ┆            ┆   ┆ str       ┆ str        ┆ str        ┆ ---        │\n",
       "│          ┆        ┆          ┆            ┆   ┆           ┆            ┆            ┆ str        │\n",
       "╞══════════╪════════╪══════════╪════════════╪═══╪═══════════╪════════════╪════════════╪════════════╡\n",
       "│ 335982   ┆ 2008   ┆ 18-04-20 ┆ M Chinnasw ┆ … ┆ null      ┆ null       ┆ null       ┆ null       │\n",
       "│          ┆        ┆ 08       ┆ amy        ┆   ┆           ┆            ┆            ┆            │\n",
       "│          ┆        ┆          ┆ Stadium    ┆   ┆           ┆            ┆            ┆            │\n",
       "│ 335982   ┆ 2008   ┆ 18-04-20 ┆ M Chinnasw ┆ … ┆ null      ┆ null       ┆ null       ┆ null       │\n",
       "│          ┆        ┆ 08       ┆ amy        ┆   ┆           ┆            ┆            ┆            │\n",
       "│          ┆        ┆          ┆ Stadium    ┆   ┆           ┆            ┆            ┆            │\n",
       "│ 335982   ┆ 2008   ┆ 18-04-20 ┆ M Chinnasw ┆ … ┆ null      ┆ null       ┆ null       ┆ null       │\n",
       "│          ┆        ┆ 08       ┆ amy        ┆   ┆           ┆            ┆            ┆            │\n",
       "│          ┆        ┆          ┆ Stadium    ┆   ┆           ┆            ┆            ┆            │\n",
       "│ 335982   ┆ 2008   ┆ 18-04-20 ┆ M Chinnasw ┆ … ┆ null      ┆ null       ┆ null       ┆ null       │\n",
       "│          ┆        ┆ 08       ┆ amy        ┆   ┆           ┆            ┆            ┆            │\n",
       "│          ┆        ┆          ┆ Stadium    ┆   ┆           ┆            ┆            ┆            │\n",
       "│ …        ┆ …      ┆ …        ┆ …          ┆ … ┆ …         ┆ …          ┆ …          ┆ …          │\n",
       "│ 1370353  ┆ 2023   ┆ 29-05-20 ┆ Narendra   ┆ … ┆ null      ┆ null       ┆ null       ┆ null       │\n",
       "│          ┆        ┆ 23       ┆ Modi       ┆   ┆           ┆            ┆            ┆            │\n",
       "│          ┆        ┆          ┆ Stadium,   ┆   ┆           ┆            ┆            ┆            │\n",
       "│          ┆        ┆          ┆ Ahmedabad  ┆   ┆           ┆            ┆            ┆            │\n",
       "│ 1370353  ┆ 2023   ┆ 29-05-20 ┆ Narendra   ┆ … ┆ null      ┆ null       ┆ null       ┆ null       │\n",
       "│          ┆        ┆ 23       ┆ Modi       ┆   ┆           ┆            ┆            ┆            │\n",
       "│          ┆        ┆          ┆ Stadium,   ┆   ┆           ┆            ┆            ┆            │\n",
       "│          ┆        ┆          ┆ Ahmedabad  ┆   ┆           ┆            ┆            ┆            │\n",
       "│ 1370353  ┆ 2023   ┆ 29-05-20 ┆ Narendra   ┆ … ┆ null      ┆ null       ┆ null       ┆ null       │\n",
       "│          ┆        ┆ 23       ┆ Modi       ┆   ┆           ┆            ┆            ┆            │\n",
       "│          ┆        ┆          ┆ Stadium,   ┆   ┆           ┆            ┆            ┆            │\n",
       "│          ┆        ┆          ┆ Ahmedabad  ┆   ┆           ┆            ┆            ┆            │\n",
       "│ 1370353  ┆ 2023   ┆ 29-05-20 ┆ Narendra   ┆ … ┆ null      ┆ null       ┆ null       ┆ null       │\n",
       "│          ┆        ┆ 23       ┆ Modi       ┆   ┆           ┆            ┆            ┆            │\n",
       "│          ┆        ┆          ┆ Stadium,   ┆   ┆           ┆            ┆            ┆            │\n",
       "│          ┆        ┆          ┆ Ahmedabad  ┆   ┆           ┆            ┆            ┆            │\n",
       "└──────────┴────────┴──────────┴────────────┴───┴───────────┴────────────┴────────────┴────────────┘"
      ]
     },
     "execution_count": 4,
     "metadata": {},
     "output_type": "execute_result"
    }
   ],
   "source": [
    "deliveries =pl.read_csv(\"/workspace/Ravikumar/csv_files/IPL_ball_by_ball_updated.csv\")\n",
    "deliveries"
   ]
  },
  {
   "cell_type": "code",
   "execution_count": 5,
   "metadata": {},
   "outputs": [
    {
     "data": {
      "text/html": [
       "<div><style>\n",
       ".dataframe > thead > tr > th,\n",
       ".dataframe > tbody > tr > td {\n",
       "  text-align: right;\n",
       "}\n",
       "</style>\n",
       "<small>shape: (17_862, 8)</small><table border=\"1\" class=\"dataframe\"><thead><tr><th>match_id</th><th>innings</th><th>ball</th><th>batting_team</th><th>bowling_team</th><th>runs_off_bat</th><th>extras</th><th>player_dismissed</th></tr><tr><td>i64</td><td>i64</td><td>f64</td><td>str</td><td>str</td><td>i64</td><td>i64</td><td>str</td></tr></thead><tbody><tr><td>1359475</td><td>1</td><td>0.1</td><td>&quot;Chennai Super …</td><td>&quot;Gujarat Titans…</td><td>0</td><td>0</td><td>null</td></tr><tr><td>1359475</td><td>1</td><td>0.2</td><td>&quot;Chennai Super …</td><td>&quot;Gujarat Titans…</td><td>0</td><td>1</td><td>null</td></tr><tr><td>1359475</td><td>1</td><td>0.3</td><td>&quot;Chennai Super …</td><td>&quot;Gujarat Titans…</td><td>0</td><td>0</td><td>null</td></tr><tr><td>1359475</td><td>1</td><td>0.4</td><td>&quot;Chennai Super …</td><td>&quot;Gujarat Titans…</td><td>1</td><td>0</td><td>null</td></tr><tr><td>1359475</td><td>1</td><td>0.5</td><td>&quot;Chennai Super …</td><td>&quot;Gujarat Titans…</td><td>0</td><td>0</td><td>null</td></tr><tr><td>1359475</td><td>1</td><td>0.6</td><td>&quot;Chennai Super …</td><td>&quot;Gujarat Titans…</td><td>0</td><td>0</td><td>null</td></tr><tr><td>1359475</td><td>1</td><td>1.1</td><td>&quot;Chennai Super …</td><td>&quot;Gujarat Titans…</td><td>4</td><td>0</td><td>null</td></tr><tr><td>1359475</td><td>1</td><td>1.2</td><td>&quot;Chennai Super …</td><td>&quot;Gujarat Titans…</td><td>0</td><td>0</td><td>null</td></tr><tr><td>1359475</td><td>1</td><td>1.3</td><td>&quot;Chennai Super …</td><td>&quot;Gujarat Titans…</td><td>4</td><td>0</td><td>null</td></tr><tr><td>1359475</td><td>1</td><td>1.4</td><td>&quot;Chennai Super …</td><td>&quot;Gujarat Titans…</td><td>1</td><td>0</td><td>null</td></tr><tr><td>1359475</td><td>1</td><td>1.5</td><td>&quot;Chennai Super …</td><td>&quot;Gujarat Titans…</td><td>1</td><td>0</td><td>null</td></tr><tr><td>1359475</td><td>1</td><td>1.6</td><td>&quot;Chennai Super …</td><td>&quot;Gujarat Titans…</td><td>1</td><td>0</td><td>null</td></tr><tr><td>&hellip;</td><td>&hellip;</td><td>&hellip;</td><td>&hellip;</td><td>&hellip;</td><td>&hellip;</td><td>&hellip;</td><td>&hellip;</td></tr><tr><td>1370353</td><td>2</td><td>13.1</td><td>&quot;Chennai Super …</td><td>&quot;Gujarat Titans…</td><td>1</td><td>0</td><td>null</td></tr><tr><td>1370353</td><td>2</td><td>13.2</td><td>&quot;Chennai Super …</td><td>&quot;Gujarat Titans…</td><td>0</td><td>0</td><td>null</td></tr><tr><td>1370353</td><td>2</td><td>13.3</td><td>&quot;Chennai Super …</td><td>&quot;Gujarat Titans…</td><td>2</td><td>0</td><td>null</td></tr><tr><td>1370353</td><td>2</td><td>13.4</td><td>&quot;Chennai Super …</td><td>&quot;Gujarat Titans…</td><td>2</td><td>0</td><td>null</td></tr><tr><td>1370353</td><td>2</td><td>13.5</td><td>&quot;Chennai Super …</td><td>&quot;Gujarat Titans…</td><td>1</td><td>0</td><td>null</td></tr><tr><td>1370353</td><td>2</td><td>13.6</td><td>&quot;Chennai Super …</td><td>&quot;Gujarat Titans…</td><td>2</td><td>0</td><td>null</td></tr><tr><td>1370353</td><td>2</td><td>14.1</td><td>&quot;Chennai Super …</td><td>&quot;Gujarat Titans…</td><td>0</td><td>0</td><td>null</td></tr><tr><td>1370353</td><td>2</td><td>14.2</td><td>&quot;Chennai Super …</td><td>&quot;Gujarat Titans…</td><td>1</td><td>0</td><td>null</td></tr><tr><td>1370353</td><td>2</td><td>14.3</td><td>&quot;Chennai Super …</td><td>&quot;Gujarat Titans…</td><td>1</td><td>0</td><td>null</td></tr><tr><td>1370353</td><td>2</td><td>14.4</td><td>&quot;Chennai Super …</td><td>&quot;Gujarat Titans…</td><td>1</td><td>0</td><td>null</td></tr><tr><td>1370353</td><td>2</td><td>14.5</td><td>&quot;Chennai Super …</td><td>&quot;Gujarat Titans…</td><td>6</td><td>0</td><td>null</td></tr><tr><td>1370353</td><td>2</td><td>14.6</td><td>&quot;Chennai Super …</td><td>&quot;Gujarat Titans…</td><td>4</td><td>0</td><td>null</td></tr></tbody></table></div>"
      ],
      "text/plain": [
       "shape: (17_862, 8)\n",
       "┌──────────┬─────────┬──────┬───────────────┬───────────────┬──────────────┬────────┬──────────────┐\n",
       "│ match_id ┆ innings ┆ ball ┆ batting_team  ┆ bowling_team  ┆ runs_off_bat ┆ extras ┆ player_dismi │\n",
       "│ ---      ┆ ---     ┆ ---  ┆ ---           ┆ ---           ┆ ---          ┆ ---    ┆ ssed         │\n",
       "│ i64      ┆ i64     ┆ f64  ┆ str           ┆ str           ┆ i64          ┆ i64    ┆ ---          │\n",
       "│          ┆         ┆      ┆               ┆               ┆              ┆        ┆ str          │\n",
       "╞══════════╪═════════╪══════╪═══════════════╪═══════════════╪══════════════╪════════╪══════════════╡\n",
       "│ 1359475  ┆ 1       ┆ 0.1  ┆ Chennai Super ┆ Gujarat       ┆ 0            ┆ 0      ┆ null         │\n",
       "│          ┆         ┆      ┆ Kings         ┆ Titans        ┆              ┆        ┆              │\n",
       "│ 1359475  ┆ 1       ┆ 0.2  ┆ Chennai Super ┆ Gujarat       ┆ 0            ┆ 1      ┆ null         │\n",
       "│          ┆         ┆      ┆ Kings         ┆ Titans        ┆              ┆        ┆              │\n",
       "│ 1359475  ┆ 1       ┆ 0.3  ┆ Chennai Super ┆ Gujarat       ┆ 0            ┆ 0      ┆ null         │\n",
       "│          ┆         ┆      ┆ Kings         ┆ Titans        ┆              ┆        ┆              │\n",
       "│ 1359475  ┆ 1       ┆ 0.4  ┆ Chennai Super ┆ Gujarat       ┆ 1            ┆ 0      ┆ null         │\n",
       "│          ┆         ┆      ┆ Kings         ┆ Titans        ┆              ┆        ┆              │\n",
       "│ …        ┆ …       ┆ …    ┆ …             ┆ …             ┆ …            ┆ …      ┆ …            │\n",
       "│ 1370353  ┆ 2       ┆ 14.3 ┆ Chennai Super ┆ Gujarat       ┆ 1            ┆ 0      ┆ null         │\n",
       "│          ┆         ┆      ┆ Kings         ┆ Titans        ┆              ┆        ┆              │\n",
       "│ 1370353  ┆ 2       ┆ 14.4 ┆ Chennai Super ┆ Gujarat       ┆ 1            ┆ 0      ┆ null         │\n",
       "│          ┆         ┆      ┆ Kings         ┆ Titans        ┆              ┆        ┆              │\n",
       "│ 1370353  ┆ 2       ┆ 14.5 ┆ Chennai Super ┆ Gujarat       ┆ 6            ┆ 0      ┆ null         │\n",
       "│          ┆         ┆      ┆ Kings         ┆ Titans        ┆              ┆        ┆              │\n",
       "│ 1370353  ┆ 2       ┆ 14.6 ┆ Chennai Super ┆ Gujarat       ┆ 4            ┆ 0      ┆ null         │\n",
       "│          ┆         ┆      ┆ Kings         ┆ Titans        ┆              ┆        ┆              │\n",
       "└──────────┴─────────┴──────┴───────────────┴───────────────┴──────────────┴────────┴──────────────┘"
      ]
     },
     "execution_count": 5,
     "metadata": {},
     "output_type": "execute_result"
    }
   ],
   "source": [
    "deliveries=deliveries.filter(pl.col(\"season\")==2023).drop(\"season\",\"venue\",'start_date',\"striker\",\"non_striker\",\"bowler\",\"wides\",\"noballs\",\"byes\",\"legbyes\",'penalty','wicket_type','other_wicket_type','other_player_dismissed')\n",
    "deliveries"
   ]
  },
  {
   "cell_type": "code",
   "execution_count": 6,
   "metadata": {},
   "outputs": [
    {
     "data": {
      "text/html": [
       "<div><style>\n",
       ".dataframe > thead > tr > th,\n",
       ".dataframe > tbody > tr > td {\n",
       "  text-align: right;\n",
       "}\n",
       "</style>\n",
       "<small>shape: (17_862, 7)</small><table border=\"1\" class=\"dataframe\"><thead><tr><th>match_id</th><th>innings</th><th>ball</th><th>batting_team</th><th>bowling_team</th><th>player_dismissed</th><th>runs</th></tr><tr><td>i64</td><td>i64</td><td>f64</td><td>str</td><td>str</td><td>i64</td><td>i64</td></tr></thead><tbody><tr><td>1359475</td><td>1</td><td>0.1</td><td>&quot;Chennai Super …</td><td>&quot;Gujarat Titans…</td><td>0</td><td>0</td></tr><tr><td>1359475</td><td>1</td><td>0.2</td><td>&quot;Chennai Super …</td><td>&quot;Gujarat Titans…</td><td>0</td><td>1</td></tr><tr><td>1359475</td><td>1</td><td>0.3</td><td>&quot;Chennai Super …</td><td>&quot;Gujarat Titans…</td><td>0</td><td>0</td></tr><tr><td>1359475</td><td>1</td><td>0.4</td><td>&quot;Chennai Super …</td><td>&quot;Gujarat Titans…</td><td>0</td><td>1</td></tr><tr><td>1359475</td><td>1</td><td>0.5</td><td>&quot;Chennai Super …</td><td>&quot;Gujarat Titans…</td><td>0</td><td>0</td></tr><tr><td>1359475</td><td>1</td><td>0.6</td><td>&quot;Chennai Super …</td><td>&quot;Gujarat Titans…</td><td>0</td><td>0</td></tr><tr><td>1359475</td><td>1</td><td>1.1</td><td>&quot;Chennai Super …</td><td>&quot;Gujarat Titans…</td><td>0</td><td>4</td></tr><tr><td>1359475</td><td>1</td><td>1.2</td><td>&quot;Chennai Super …</td><td>&quot;Gujarat Titans…</td><td>0</td><td>0</td></tr><tr><td>1359475</td><td>1</td><td>1.3</td><td>&quot;Chennai Super …</td><td>&quot;Gujarat Titans…</td><td>0</td><td>4</td></tr><tr><td>1359475</td><td>1</td><td>1.4</td><td>&quot;Chennai Super …</td><td>&quot;Gujarat Titans…</td><td>0</td><td>1</td></tr><tr><td>1359475</td><td>1</td><td>1.5</td><td>&quot;Chennai Super …</td><td>&quot;Gujarat Titans…</td><td>0</td><td>1</td></tr><tr><td>1359475</td><td>1</td><td>1.6</td><td>&quot;Chennai Super …</td><td>&quot;Gujarat Titans…</td><td>0</td><td>1</td></tr><tr><td>&hellip;</td><td>&hellip;</td><td>&hellip;</td><td>&hellip;</td><td>&hellip;</td><td>&hellip;</td><td>&hellip;</td></tr><tr><td>1370353</td><td>2</td><td>13.1</td><td>&quot;Chennai Super …</td><td>&quot;Gujarat Titans…</td><td>0</td><td>1</td></tr><tr><td>1370353</td><td>2</td><td>13.2</td><td>&quot;Chennai Super …</td><td>&quot;Gujarat Titans…</td><td>0</td><td>0</td></tr><tr><td>1370353</td><td>2</td><td>13.3</td><td>&quot;Chennai Super …</td><td>&quot;Gujarat Titans…</td><td>0</td><td>2</td></tr><tr><td>1370353</td><td>2</td><td>13.4</td><td>&quot;Chennai Super …</td><td>&quot;Gujarat Titans…</td><td>0</td><td>2</td></tr><tr><td>1370353</td><td>2</td><td>13.5</td><td>&quot;Chennai Super …</td><td>&quot;Gujarat Titans…</td><td>0</td><td>1</td></tr><tr><td>1370353</td><td>2</td><td>13.6</td><td>&quot;Chennai Super …</td><td>&quot;Gujarat Titans…</td><td>0</td><td>2</td></tr><tr><td>1370353</td><td>2</td><td>14.1</td><td>&quot;Chennai Super …</td><td>&quot;Gujarat Titans…</td><td>0</td><td>0</td></tr><tr><td>1370353</td><td>2</td><td>14.2</td><td>&quot;Chennai Super …</td><td>&quot;Gujarat Titans…</td><td>0</td><td>1</td></tr><tr><td>1370353</td><td>2</td><td>14.3</td><td>&quot;Chennai Super …</td><td>&quot;Gujarat Titans…</td><td>0</td><td>1</td></tr><tr><td>1370353</td><td>2</td><td>14.4</td><td>&quot;Chennai Super …</td><td>&quot;Gujarat Titans…</td><td>0</td><td>1</td></tr><tr><td>1370353</td><td>2</td><td>14.5</td><td>&quot;Chennai Super …</td><td>&quot;Gujarat Titans…</td><td>0</td><td>6</td></tr><tr><td>1370353</td><td>2</td><td>14.6</td><td>&quot;Chennai Super …</td><td>&quot;Gujarat Titans…</td><td>0</td><td>4</td></tr></tbody></table></div>"
      ],
      "text/plain": [
       "shape: (17_862, 7)\n",
       "┌──────────┬─────────┬──────┬─────────────────────┬────────────────┬──────────────────┬──────┐\n",
       "│ match_id ┆ innings ┆ ball ┆ batting_team        ┆ bowling_team   ┆ player_dismissed ┆ runs │\n",
       "│ ---      ┆ ---     ┆ ---  ┆ ---                 ┆ ---            ┆ ---              ┆ ---  │\n",
       "│ i64      ┆ i64     ┆ f64  ┆ str                 ┆ str            ┆ i64              ┆ i64  │\n",
       "╞══════════╪═════════╪══════╪═════════════════════╪════════════════╪══════════════════╪══════╡\n",
       "│ 1359475  ┆ 1       ┆ 0.1  ┆ Chennai Super Kings ┆ Gujarat Titans ┆ 0                ┆ 0    │\n",
       "│ 1359475  ┆ 1       ┆ 0.2  ┆ Chennai Super Kings ┆ Gujarat Titans ┆ 0                ┆ 1    │\n",
       "│ 1359475  ┆ 1       ┆ 0.3  ┆ Chennai Super Kings ┆ Gujarat Titans ┆ 0                ┆ 0    │\n",
       "│ 1359475  ┆ 1       ┆ 0.4  ┆ Chennai Super Kings ┆ Gujarat Titans ┆ 0                ┆ 1    │\n",
       "│ …        ┆ …       ┆ …    ┆ …                   ┆ …              ┆ …                ┆ …    │\n",
       "│ 1370353  ┆ 2       ┆ 14.3 ┆ Chennai Super Kings ┆ Gujarat Titans ┆ 0                ┆ 1    │\n",
       "│ 1370353  ┆ 2       ┆ 14.4 ┆ Chennai Super Kings ┆ Gujarat Titans ┆ 0                ┆ 1    │\n",
       "│ 1370353  ┆ 2       ┆ 14.5 ┆ Chennai Super Kings ┆ Gujarat Titans ┆ 0                ┆ 6    │\n",
       "│ 1370353  ┆ 2       ┆ 14.6 ┆ Chennai Super Kings ┆ Gujarat Titans ┆ 0                ┆ 4    │\n",
       "└──────────┴─────────┴──────┴─────────────────────┴────────────────┴──────────────────┴──────┘"
      ]
     },
     "execution_count": 6,
     "metadata": {},
     "output_type": "execute_result"
    }
   ],
   "source": [
    "deliveries=deliveries.with_columns((pl.col(\"runs_off_bat\")+pl.col(\"extras\")).alias(\"runs\")).drop(\"runs_off_bat\", \"extras\").with_columns(pl.col(\"player_dismissed\").apply(lambda x:0 if x is None else 1)).fill_null(0)\n",
    "deliveries"
   ]
  },
  {
   "cell_type": "code",
   "execution_count": 7,
   "metadata": {},
   "outputs": [
    {
     "data": {
      "text/html": [
       "<div><style>\n",
       ".dataframe > thead > tr > th,\n",
       ".dataframe > tbody > tr > td {\n",
       "  text-align: right;\n",
       "}\n",
       "</style>\n",
       "<small>shape: (147, 3)</small><table border=\"1\" class=\"dataframe\"><thead><tr><th>match_id</th><th>innings</th><th>final_runs</th></tr><tr><td>i64</td><td>i64</td><td>i64</td></tr></thead><tbody><tr><td>1359475</td><td>1</td><td>178</td></tr><tr><td>1359475</td><td>2</td><td>182</td></tr><tr><td>1359476</td><td>2</td><td>146</td></tr><tr><td>1359476</td><td>1</td><td>191</td></tr><tr><td>1359477</td><td>2</td><td>143</td></tr><tr><td>1359477</td><td>1</td><td>193</td></tr><tr><td>1359478</td><td>1</td><td>203</td></tr><tr><td>1359478</td><td>2</td><td>131</td></tr><tr><td>1359479</td><td>1</td><td>171</td></tr><tr><td>1359479</td><td>2</td><td>172</td></tr><tr><td>1359480</td><td>2</td><td>205</td></tr><tr><td>1359480</td><td>1</td><td>217</td></tr><tr><td>&hellip;</td><td>&hellip;</td><td>&hellip;</td></tr><tr><td>1359543</td><td>1</td><td>200</td></tr><tr><td>1359543</td><td>2</td><td>201</td></tr><tr><td>1359544</td><td>1</td><td>197</td></tr><tr><td>1359544</td><td>2</td><td>198</td></tr><tr><td>1370350</td><td>2</td><td>157</td></tr><tr><td>1370350</td><td>1</td><td>172</td></tr><tr><td>1370351</td><td>2</td><td>101</td></tr><tr><td>1370351</td><td>1</td><td>182</td></tr><tr><td>1370352</td><td>1</td><td>233</td></tr><tr><td>1370352</td><td>2</td><td>171</td></tr><tr><td>1370353</td><td>2</td><td>171</td></tr><tr><td>1370353</td><td>1</td><td>214</td></tr></tbody></table></div>"
      ],
      "text/plain": [
       "shape: (147, 3)\n",
       "┌──────────┬─────────┬────────────┐\n",
       "│ match_id ┆ innings ┆ final_runs │\n",
       "│ ---      ┆ ---     ┆ ---        │\n",
       "│ i64      ┆ i64     ┆ i64        │\n",
       "╞══════════╪═════════╪════════════╡\n",
       "│ 1359475  ┆ 1       ┆ 178        │\n",
       "│ 1359475  ┆ 2       ┆ 182        │\n",
       "│ 1359476  ┆ 2       ┆ 146        │\n",
       "│ 1359476  ┆ 1       ┆ 191        │\n",
       "│ …        ┆ …       ┆ …          │\n",
       "│ 1370352  ┆ 1       ┆ 233        │\n",
       "│ 1370352  ┆ 2       ┆ 171        │\n",
       "│ 1370353  ┆ 2       ┆ 171        │\n",
       "│ 1370353  ┆ 1       ┆ 214        │\n",
       "└──────────┴─────────┴────────────┘"
      ]
     },
     "execution_count": 7,
     "metadata": {},
     "output_type": "execute_result"
    }
   ],
   "source": [
    "final_score_data=deliveries.groupby([\"match_id\", \"innings\"]).agg(pl.col(\"runs\").sum().alias(\"final_runs\")).sort(\"match_id\")\n",
    "final_score_data"
   ]
  },
  {
   "cell_type": "code",
   "execution_count": 8,
   "metadata": {},
   "outputs": [
    {
     "data": {
      "text/html": [
       "<div><style>\n",
       ".dataframe > thead > tr > th,\n",
       ".dataframe > tbody > tr > td {\n",
       "  text-align: right;\n",
       "}\n",
       "</style>\n",
       "<small>shape: (17_862, 7)</small><table border=\"1\" class=\"dataframe\"><thead><tr><th>match_id</th><th>innings</th><th>ball</th><th>batting_team</th><th>bowling_team</th><th>current_runs</th><th>wickets</th></tr><tr><td>i64</td><td>i64</td><td>f64</td><td>str</td><td>str</td><td>i64</td><td>i64</td></tr></thead><tbody><tr><td>1359475</td><td>1</td><td>0.1</td><td>&quot;Chennai Super …</td><td>&quot;Gujarat Titans…</td><td>0</td><td>0</td></tr><tr><td>1359475</td><td>1</td><td>0.2</td><td>&quot;Chennai Super …</td><td>&quot;Gujarat Titans…</td><td>1</td><td>0</td></tr><tr><td>1359475</td><td>1</td><td>0.3</td><td>&quot;Chennai Super …</td><td>&quot;Gujarat Titans…</td><td>1</td><td>0</td></tr><tr><td>1359475</td><td>1</td><td>0.4</td><td>&quot;Chennai Super …</td><td>&quot;Gujarat Titans…</td><td>2</td><td>0</td></tr><tr><td>1359475</td><td>1</td><td>0.5</td><td>&quot;Chennai Super …</td><td>&quot;Gujarat Titans…</td><td>2</td><td>0</td></tr><tr><td>1359475</td><td>1</td><td>0.6</td><td>&quot;Chennai Super …</td><td>&quot;Gujarat Titans…</td><td>2</td><td>0</td></tr><tr><td>1359475</td><td>1</td><td>1.1</td><td>&quot;Chennai Super …</td><td>&quot;Gujarat Titans…</td><td>6</td><td>0</td></tr><tr><td>1359475</td><td>1</td><td>1.2</td><td>&quot;Chennai Super …</td><td>&quot;Gujarat Titans…</td><td>6</td><td>0</td></tr><tr><td>1359475</td><td>1</td><td>1.3</td><td>&quot;Chennai Super …</td><td>&quot;Gujarat Titans…</td><td>10</td><td>0</td></tr><tr><td>1359475</td><td>1</td><td>1.4</td><td>&quot;Chennai Super …</td><td>&quot;Gujarat Titans…</td><td>11</td><td>0</td></tr><tr><td>1359475</td><td>1</td><td>1.5</td><td>&quot;Chennai Super …</td><td>&quot;Gujarat Titans…</td><td>12</td><td>0</td></tr><tr><td>1359475</td><td>1</td><td>1.6</td><td>&quot;Chennai Super …</td><td>&quot;Gujarat Titans…</td><td>13</td><td>0</td></tr><tr><td>&hellip;</td><td>&hellip;</td><td>&hellip;</td><td>&hellip;</td><td>&hellip;</td><td>&hellip;</td><td>&hellip;</td></tr><tr><td>1370353</td><td>2</td><td>13.1</td><td>&quot;Chennai Super …</td><td>&quot;Gujarat Titans…</td><td>151</td><td>5</td></tr><tr><td>1370353</td><td>2</td><td>13.2</td><td>&quot;Chennai Super …</td><td>&quot;Gujarat Titans…</td><td>151</td><td>5</td></tr><tr><td>1370353</td><td>2</td><td>13.3</td><td>&quot;Chennai Super …</td><td>&quot;Gujarat Titans…</td><td>153</td><td>5</td></tr><tr><td>1370353</td><td>2</td><td>13.4</td><td>&quot;Chennai Super …</td><td>&quot;Gujarat Titans…</td><td>155</td><td>5</td></tr><tr><td>1370353</td><td>2</td><td>13.5</td><td>&quot;Chennai Super …</td><td>&quot;Gujarat Titans…</td><td>156</td><td>5</td></tr><tr><td>1370353</td><td>2</td><td>13.6</td><td>&quot;Chennai Super …</td><td>&quot;Gujarat Titans…</td><td>158</td><td>5</td></tr><tr><td>1370353</td><td>2</td><td>14.1</td><td>&quot;Chennai Super …</td><td>&quot;Gujarat Titans…</td><td>158</td><td>5</td></tr><tr><td>1370353</td><td>2</td><td>14.2</td><td>&quot;Chennai Super …</td><td>&quot;Gujarat Titans…</td><td>159</td><td>5</td></tr><tr><td>1370353</td><td>2</td><td>14.3</td><td>&quot;Chennai Super …</td><td>&quot;Gujarat Titans…</td><td>160</td><td>5</td></tr><tr><td>1370353</td><td>2</td><td>14.4</td><td>&quot;Chennai Super …</td><td>&quot;Gujarat Titans…</td><td>161</td><td>5</td></tr><tr><td>1370353</td><td>2</td><td>14.5</td><td>&quot;Chennai Super …</td><td>&quot;Gujarat Titans…</td><td>167</td><td>5</td></tr><tr><td>1370353</td><td>2</td><td>14.6</td><td>&quot;Chennai Super …</td><td>&quot;Gujarat Titans…</td><td>171</td><td>5</td></tr></tbody></table></div>"
      ],
      "text/plain": [
       "shape: (17_862, 7)\n",
       "┌──────────┬─────────┬──────┬─────────────────────┬────────────────┬──────────────┬─────────┐\n",
       "│ match_id ┆ innings ┆ ball ┆ batting_team        ┆ bowling_team   ┆ current_runs ┆ wickets │\n",
       "│ ---      ┆ ---     ┆ ---  ┆ ---                 ┆ ---            ┆ ---          ┆ ---     │\n",
       "│ i64      ┆ i64     ┆ f64  ┆ str                 ┆ str            ┆ i64          ┆ i64     │\n",
       "╞══════════╪═════════╪══════╪═════════════════════╪════════════════╪══════════════╪═════════╡\n",
       "│ 1359475  ┆ 1       ┆ 0.1  ┆ Chennai Super Kings ┆ Gujarat Titans ┆ 0            ┆ 0       │\n",
       "│ 1359475  ┆ 1       ┆ 0.2  ┆ Chennai Super Kings ┆ Gujarat Titans ┆ 1            ┆ 0       │\n",
       "│ 1359475  ┆ 1       ┆ 0.3  ┆ Chennai Super Kings ┆ Gujarat Titans ┆ 1            ┆ 0       │\n",
       "│ 1359475  ┆ 1       ┆ 0.4  ┆ Chennai Super Kings ┆ Gujarat Titans ┆ 2            ┆ 0       │\n",
       "│ …        ┆ …       ┆ …    ┆ …                   ┆ …              ┆ …            ┆ …       │\n",
       "│ 1370353  ┆ 2       ┆ 14.3 ┆ Chennai Super Kings ┆ Gujarat Titans ┆ 160          ┆ 5       │\n",
       "│ 1370353  ┆ 2       ┆ 14.4 ┆ Chennai Super Kings ┆ Gujarat Titans ┆ 161          ┆ 5       │\n",
       "│ 1370353  ┆ 2       ┆ 14.5 ┆ Chennai Super Kings ┆ Gujarat Titans ┆ 167          ┆ 5       │\n",
       "│ 1370353  ┆ 2       ┆ 14.6 ┆ Chennai Super Kings ┆ Gujarat Titans ┆ 171          ┆ 5       │\n",
       "└──────────┴─────────┴──────┴─────────────────────┴────────────────┴──────────────┴─────────┘"
      ]
     },
     "execution_count": 8,
     "metadata": {},
     "output_type": "execute_result"
    }
   ],
   "source": [
    "deliveries=deliveries.with_columns(pl.col(\"runs\").cumsum().over(deliveries[\"match_id\"],deliveries[\"innings\"]).alias(\"current_runs\")).drop(\"runs\").fill_null(0)\n",
    "deliveries=deliveries.with_columns(pl.col(\"player_dismissed\").cumsum().over(deliveries[\"match_id\"],deliveries[\"innings\"]).alias(\"wickets\")).drop(\"player_dismissed\")\n",
    "deliveries"
   ]
  },
  {
   "cell_type": "code",
   "execution_count": 9,
   "metadata": {},
   "outputs": [
    {
     "data": {
      "text/html": [
       "<div><style>\n",
       ".dataframe > thead > tr > th,\n",
       ".dataframe > tbody > tr > td {\n",
       "  text-align: right;\n",
       "}\n",
       "</style>\n",
       "<small>shape: (17_862, 8)</small><table border=\"1\" class=\"dataframe\"><thead><tr><th>match_id</th><th>innings</th><th>ball</th><th>batting_team</th><th>bowling_team</th><th>current_runs</th><th>wickets</th><th>final_runs</th></tr><tr><td>i64</td><td>i64</td><td>f64</td><td>str</td><td>str</td><td>i64</td><td>i64</td><td>i64</td></tr></thead><tbody><tr><td>1359475</td><td>1</td><td>0.1</td><td>&quot;Chennai Super …</td><td>&quot;Gujarat Titans…</td><td>0</td><td>0</td><td>178</td></tr><tr><td>1359475</td><td>1</td><td>0.2</td><td>&quot;Chennai Super …</td><td>&quot;Gujarat Titans…</td><td>1</td><td>0</td><td>178</td></tr><tr><td>1359475</td><td>1</td><td>0.3</td><td>&quot;Chennai Super …</td><td>&quot;Gujarat Titans…</td><td>1</td><td>0</td><td>178</td></tr><tr><td>1359475</td><td>1</td><td>0.4</td><td>&quot;Chennai Super …</td><td>&quot;Gujarat Titans…</td><td>2</td><td>0</td><td>178</td></tr><tr><td>1359475</td><td>1</td><td>0.5</td><td>&quot;Chennai Super …</td><td>&quot;Gujarat Titans…</td><td>2</td><td>0</td><td>178</td></tr><tr><td>1359475</td><td>1</td><td>0.6</td><td>&quot;Chennai Super …</td><td>&quot;Gujarat Titans…</td><td>2</td><td>0</td><td>178</td></tr><tr><td>1359475</td><td>1</td><td>1.1</td><td>&quot;Chennai Super …</td><td>&quot;Gujarat Titans…</td><td>6</td><td>0</td><td>178</td></tr><tr><td>1359475</td><td>1</td><td>1.2</td><td>&quot;Chennai Super …</td><td>&quot;Gujarat Titans…</td><td>6</td><td>0</td><td>178</td></tr><tr><td>1359475</td><td>1</td><td>1.3</td><td>&quot;Chennai Super …</td><td>&quot;Gujarat Titans…</td><td>10</td><td>0</td><td>178</td></tr><tr><td>1359475</td><td>1</td><td>1.4</td><td>&quot;Chennai Super …</td><td>&quot;Gujarat Titans…</td><td>11</td><td>0</td><td>178</td></tr><tr><td>1359475</td><td>1</td><td>1.5</td><td>&quot;Chennai Super …</td><td>&quot;Gujarat Titans…</td><td>12</td><td>0</td><td>178</td></tr><tr><td>1359475</td><td>1</td><td>1.6</td><td>&quot;Chennai Super …</td><td>&quot;Gujarat Titans…</td><td>13</td><td>0</td><td>178</td></tr><tr><td>&hellip;</td><td>&hellip;</td><td>&hellip;</td><td>&hellip;</td><td>&hellip;</td><td>&hellip;</td><td>&hellip;</td><td>&hellip;</td></tr><tr><td>1370353</td><td>2</td><td>13.1</td><td>&quot;Chennai Super …</td><td>&quot;Gujarat Titans…</td><td>151</td><td>5</td><td>171</td></tr><tr><td>1370353</td><td>2</td><td>13.2</td><td>&quot;Chennai Super …</td><td>&quot;Gujarat Titans…</td><td>151</td><td>5</td><td>171</td></tr><tr><td>1370353</td><td>2</td><td>13.3</td><td>&quot;Chennai Super …</td><td>&quot;Gujarat Titans…</td><td>153</td><td>5</td><td>171</td></tr><tr><td>1370353</td><td>2</td><td>13.4</td><td>&quot;Chennai Super …</td><td>&quot;Gujarat Titans…</td><td>155</td><td>5</td><td>171</td></tr><tr><td>1370353</td><td>2</td><td>13.5</td><td>&quot;Chennai Super …</td><td>&quot;Gujarat Titans…</td><td>156</td><td>5</td><td>171</td></tr><tr><td>1370353</td><td>2</td><td>13.6</td><td>&quot;Chennai Super …</td><td>&quot;Gujarat Titans…</td><td>158</td><td>5</td><td>171</td></tr><tr><td>1370353</td><td>2</td><td>14.1</td><td>&quot;Chennai Super …</td><td>&quot;Gujarat Titans…</td><td>158</td><td>5</td><td>171</td></tr><tr><td>1370353</td><td>2</td><td>14.2</td><td>&quot;Chennai Super …</td><td>&quot;Gujarat Titans…</td><td>159</td><td>5</td><td>171</td></tr><tr><td>1370353</td><td>2</td><td>14.3</td><td>&quot;Chennai Super …</td><td>&quot;Gujarat Titans…</td><td>160</td><td>5</td><td>171</td></tr><tr><td>1370353</td><td>2</td><td>14.4</td><td>&quot;Chennai Super …</td><td>&quot;Gujarat Titans…</td><td>161</td><td>5</td><td>171</td></tr><tr><td>1370353</td><td>2</td><td>14.5</td><td>&quot;Chennai Super …</td><td>&quot;Gujarat Titans…</td><td>167</td><td>5</td><td>171</td></tr><tr><td>1370353</td><td>2</td><td>14.6</td><td>&quot;Chennai Super …</td><td>&quot;Gujarat Titans…</td><td>171</td><td>5</td><td>171</td></tr></tbody></table></div>"
      ],
      "text/plain": [
       "shape: (17_862, 8)\n",
       "┌──────────┬─────────┬──────┬────────────────┬───────────────┬──────────────┬─────────┬────────────┐\n",
       "│ match_id ┆ innings ┆ ball ┆ batting_team   ┆ bowling_team  ┆ current_runs ┆ wickets ┆ final_runs │\n",
       "│ ---      ┆ ---     ┆ ---  ┆ ---            ┆ ---           ┆ ---          ┆ ---     ┆ ---        │\n",
       "│ i64      ┆ i64     ┆ f64  ┆ str            ┆ str           ┆ i64          ┆ i64     ┆ i64        │\n",
       "╞══════════╪═════════╪══════╪════════════════╪═══════════════╪══════════════╪═════════╪════════════╡\n",
       "│ 1359475  ┆ 1       ┆ 0.1  ┆ Chennai Super  ┆ Gujarat       ┆ 0            ┆ 0       ┆ 178        │\n",
       "│          ┆         ┆      ┆ Kings          ┆ Titans        ┆              ┆         ┆            │\n",
       "│ 1359475  ┆ 1       ┆ 0.2  ┆ Chennai Super  ┆ Gujarat       ┆ 1            ┆ 0       ┆ 178        │\n",
       "│          ┆         ┆      ┆ Kings          ┆ Titans        ┆              ┆         ┆            │\n",
       "│ 1359475  ┆ 1       ┆ 0.3  ┆ Chennai Super  ┆ Gujarat       ┆ 1            ┆ 0       ┆ 178        │\n",
       "│          ┆         ┆      ┆ Kings          ┆ Titans        ┆              ┆         ┆            │\n",
       "│ 1359475  ┆ 1       ┆ 0.4  ┆ Chennai Super  ┆ Gujarat       ┆ 2            ┆ 0       ┆ 178        │\n",
       "│          ┆         ┆      ┆ Kings          ┆ Titans        ┆              ┆         ┆            │\n",
       "│ …        ┆ …       ┆ …    ┆ …              ┆ …             ┆ …            ┆ …       ┆ …          │\n",
       "│ 1370353  ┆ 2       ┆ 14.3 ┆ Chennai Super  ┆ Gujarat       ┆ 160          ┆ 5       ┆ 171        │\n",
       "│          ┆         ┆      ┆ Kings          ┆ Titans        ┆              ┆         ┆            │\n",
       "│ 1370353  ┆ 2       ┆ 14.4 ┆ Chennai Super  ┆ Gujarat       ┆ 161          ┆ 5       ┆ 171        │\n",
       "│          ┆         ┆      ┆ Kings          ┆ Titans        ┆              ┆         ┆            │\n",
       "│ 1370353  ┆ 2       ┆ 14.5 ┆ Chennai Super  ┆ Gujarat       ┆ 167          ┆ 5       ┆ 171        │\n",
       "│          ┆         ┆      ┆ Kings          ┆ Titans        ┆              ┆         ┆            │\n",
       "│ 1370353  ┆ 2       ┆ 14.6 ┆ Chennai Super  ┆ Gujarat       ┆ 171          ┆ 5       ┆ 171        │\n",
       "│          ┆         ┆      ┆ Kings          ┆ Titans        ┆              ┆         ┆            │\n",
       "└──────────┴─────────┴──────┴────────────────┴───────────────┴──────────────┴─────────┴────────────┘"
      ]
     },
     "execution_count": 9,
     "metadata": {},
     "output_type": "execute_result"
    }
   ],
   "source": [
    "deliveries=deliveries.join(final_score_data,on=['match_id','innings'])\n",
    "deliveries"
   ]
  },
  {
   "cell_type": "code",
   "execution_count": 10,
   "metadata": {},
   "outputs": [
    {
     "data": {
      "text/html": [
       "<div><style>\n",
       ".dataframe > thead > tr > th,\n",
       ".dataframe > tbody > tr > td {\n",
       "  text-align: right;\n",
       "}\n",
       "</style>\n",
       "<small>shape: (17_862, 8)</small><table border=\"1\" class=\"dataframe\"><thead><tr><th>match_id</th><th>innings</th><th>ball</th><th>batting_team</th><th>bowling_team</th><th>current_runs</th><th>wickets</th><th>final_runs</th></tr><tr><td>i64</td><td>i64</td><td>f64</td><td>str</td><td>str</td><td>i64</td><td>i64</td><td>i64</td></tr></thead><tbody><tr><td>1</td><td>1</td><td>0.1</td><td>&quot;Chennai Super …</td><td>&quot;Gujarat Titans…</td><td>0</td><td>0</td><td>178</td></tr><tr><td>1</td><td>1</td><td>0.2</td><td>&quot;Chennai Super …</td><td>&quot;Gujarat Titans…</td><td>1</td><td>0</td><td>178</td></tr><tr><td>1</td><td>1</td><td>0.3</td><td>&quot;Chennai Super …</td><td>&quot;Gujarat Titans…</td><td>1</td><td>0</td><td>178</td></tr><tr><td>1</td><td>1</td><td>0.4</td><td>&quot;Chennai Super …</td><td>&quot;Gujarat Titans…</td><td>2</td><td>0</td><td>178</td></tr><tr><td>1</td><td>1</td><td>0.5</td><td>&quot;Chennai Super …</td><td>&quot;Gujarat Titans…</td><td>2</td><td>0</td><td>178</td></tr><tr><td>1</td><td>1</td><td>0.6</td><td>&quot;Chennai Super …</td><td>&quot;Gujarat Titans…</td><td>2</td><td>0</td><td>178</td></tr><tr><td>1</td><td>1</td><td>1.1</td><td>&quot;Chennai Super …</td><td>&quot;Gujarat Titans…</td><td>6</td><td>0</td><td>178</td></tr><tr><td>1</td><td>1</td><td>1.2</td><td>&quot;Chennai Super …</td><td>&quot;Gujarat Titans…</td><td>6</td><td>0</td><td>178</td></tr><tr><td>1</td><td>1</td><td>1.3</td><td>&quot;Chennai Super …</td><td>&quot;Gujarat Titans…</td><td>10</td><td>0</td><td>178</td></tr><tr><td>1</td><td>1</td><td>1.4</td><td>&quot;Chennai Super …</td><td>&quot;Gujarat Titans…</td><td>11</td><td>0</td><td>178</td></tr><tr><td>1</td><td>1</td><td>1.5</td><td>&quot;Chennai Super …</td><td>&quot;Gujarat Titans…</td><td>12</td><td>0</td><td>178</td></tr><tr><td>1</td><td>1</td><td>1.6</td><td>&quot;Chennai Super …</td><td>&quot;Gujarat Titans…</td><td>13</td><td>0</td><td>178</td></tr><tr><td>&hellip;</td><td>&hellip;</td><td>&hellip;</td><td>&hellip;</td><td>&hellip;</td><td>&hellip;</td><td>&hellip;</td><td>&hellip;</td></tr><tr><td>10879</td><td>2</td><td>13.1</td><td>&quot;Chennai Super …</td><td>&quot;Gujarat Titans…</td><td>151</td><td>5</td><td>171</td></tr><tr><td>10879</td><td>2</td><td>13.2</td><td>&quot;Chennai Super …</td><td>&quot;Gujarat Titans…</td><td>151</td><td>5</td><td>171</td></tr><tr><td>10879</td><td>2</td><td>13.3</td><td>&quot;Chennai Super …</td><td>&quot;Gujarat Titans…</td><td>153</td><td>5</td><td>171</td></tr><tr><td>10879</td><td>2</td><td>13.4</td><td>&quot;Chennai Super …</td><td>&quot;Gujarat Titans…</td><td>155</td><td>5</td><td>171</td></tr><tr><td>10879</td><td>2</td><td>13.5</td><td>&quot;Chennai Super …</td><td>&quot;Gujarat Titans…</td><td>156</td><td>5</td><td>171</td></tr><tr><td>10879</td><td>2</td><td>13.6</td><td>&quot;Chennai Super …</td><td>&quot;Gujarat Titans…</td><td>158</td><td>5</td><td>171</td></tr><tr><td>10879</td><td>2</td><td>14.1</td><td>&quot;Chennai Super …</td><td>&quot;Gujarat Titans…</td><td>158</td><td>5</td><td>171</td></tr><tr><td>10879</td><td>2</td><td>14.2</td><td>&quot;Chennai Super …</td><td>&quot;Gujarat Titans…</td><td>159</td><td>5</td><td>171</td></tr><tr><td>10879</td><td>2</td><td>14.3</td><td>&quot;Chennai Super …</td><td>&quot;Gujarat Titans…</td><td>160</td><td>5</td><td>171</td></tr><tr><td>10879</td><td>2</td><td>14.4</td><td>&quot;Chennai Super …</td><td>&quot;Gujarat Titans…</td><td>161</td><td>5</td><td>171</td></tr><tr><td>10879</td><td>2</td><td>14.5</td><td>&quot;Chennai Super …</td><td>&quot;Gujarat Titans…</td><td>167</td><td>5</td><td>171</td></tr><tr><td>10879</td><td>2</td><td>14.6</td><td>&quot;Chennai Super …</td><td>&quot;Gujarat Titans…</td><td>171</td><td>5</td><td>171</td></tr></tbody></table></div>"
      ],
      "text/plain": [
       "shape: (17_862, 8)\n",
       "┌──────────┬─────────┬──────┬────────────────┬───────────────┬──────────────┬─────────┬────────────┐\n",
       "│ match_id ┆ innings ┆ ball ┆ batting_team   ┆ bowling_team  ┆ current_runs ┆ wickets ┆ final_runs │\n",
       "│ ---      ┆ ---     ┆ ---  ┆ ---            ┆ ---           ┆ ---          ┆ ---     ┆ ---        │\n",
       "│ i64      ┆ i64     ┆ f64  ┆ str            ┆ str           ┆ i64          ┆ i64     ┆ i64        │\n",
       "╞══════════╪═════════╪══════╪════════════════╪═══════════════╪══════════════╪═════════╪════════════╡\n",
       "│ 1        ┆ 1       ┆ 0.1  ┆ Chennai Super  ┆ Gujarat       ┆ 0            ┆ 0       ┆ 178        │\n",
       "│          ┆         ┆      ┆ Kings          ┆ Titans        ┆              ┆         ┆            │\n",
       "│ 1        ┆ 1       ┆ 0.2  ┆ Chennai Super  ┆ Gujarat       ┆ 1            ┆ 0       ┆ 178        │\n",
       "│          ┆         ┆      ┆ Kings          ┆ Titans        ┆              ┆         ┆            │\n",
       "│ 1        ┆ 1       ┆ 0.3  ┆ Chennai Super  ┆ Gujarat       ┆ 1            ┆ 0       ┆ 178        │\n",
       "│          ┆         ┆      ┆ Kings          ┆ Titans        ┆              ┆         ┆            │\n",
       "│ 1        ┆ 1       ┆ 0.4  ┆ Chennai Super  ┆ Gujarat       ┆ 2            ┆ 0       ┆ 178        │\n",
       "│          ┆         ┆      ┆ Kings          ┆ Titans        ┆              ┆         ┆            │\n",
       "│ …        ┆ …       ┆ …    ┆ …              ┆ …             ┆ …            ┆ …       ┆ …          │\n",
       "│ 10879    ┆ 2       ┆ 14.3 ┆ Chennai Super  ┆ Gujarat       ┆ 160          ┆ 5       ┆ 171        │\n",
       "│          ┆         ┆      ┆ Kings          ┆ Titans        ┆              ┆         ┆            │\n",
       "│ 10879    ┆ 2       ┆ 14.4 ┆ Chennai Super  ┆ Gujarat       ┆ 161          ┆ 5       ┆ 171        │\n",
       "│          ┆         ┆      ┆ Kings          ┆ Titans        ┆              ┆         ┆            │\n",
       "│ 10879    ┆ 2       ┆ 14.5 ┆ Chennai Super  ┆ Gujarat       ┆ 167          ┆ 5       ┆ 171        │\n",
       "│          ┆         ┆      ┆ Kings          ┆ Titans        ┆              ┆         ┆            │\n",
       "│ 10879    ┆ 2       ┆ 14.6 ┆ Chennai Super  ┆ Gujarat       ┆ 171          ┆ 5       ┆ 171        │\n",
       "│          ┆         ┆      ┆ Kings          ┆ Titans        ┆              ┆         ┆            │\n",
       "└──────────┴─────────┴──────┴────────────────┴───────────────┴──────────────┴─────────┴────────────┘"
      ]
     },
     "execution_count": 10,
     "metadata": {},
     "output_type": "execute_result"
    }
   ],
   "source": [
    "deliveries=deliveries.with_columns((pl.col(\"match_id\")-1359474).alias(\"match_id\"))\n",
    "deliveries"
   ]
  },
  {
   "cell_type": "code",
   "execution_count": 11,
   "metadata": {},
   "outputs": [
    {
     "data": {
      "text/plain": [
       "[<matplotlib.lines.Line2D at 0x7f36cc816a10>]"
      ]
     },
     "execution_count": 11,
     "metadata": {},
     "output_type": "execute_result"
    },
    {
     "data": {
      "image/png": "[encoded data removed]",
      "text/plain": [
       "<Figure size 640x480 with 1 Axes>"
      ]
     },
     "metadata": {},
     "output_type": "display_data"
    }
   ],
   "source": [
    "import matplotlib.pyplot as mp\n",
    "mp.plot(deliveries[\"match_id\"])"
   ]
  },
  {
   "cell_type": "code",
   "execution_count": 12,
   "metadata": {},
   "outputs": [
    {
     "data": {
      "text/html": [
       "<div><style>\n",
       ".dataframe > thead > tr > th,\n",
       ".dataframe > tbody > tr > td {\n",
       "  text-align: right;\n",
       "}\n",
       "</style>\n",
       "<small>shape: (17_862, 8)</small><table border=\"1\" class=\"dataframe\"><thead><tr><th>match_id</th><th>innings</th><th>ball</th><th>batting_team</th><th>bowling_team</th><th>current_runs</th><th>wickets</th><th>final_runs</th></tr><tr><td>i64</td><td>i64</td><td>f64</td><td>str</td><td>str</td><td>i64</td><td>i64</td><td>i64</td></tr></thead><tbody><tr><td>1</td><td>1</td><td>0.1</td><td>&quot;Chennai Super …</td><td>&quot;Gujarat Titans…</td><td>0</td><td>0</td><td>178</td></tr><tr><td>1</td><td>1</td><td>0.2</td><td>&quot;Chennai Super …</td><td>&quot;Gujarat Titans…</td><td>1</td><td>0</td><td>178</td></tr><tr><td>1</td><td>1</td><td>0.3</td><td>&quot;Chennai Super …</td><td>&quot;Gujarat Titans…</td><td>1</td><td>0</td><td>178</td></tr><tr><td>1</td><td>1</td><td>0.4</td><td>&quot;Chennai Super …</td><td>&quot;Gujarat Titans…</td><td>2</td><td>0</td><td>178</td></tr><tr><td>1</td><td>1</td><td>0.5</td><td>&quot;Chennai Super …</td><td>&quot;Gujarat Titans…</td><td>2</td><td>0</td><td>178</td></tr><tr><td>1</td><td>1</td><td>0.6</td><td>&quot;Chennai Super …</td><td>&quot;Gujarat Titans…</td><td>2</td><td>0</td><td>178</td></tr><tr><td>1</td><td>1</td><td>1.1</td><td>&quot;Chennai Super …</td><td>&quot;Gujarat Titans…</td><td>6</td><td>0</td><td>178</td></tr><tr><td>1</td><td>1</td><td>1.2</td><td>&quot;Chennai Super …</td><td>&quot;Gujarat Titans…</td><td>6</td><td>0</td><td>178</td></tr><tr><td>1</td><td>1</td><td>1.3</td><td>&quot;Chennai Super …</td><td>&quot;Gujarat Titans…</td><td>10</td><td>0</td><td>178</td></tr><tr><td>1</td><td>1</td><td>1.4</td><td>&quot;Chennai Super …</td><td>&quot;Gujarat Titans…</td><td>11</td><td>0</td><td>178</td></tr><tr><td>1</td><td>1</td><td>1.5</td><td>&quot;Chennai Super …</td><td>&quot;Gujarat Titans…</td><td>12</td><td>0</td><td>178</td></tr><tr><td>1</td><td>1</td><td>1.6</td><td>&quot;Chennai Super …</td><td>&quot;Gujarat Titans…</td><td>13</td><td>0</td><td>178</td></tr><tr><td>&hellip;</td><td>&hellip;</td><td>&hellip;</td><td>&hellip;</td><td>&hellip;</td><td>&hellip;</td><td>&hellip;</td><td>&hellip;</td></tr><tr><td>74</td><td>2</td><td>13.1</td><td>&quot;Chennai Super …</td><td>&quot;Gujarat Titans…</td><td>151</td><td>5</td><td>171</td></tr><tr><td>74</td><td>2</td><td>13.2</td><td>&quot;Chennai Super …</td><td>&quot;Gujarat Titans…</td><td>151</td><td>5</td><td>171</td></tr><tr><td>74</td><td>2</td><td>13.3</td><td>&quot;Chennai Super …</td><td>&quot;Gujarat Titans…</td><td>153</td><td>5</td><td>171</td></tr><tr><td>74</td><td>2</td><td>13.4</td><td>&quot;Chennai Super …</td><td>&quot;Gujarat Titans…</td><td>155</td><td>5</td><td>171</td></tr><tr><td>74</td><td>2</td><td>13.5</td><td>&quot;Chennai Super …</td><td>&quot;Gujarat Titans…</td><td>156</td><td>5</td><td>171</td></tr><tr><td>74</td><td>2</td><td>13.6</td><td>&quot;Chennai Super …</td><td>&quot;Gujarat Titans…</td><td>158</td><td>5</td><td>171</td></tr><tr><td>74</td><td>2</td><td>14.1</td><td>&quot;Chennai Super …</td><td>&quot;Gujarat Titans…</td><td>158</td><td>5</td><td>171</td></tr><tr><td>74</td><td>2</td><td>14.2</td><td>&quot;Chennai Super …</td><td>&quot;Gujarat Titans…</td><td>159</td><td>5</td><td>171</td></tr><tr><td>74</td><td>2</td><td>14.3</td><td>&quot;Chennai Super …</td><td>&quot;Gujarat Titans…</td><td>160</td><td>5</td><td>171</td></tr><tr><td>74</td><td>2</td><td>14.4</td><td>&quot;Chennai Super …</td><td>&quot;Gujarat Titans…</td><td>161</td><td>5</td><td>171</td></tr><tr><td>74</td><td>2</td><td>14.5</td><td>&quot;Chennai Super …</td><td>&quot;Gujarat Titans…</td><td>167</td><td>5</td><td>171</td></tr><tr><td>74</td><td>2</td><td>14.6</td><td>&quot;Chennai Super …</td><td>&quot;Gujarat Titans…</td><td>171</td><td>5</td><td>171</td></tr></tbody></table></div>"
      ],
      "text/plain": [
       "shape: (17_862, 8)\n",
       "┌──────────┬─────────┬──────┬────────────────┬───────────────┬──────────────┬─────────┬────────────┐\n",
       "│ match_id ┆ innings ┆ ball ┆ batting_team   ┆ bowling_team  ┆ current_runs ┆ wickets ┆ final_runs │\n",
       "│ ---      ┆ ---     ┆ ---  ┆ ---            ┆ ---           ┆ ---          ┆ ---     ┆ ---        │\n",
       "│ i64      ┆ i64     ┆ f64  ┆ str            ┆ str           ┆ i64          ┆ i64     ┆ i64        │\n",
       "╞══════════╪═════════╪══════╪════════════════╪═══════════════╪══════════════╪═════════╪════════════╡\n",
       "│ 1        ┆ 1       ┆ 0.1  ┆ Chennai Super  ┆ Gujarat       ┆ 0            ┆ 0       ┆ 178        │\n",
       "│          ┆         ┆      ┆ Kings          ┆ Titans        ┆              ┆         ┆            │\n",
       "│ 1        ┆ 1       ┆ 0.2  ┆ Chennai Super  ┆ Gujarat       ┆ 1            ┆ 0       ┆ 178        │\n",
       "│          ┆         ┆      ┆ Kings          ┆ Titans        ┆              ┆         ┆            │\n",
       "│ 1        ┆ 1       ┆ 0.3  ┆ Chennai Super  ┆ Gujarat       ┆ 1            ┆ 0       ┆ 178        │\n",
       "│          ┆         ┆      ┆ Kings          ┆ Titans        ┆              ┆         ┆            │\n",
       "│ 1        ┆ 1       ┆ 0.4  ┆ Chennai Super  ┆ Gujarat       ┆ 2            ┆ 0       ┆ 178        │\n",
       "│          ┆         ┆      ┆ Kings          ┆ Titans        ┆              ┆         ┆            │\n",
       "│ …        ┆ …       ┆ …    ┆ …              ┆ …             ┆ …            ┆ …       ┆ …          │\n",
       "│ 74       ┆ 2       ┆ 14.3 ┆ Chennai Super  ┆ Gujarat       ┆ 160          ┆ 5       ┆ 171        │\n",
       "│          ┆         ┆      ┆ Kings          ┆ Titans        ┆              ┆         ┆            │\n",
       "│ 74       ┆ 2       ┆ 14.4 ┆ Chennai Super  ┆ Gujarat       ┆ 161          ┆ 5       ┆ 171        │\n",
       "│          ┆         ┆      ┆ Kings          ┆ Titans        ┆              ┆         ┆            │\n",
       "│ 74       ┆ 2       ┆ 14.5 ┆ Chennai Super  ┆ Gujarat       ┆ 167          ┆ 5       ┆ 171        │\n",
       "│          ┆         ┆      ┆ Kings          ┆ Titans        ┆              ┆         ┆            │\n",
       "│ 74       ┆ 2       ┆ 14.6 ┆ Chennai Super  ┆ Gujarat       ┆ 171          ┆ 5       ┆ 171        │\n",
       "│          ┆         ┆      ┆ Kings          ┆ Titans        ┆              ┆         ┆            │\n",
       "└──────────┴─────────┴──────┴────────────────┴───────────────┴──────────────┴─────────┴────────────┘"
      ]
     },
     "execution_count": 12,
     "metadata": {},
     "output_type": "execute_result"
    }
   ],
   "source": [
    "deliveries=deliveries.with_columns(pl.when(pl.col(\"match_id\")>1000).then(pl.col(\"match_id\")-10805).otherwise(pl.col(\"match_id\")))\n",
    "deliveries"
   ]
  },
  {
   "cell_type": "code",
   "execution_count": 13,
   "metadata": {},
   "outputs": [
    {
     "data": {
      "text/html": [
       "<div><style>\n",
       ".dataframe > thead > tr > th,\n",
       ".dataframe > tbody > tr > td {\n",
       "  text-align: right;\n",
       "}\n",
       "</style>\n",
       "<small>shape: (17_862, 11)</small><table border=\"1\" class=\"dataframe\"><thead><tr><th>match_id</th><th>innings</th><th>ball</th><th>batting_team</th><th>bowling_team</th><th>current_runs</th><th>wickets</th><th>final_runs</th><th>toss_won</th><th>toss_decision</th><th>city</th></tr><tr><td>i64</td><td>i64</td><td>f64</td><td>str</td><td>str</td><td>i64</td><td>i64</td><td>i64</td><td>str</td><td>str</td><td>str</td></tr></thead><tbody><tr><td>1</td><td>1</td><td>0.1</td><td>&quot;Chennai Super …</td><td>&quot;Gujarat Titans…</td><td>0</td><td>0</td><td>178</td><td>&quot;Gujarat Titans…</td><td>&quot;field&quot;</td><td>&quot;Ahmedabad&quot;</td></tr><tr><td>1</td><td>1</td><td>0.2</td><td>&quot;Chennai Super …</td><td>&quot;Gujarat Titans…</td><td>1</td><td>0</td><td>178</td><td>&quot;Gujarat Titans…</td><td>&quot;field&quot;</td><td>&quot;Ahmedabad&quot;</td></tr><tr><td>1</td><td>1</td><td>0.3</td><td>&quot;Chennai Super …</td><td>&quot;Gujarat Titans…</td><td>1</td><td>0</td><td>178</td><td>&quot;Gujarat Titans…</td><td>&quot;field&quot;</td><td>&quot;Ahmedabad&quot;</td></tr><tr><td>1</td><td>1</td><td>0.4</td><td>&quot;Chennai Super …</td><td>&quot;Gujarat Titans…</td><td>2</td><td>0</td><td>178</td><td>&quot;Gujarat Titans…</td><td>&quot;field&quot;</td><td>&quot;Ahmedabad&quot;</td></tr><tr><td>1</td><td>1</td><td>0.5</td><td>&quot;Chennai Super …</td><td>&quot;Gujarat Titans…</td><td>2</td><td>0</td><td>178</td><td>&quot;Gujarat Titans…</td><td>&quot;field&quot;</td><td>&quot;Ahmedabad&quot;</td></tr><tr><td>1</td><td>1</td><td>0.6</td><td>&quot;Chennai Super …</td><td>&quot;Gujarat Titans…</td><td>2</td><td>0</td><td>178</td><td>&quot;Gujarat Titans…</td><td>&quot;field&quot;</td><td>&quot;Ahmedabad&quot;</td></tr><tr><td>1</td><td>1</td><td>1.1</td><td>&quot;Chennai Super …</td><td>&quot;Gujarat Titans…</td><td>6</td><td>0</td><td>178</td><td>&quot;Gujarat Titans…</td><td>&quot;field&quot;</td><td>&quot;Ahmedabad&quot;</td></tr><tr><td>1</td><td>1</td><td>1.2</td><td>&quot;Chennai Super …</td><td>&quot;Gujarat Titans…</td><td>6</td><td>0</td><td>178</td><td>&quot;Gujarat Titans…</td><td>&quot;field&quot;</td><td>&quot;Ahmedabad&quot;</td></tr><tr><td>1</td><td>1</td><td>1.3</td><td>&quot;Chennai Super …</td><td>&quot;Gujarat Titans…</td><td>10</td><td>0</td><td>178</td><td>&quot;Gujarat Titans…</td><td>&quot;field&quot;</td><td>&quot;Ahmedabad&quot;</td></tr><tr><td>1</td><td>1</td><td>1.4</td><td>&quot;Chennai Super …</td><td>&quot;Gujarat Titans…</td><td>11</td><td>0</td><td>178</td><td>&quot;Gujarat Titans…</td><td>&quot;field&quot;</td><td>&quot;Ahmedabad&quot;</td></tr><tr><td>1</td><td>1</td><td>1.5</td><td>&quot;Chennai Super …</td><td>&quot;Gujarat Titans…</td><td>12</td><td>0</td><td>178</td><td>&quot;Gujarat Titans…</td><td>&quot;field&quot;</td><td>&quot;Ahmedabad&quot;</td></tr><tr><td>1</td><td>1</td><td>1.6</td><td>&quot;Chennai Super …</td><td>&quot;Gujarat Titans…</td><td>13</td><td>0</td><td>178</td><td>&quot;Gujarat Titans…</td><td>&quot;field&quot;</td><td>&quot;Ahmedabad&quot;</td></tr><tr><td>&hellip;</td><td>&hellip;</td><td>&hellip;</td><td>&hellip;</td><td>&hellip;</td><td>&hellip;</td><td>&hellip;</td><td>&hellip;</td><td>&hellip;</td><td>&hellip;</td><td>&hellip;</td></tr><tr><td>74</td><td>2</td><td>13.1</td><td>&quot;Chennai Super …</td><td>&quot;Gujarat Titans…</td><td>151</td><td>5</td><td>171</td><td>&quot;Chennai Super …</td><td>&quot;field&quot;</td><td>&quot;Ahmedabad&quot;</td></tr><tr><td>74</td><td>2</td><td>13.2</td><td>&quot;Chennai Super …</td><td>&quot;Gujarat Titans…</td><td>151</td><td>5</td><td>171</td><td>&quot;Chennai Super …</td><td>&quot;field&quot;</td><td>&quot;Ahmedabad&quot;</td></tr><tr><td>74</td><td>2</td><td>13.3</td><td>&quot;Chennai Super …</td><td>&quot;Gujarat Titans…</td><td>153</td><td>5</td><td>171</td><td>&quot;Chennai Super …</td><td>&quot;field&quot;</td><td>&quot;Ahmedabad&quot;</td></tr><tr><td>74</td><td>2</td><td>13.4</td><td>&quot;Chennai Super …</td><td>&quot;Gujarat Titans…</td><td>155</td><td>5</td><td>171</td><td>&quot;Chennai Super …</td><td>&quot;field&quot;</td><td>&quot;Ahmedabad&quot;</td></tr><tr><td>74</td><td>2</td><td>13.5</td><td>&quot;Chennai Super …</td><td>&quot;Gujarat Titans…</td><td>156</td><td>5</td><td>171</td><td>&quot;Chennai Super …</td><td>&quot;field&quot;</td><td>&quot;Ahmedabad&quot;</td></tr><tr><td>74</td><td>2</td><td>13.6</td><td>&quot;Chennai Super …</td><td>&quot;Gujarat Titans…</td><td>158</td><td>5</td><td>171</td><td>&quot;Chennai Super …</td><td>&quot;field&quot;</td><td>&quot;Ahmedabad&quot;</td></tr><tr><td>74</td><td>2</td><td>14.1</td><td>&quot;Chennai Super …</td><td>&quot;Gujarat Titans…</td><td>158</td><td>5</td><td>171</td><td>&quot;Chennai Super …</td><td>&quot;field&quot;</td><td>&quot;Ahmedabad&quot;</td></tr><tr><td>74</td><td>2</td><td>14.2</td><td>&quot;Chennai Super …</td><td>&quot;Gujarat Titans…</td><td>159</td><td>5</td><td>171</td><td>&quot;Chennai Super …</td><td>&quot;field&quot;</td><td>&quot;Ahmedabad&quot;</td></tr><tr><td>74</td><td>2</td><td>14.3</td><td>&quot;Chennai Super …</td><td>&quot;Gujarat Titans…</td><td>160</td><td>5</td><td>171</td><td>&quot;Chennai Super …</td><td>&quot;field&quot;</td><td>&quot;Ahmedabad&quot;</td></tr><tr><td>74</td><td>2</td><td>14.4</td><td>&quot;Chennai Super …</td><td>&quot;Gujarat Titans…</td><td>161</td><td>5</td><td>171</td><td>&quot;Chennai Super …</td><td>&quot;field&quot;</td><td>&quot;Ahmedabad&quot;</td></tr><tr><td>74</td><td>2</td><td>14.5</td><td>&quot;Chennai Super …</td><td>&quot;Gujarat Titans…</td><td>167</td><td>5</td><td>171</td><td>&quot;Chennai Super …</td><td>&quot;field&quot;</td><td>&quot;Ahmedabad&quot;</td></tr><tr><td>74</td><td>2</td><td>14.6</td><td>&quot;Chennai Super …</td><td>&quot;Gujarat Titans…</td><td>171</td><td>5</td><td>171</td><td>&quot;Chennai Super …</td><td>&quot;field&quot;</td><td>&quot;Ahmedabad&quot;</td></tr></tbody></table></div>"
      ],
      "text/plain": [
       "shape: (17_862, 11)\n",
       "┌──────────┬─────────┬──────┬────────────┬───┬────────────┬───────────────┬────────────┬───────────┐\n",
       "│ match_id ┆ innings ┆ ball ┆ batting_te ┆ … ┆ final_runs ┆ toss_won      ┆ toss_decis ┆ city      │\n",
       "│ ---      ┆ ---     ┆ ---  ┆ am         ┆   ┆ ---        ┆ ---           ┆ ion        ┆ ---       │\n",
       "│ i64      ┆ i64     ┆ f64  ┆ ---        ┆   ┆ i64        ┆ str           ┆ ---        ┆ str       │\n",
       "│          ┆         ┆      ┆ str        ┆   ┆            ┆               ┆ str        ┆           │\n",
       "╞══════════╪═════════╪══════╪════════════╪═══╪════════════╪═══════════════╪════════════╪═══════════╡\n",
       "│ 1        ┆ 1       ┆ 0.1  ┆ Chennai    ┆ … ┆ 178        ┆ Gujarat       ┆ field      ┆ Ahmedabad │\n",
       "│          ┆         ┆      ┆ Super      ┆   ┆            ┆ Titans        ┆            ┆           │\n",
       "│          ┆         ┆      ┆ Kings      ┆   ┆            ┆               ┆            ┆           │\n",
       "│ 1        ┆ 1       ┆ 0.2  ┆ Chennai    ┆ … ┆ 178        ┆ Gujarat       ┆ field      ┆ Ahmedabad │\n",
       "│          ┆         ┆      ┆ Super      ┆   ┆            ┆ Titans        ┆            ┆           │\n",
       "│          ┆         ┆      ┆ Kings      ┆   ┆            ┆               ┆            ┆           │\n",
       "│ 1        ┆ 1       ┆ 0.3  ┆ Chennai    ┆ … ┆ 178        ┆ Gujarat       ┆ field      ┆ Ahmedabad │\n",
       "│          ┆         ┆      ┆ Super      ┆   ┆            ┆ Titans        ┆            ┆           │\n",
       "│          ┆         ┆      ┆ Kings      ┆   ┆            ┆               ┆            ┆           │\n",
       "│ 1        ┆ 1       ┆ 0.4  ┆ Chennai    ┆ … ┆ 178        ┆ Gujarat       ┆ field      ┆ Ahmedabad │\n",
       "│          ┆         ┆      ┆ Super      ┆   ┆            ┆ Titans        ┆            ┆           │\n",
       "│          ┆         ┆      ┆ Kings      ┆   ┆            ┆               ┆            ┆           │\n",
       "│ …        ┆ …       ┆ …    ┆ …          ┆ … ┆ …          ┆ …             ┆ …          ┆ …         │\n",
       "│ 74       ┆ 2       ┆ 14.3 ┆ Chennai    ┆ … ┆ 171        ┆ Chennai Super ┆ field      ┆ Ahmedabad │\n",
       "│          ┆         ┆      ┆ Super      ┆   ┆            ┆ Kings         ┆            ┆           │\n",
       "│          ┆         ┆      ┆ Kings      ┆   ┆            ┆               ┆            ┆           │\n",
       "│ 74       ┆ 2       ┆ 14.4 ┆ Chennai    ┆ … ┆ 171        ┆ Chennai Super ┆ field      ┆ Ahmedabad │\n",
       "│          ┆         ┆      ┆ Super      ┆   ┆            ┆ Kings         ┆            ┆           │\n",
       "│          ┆         ┆      ┆ Kings      ┆   ┆            ┆               ┆            ┆           │\n",
       "│ 74       ┆ 2       ┆ 14.5 ┆ Chennai    ┆ … ┆ 171        ┆ Chennai Super ┆ field      ┆ Ahmedabad │\n",
       "│          ┆         ┆      ┆ Super      ┆   ┆            ┆ Kings         ┆            ┆           │\n",
       "│          ┆         ┆      ┆ Kings      ┆   ┆            ┆               ┆            ┆           │\n",
       "│ 74       ┆ 2       ┆ 14.6 ┆ Chennai    ┆ … ┆ 171        ┆ Chennai Super ┆ field      ┆ Ahmedabad │\n",
       "│          ┆         ┆      ┆ Super      ┆   ┆            ┆ Kings         ┆            ┆           │\n",
       "│          ┆         ┆      ┆ Kings      ┆   ┆            ┆               ┆            ┆           │\n",
       "└──────────┴─────────┴──────┴────────────┴───┴────────────┴───────────────┴────────────┴───────────┘"
      ]
     },
     "execution_count": 13,
     "metadata": {},
     "output_type": "execute_result"
    }
   ],
   "source": [
    "deliveries=deliveries.join(matches,on=\"match_id\")\n",
    "deliveries"
   ]
  },
  {
   "cell_type": "code",
   "execution_count": 14,
   "metadata": {},
   "outputs": [
    {
     "data": {
      "text/html": [
       "<div><style>\n",
       ".dataframe > thead > tr > th,\n",
       ".dataframe > tbody > tr > td {\n",
       "  text-align: right;\n",
       "}\n",
       "</style>\n",
       "<small>shape: (17_862, 11)</small><table border=\"1\" class=\"dataframe\"><thead><tr><th>match_id</th><th>innings</th><th>ball</th><th>batting_team</th><th>bowling_team</th><th>current_runs</th><th>wickets</th><th>final_runs</th><th>toss_won</th><th>toss_decision</th><th>city</th></tr><tr><td>i64</td><td>i64</td><td>f64</td><td>str</td><td>str</td><td>i64</td><td>i64</td><td>i64</td><td>str</td><td>str</td><td>str</td></tr></thead><tbody><tr><td>1</td><td>1</td><td>0.1</td><td>&quot;Chennai Super …</td><td>&quot;Gujarat Titans…</td><td>0</td><td>0</td><td>178</td><td>&quot;Gujarat Titans…</td><td>&quot;1&quot;</td><td>&quot;Ahmedabad&quot;</td></tr><tr><td>1</td><td>1</td><td>0.2</td><td>&quot;Chennai Super …</td><td>&quot;Gujarat Titans…</td><td>1</td><td>0</td><td>178</td><td>&quot;Gujarat Titans…</td><td>&quot;1&quot;</td><td>&quot;Ahmedabad&quot;</td></tr><tr><td>1</td><td>1</td><td>0.3</td><td>&quot;Chennai Super …</td><td>&quot;Gujarat Titans…</td><td>1</td><td>0</td><td>178</td><td>&quot;Gujarat Titans…</td><td>&quot;1&quot;</td><td>&quot;Ahmedabad&quot;</td></tr><tr><td>1</td><td>1</td><td>0.4</td><td>&quot;Chennai Super …</td><td>&quot;Gujarat Titans…</td><td>2</td><td>0</td><td>178</td><td>&quot;Gujarat Titans…</td><td>&quot;1&quot;</td><td>&quot;Ahmedabad&quot;</td></tr><tr><td>1</td><td>1</td><td>0.5</td><td>&quot;Chennai Super …</td><td>&quot;Gujarat Titans…</td><td>2</td><td>0</td><td>178</td><td>&quot;Gujarat Titans…</td><td>&quot;1&quot;</td><td>&quot;Ahmedabad&quot;</td></tr><tr><td>1</td><td>1</td><td>0.6</td><td>&quot;Chennai Super …</td><td>&quot;Gujarat Titans…</td><td>2</td><td>0</td><td>178</td><td>&quot;Gujarat Titans…</td><td>&quot;1&quot;</td><td>&quot;Ahmedabad&quot;</td></tr><tr><td>1</td><td>1</td><td>1.1</td><td>&quot;Chennai Super …</td><td>&quot;Gujarat Titans…</td><td>6</td><td>0</td><td>178</td><td>&quot;Gujarat Titans…</td><td>&quot;1&quot;</td><td>&quot;Ahmedabad&quot;</td></tr><tr><td>1</td><td>1</td><td>1.2</td><td>&quot;Chennai Super …</td><td>&quot;Gujarat Titans…</td><td>6</td><td>0</td><td>178</td><td>&quot;Gujarat Titans…</td><td>&quot;1&quot;</td><td>&quot;Ahmedabad&quot;</td></tr><tr><td>1</td><td>1</td><td>1.3</td><td>&quot;Chennai Super …</td><td>&quot;Gujarat Titans…</td><td>10</td><td>0</td><td>178</td><td>&quot;Gujarat Titans…</td><td>&quot;1&quot;</td><td>&quot;Ahmedabad&quot;</td></tr><tr><td>1</td><td>1</td><td>1.4</td><td>&quot;Chennai Super …</td><td>&quot;Gujarat Titans…</td><td>11</td><td>0</td><td>178</td><td>&quot;Gujarat Titans…</td><td>&quot;1&quot;</td><td>&quot;Ahmedabad&quot;</td></tr><tr><td>1</td><td>1</td><td>1.5</td><td>&quot;Chennai Super …</td><td>&quot;Gujarat Titans…</td><td>12</td><td>0</td><td>178</td><td>&quot;Gujarat Titans…</td><td>&quot;1&quot;</td><td>&quot;Ahmedabad&quot;</td></tr><tr><td>1</td><td>1</td><td>1.6</td><td>&quot;Chennai Super …</td><td>&quot;Gujarat Titans…</td><td>13</td><td>0</td><td>178</td><td>&quot;Gujarat Titans…</td><td>&quot;1&quot;</td><td>&quot;Ahmedabad&quot;</td></tr><tr><td>&hellip;</td><td>&hellip;</td><td>&hellip;</td><td>&hellip;</td><td>&hellip;</td><td>&hellip;</td><td>&hellip;</td><td>&hellip;</td><td>&hellip;</td><td>&hellip;</td><td>&hellip;</td></tr><tr><td>74</td><td>2</td><td>13.1</td><td>&quot;Chennai Super …</td><td>&quot;Gujarat Titans…</td><td>151</td><td>5</td><td>171</td><td>&quot;Chennai Super …</td><td>&quot;1&quot;</td><td>&quot;Ahmedabad&quot;</td></tr><tr><td>74</td><td>2</td><td>13.2</td><td>&quot;Chennai Super …</td><td>&quot;Gujarat Titans…</td><td>151</td><td>5</td><td>171</td><td>&quot;Chennai Super …</td><td>&quot;1&quot;</td><td>&quot;Ahmedabad&quot;</td></tr><tr><td>74</td><td>2</td><td>13.3</td><td>&quot;Chennai Super …</td><td>&quot;Gujarat Titans…</td><td>153</td><td>5</td><td>171</td><td>&quot;Chennai Super …</td><td>&quot;1&quot;</td><td>&quot;Ahmedabad&quot;</td></tr><tr><td>74</td><td>2</td><td>13.4</td><td>&quot;Chennai Super …</td><td>&quot;Gujarat Titans…</td><td>155</td><td>5</td><td>171</td><td>&quot;Chennai Super …</td><td>&quot;1&quot;</td><td>&quot;Ahmedabad&quot;</td></tr><tr><td>74</td><td>2</td><td>13.5</td><td>&quot;Chennai Super …</td><td>&quot;Gujarat Titans…</td><td>156</td><td>5</td><td>171</td><td>&quot;Chennai Super …</td><td>&quot;1&quot;</td><td>&quot;Ahmedabad&quot;</td></tr><tr><td>74</td><td>2</td><td>13.6</td><td>&quot;Chennai Super …</td><td>&quot;Gujarat Titans…</td><td>158</td><td>5</td><td>171</td><td>&quot;Chennai Super …</td><td>&quot;1&quot;</td><td>&quot;Ahmedabad&quot;</td></tr><tr><td>74</td><td>2</td><td>14.1</td><td>&quot;Chennai Super …</td><td>&quot;Gujarat Titans…</td><td>158</td><td>5</td><td>171</td><td>&quot;Chennai Super …</td><td>&quot;1&quot;</td><td>&quot;Ahmedabad&quot;</td></tr><tr><td>74</td><td>2</td><td>14.2</td><td>&quot;Chennai Super …</td><td>&quot;Gujarat Titans…</td><td>159</td><td>5</td><td>171</td><td>&quot;Chennai Super …</td><td>&quot;1&quot;</td><td>&quot;Ahmedabad&quot;</td></tr><tr><td>74</td><td>2</td><td>14.3</td><td>&quot;Chennai Super …</td><td>&quot;Gujarat Titans…</td><td>160</td><td>5</td><td>171</td><td>&quot;Chennai Super …</td><td>&quot;1&quot;</td><td>&quot;Ahmedabad&quot;</td></tr><tr><td>74</td><td>2</td><td>14.4</td><td>&quot;Chennai Super …</td><td>&quot;Gujarat Titans…</td><td>161</td><td>5</td><td>171</td><td>&quot;Chennai Super …</td><td>&quot;1&quot;</td><td>&quot;Ahmedabad&quot;</td></tr><tr><td>74</td><td>2</td><td>14.5</td><td>&quot;Chennai Super …</td><td>&quot;Gujarat Titans…</td><td>167</td><td>5</td><td>171</td><td>&quot;Chennai Super …</td><td>&quot;1&quot;</td><td>&quot;Ahmedabad&quot;</td></tr><tr><td>74</td><td>2</td><td>14.6</td><td>&quot;Chennai Super …</td><td>&quot;Gujarat Titans…</td><td>171</td><td>5</td><td>171</td><td>&quot;Chennai Super …</td><td>&quot;1&quot;</td><td>&quot;Ahmedabad&quot;</td></tr></tbody></table></div>"
      ],
      "text/plain": [
       "shape: (17_862, 11)\n",
       "┌──────────┬─────────┬──────┬────────────┬───┬────────────┬───────────────┬────────────┬───────────┐\n",
       "│ match_id ┆ innings ┆ ball ┆ batting_te ┆ … ┆ final_runs ┆ toss_won      ┆ toss_decis ┆ city      │\n",
       "│ ---      ┆ ---     ┆ ---  ┆ am         ┆   ┆ ---        ┆ ---           ┆ ion        ┆ ---       │\n",
       "│ i64      ┆ i64     ┆ f64  ┆ ---        ┆   ┆ i64        ┆ str           ┆ ---        ┆ str       │\n",
       "│          ┆         ┆      ┆ str        ┆   ┆            ┆               ┆ str        ┆           │\n",
       "╞══════════╪═════════╪══════╪════════════╪═══╪════════════╪═══════════════╪════════════╪═══════════╡\n",
       "│ 1        ┆ 1       ┆ 0.1  ┆ Chennai    ┆ … ┆ 178        ┆ Gujarat       ┆ 1          ┆ Ahmedabad │\n",
       "│          ┆         ┆      ┆ Super      ┆   ┆            ┆ Titans        ┆            ┆           │\n",
       "│          ┆         ┆      ┆ Kings      ┆   ┆            ┆               ┆            ┆           │\n",
       "│ 1        ┆ 1       ┆ 0.2  ┆ Chennai    ┆ … ┆ 178        ┆ Gujarat       ┆ 1          ┆ Ahmedabad │\n",
       "│          ┆         ┆      ┆ Super      ┆   ┆            ┆ Titans        ┆            ┆           │\n",
       "│          ┆         ┆      ┆ Kings      ┆   ┆            ┆               ┆            ┆           │\n",
       "│ 1        ┆ 1       ┆ 0.3  ┆ Chennai    ┆ … ┆ 178        ┆ Gujarat       ┆ 1          ┆ Ahmedabad │\n",
       "│          ┆         ┆      ┆ Super      ┆   ┆            ┆ Titans        ┆            ┆           │\n",
       "│          ┆         ┆      ┆ Kings      ┆   ┆            ┆               ┆            ┆           │\n",
       "│ 1        ┆ 1       ┆ 0.4  ┆ Chennai    ┆ … ┆ 178        ┆ Gujarat       ┆ 1          ┆ Ahmedabad │\n",
       "│          ┆         ┆      ┆ Super      ┆   ┆            ┆ Titans        ┆            ┆           │\n",
       "│          ┆         ┆      ┆ Kings      ┆   ┆            ┆               ┆            ┆           │\n",
       "│ …        ┆ …       ┆ …    ┆ …          ┆ … ┆ …          ┆ …             ┆ …          ┆ …         │\n",
       "│ 74       ┆ 2       ┆ 14.3 ┆ Chennai    ┆ … ┆ 171        ┆ Chennai Super ┆ 1          ┆ Ahmedabad │\n",
       "│          ┆         ┆      ┆ Super      ┆   ┆            ┆ Kings         ┆            ┆           │\n",
       "│          ┆         ┆      ┆ Kings      ┆   ┆            ┆               ┆            ┆           │\n",
       "│ 74       ┆ 2       ┆ 14.4 ┆ Chennai    ┆ … ┆ 171        ┆ Chennai Super ┆ 1          ┆ Ahmedabad │\n",
       "│          ┆         ┆      ┆ Super      ┆   ┆            ┆ Kings         ┆            ┆           │\n",
       "│          ┆         ┆      ┆ Kings      ┆   ┆            ┆               ┆            ┆           │\n",
       "│ 74       ┆ 2       ┆ 14.5 ┆ Chennai    ┆ … ┆ 171        ┆ Chennai Super ┆ 1          ┆ Ahmedabad │\n",
       "│          ┆         ┆      ┆ Super      ┆   ┆            ┆ Kings         ┆            ┆           │\n",
       "│          ┆         ┆      ┆ Kings      ┆   ┆            ┆               ┆            ┆           │\n",
       "│ 74       ┆ 2       ┆ 14.6 ┆ Chennai    ┆ … ┆ 171        ┆ Chennai Super ┆ 1          ┆ Ahmedabad │\n",
       "│          ┆         ┆      ┆ Super      ┆   ┆            ┆ Kings         ┆            ┆           │\n",
       "│          ┆         ┆      ┆ Kings      ┆   ┆            ┆               ┆            ┆           │\n",
       "└──────────┴─────────┴──────┴────────────┴───┴────────────┴───────────────┴────────────┴───────────┘"
      ]
     },
     "execution_count": 14,
     "metadata": {},
     "output_type": "execute_result"
    }
   ],
   "source": [
    "deliveries=deliveries.with_columns(pl.col(\"toss_decision\").str.replace(\"field\",1)).with_columns(pl.col(\"toss_decision\").str.replace(\"bat\",0))\n",
    "deliveries"
   ]
  },
  {
   "cell_type": "code",
   "execution_count": 15,
   "metadata": {},
   "outputs": [
    {
     "data": {
      "text/html": [
       "<div><style>\n",
       ".dataframe > thead > tr > th,\n",
       ".dataframe > tbody > tr > td {\n",
       "  text-align: right;\n",
       "}\n",
       "</style>\n",
       "<small>shape: (17_862, 11)</small><table border=\"1\" class=\"dataframe\"><thead><tr><th>match_id</th><th>innings</th><th>ball</th><th>batting_team</th><th>bowling_team</th><th>current_runs</th><th>wickets</th><th>final_runs</th><th>toss_won</th><th>toss_decision</th><th>city</th></tr><tr><td>i64</td><td>i64</td><td>f64</td><td>str</td><td>str</td><td>i64</td><td>i64</td><td>i64</td><td>str</td><td>i64</td><td>str</td></tr></thead><tbody><tr><td>1</td><td>1</td><td>0.1</td><td>&quot;Chennai Super …</td><td>&quot;Gujarat Titans…</td><td>0</td><td>0</td><td>178</td><td>&quot;Gujarat Titans…</td><td>1</td><td>&quot;Ahmedabad&quot;</td></tr><tr><td>1</td><td>1</td><td>0.2</td><td>&quot;Chennai Super …</td><td>&quot;Gujarat Titans…</td><td>1</td><td>0</td><td>178</td><td>&quot;Gujarat Titans…</td><td>1</td><td>&quot;Ahmedabad&quot;</td></tr><tr><td>1</td><td>1</td><td>0.3</td><td>&quot;Chennai Super …</td><td>&quot;Gujarat Titans…</td><td>1</td><td>0</td><td>178</td><td>&quot;Gujarat Titans…</td><td>1</td><td>&quot;Ahmedabad&quot;</td></tr><tr><td>1</td><td>1</td><td>0.4</td><td>&quot;Chennai Super …</td><td>&quot;Gujarat Titans…</td><td>2</td><td>0</td><td>178</td><td>&quot;Gujarat Titans…</td><td>1</td><td>&quot;Ahmedabad&quot;</td></tr><tr><td>1</td><td>1</td><td>0.5</td><td>&quot;Chennai Super …</td><td>&quot;Gujarat Titans…</td><td>2</td><td>0</td><td>178</td><td>&quot;Gujarat Titans…</td><td>1</td><td>&quot;Ahmedabad&quot;</td></tr><tr><td>1</td><td>1</td><td>0.6</td><td>&quot;Chennai Super …</td><td>&quot;Gujarat Titans…</td><td>2</td><td>0</td><td>178</td><td>&quot;Gujarat Titans…</td><td>1</td><td>&quot;Ahmedabad&quot;</td></tr><tr><td>1</td><td>1</td><td>1.1</td><td>&quot;Chennai Super …</td><td>&quot;Gujarat Titans…</td><td>6</td><td>0</td><td>178</td><td>&quot;Gujarat Titans…</td><td>1</td><td>&quot;Ahmedabad&quot;</td></tr><tr><td>1</td><td>1</td><td>1.2</td><td>&quot;Chennai Super …</td><td>&quot;Gujarat Titans…</td><td>6</td><td>0</td><td>178</td><td>&quot;Gujarat Titans…</td><td>1</td><td>&quot;Ahmedabad&quot;</td></tr><tr><td>1</td><td>1</td><td>1.3</td><td>&quot;Chennai Super …</td><td>&quot;Gujarat Titans…</td><td>10</td><td>0</td><td>178</td><td>&quot;Gujarat Titans…</td><td>1</td><td>&quot;Ahmedabad&quot;</td></tr><tr><td>1</td><td>1</td><td>1.4</td><td>&quot;Chennai Super …</td><td>&quot;Gujarat Titans…</td><td>11</td><td>0</td><td>178</td><td>&quot;Gujarat Titans…</td><td>1</td><td>&quot;Ahmedabad&quot;</td></tr><tr><td>1</td><td>1</td><td>1.5</td><td>&quot;Chennai Super …</td><td>&quot;Gujarat Titans…</td><td>12</td><td>0</td><td>178</td><td>&quot;Gujarat Titans…</td><td>1</td><td>&quot;Ahmedabad&quot;</td></tr><tr><td>1</td><td>1</td><td>1.6</td><td>&quot;Chennai Super …</td><td>&quot;Gujarat Titans…</td><td>13</td><td>0</td><td>178</td><td>&quot;Gujarat Titans…</td><td>1</td><td>&quot;Ahmedabad&quot;</td></tr><tr><td>&hellip;</td><td>&hellip;</td><td>&hellip;</td><td>&hellip;</td><td>&hellip;</td><td>&hellip;</td><td>&hellip;</td><td>&hellip;</td><td>&hellip;</td><td>&hellip;</td><td>&hellip;</td></tr><tr><td>74</td><td>2</td><td>13.1</td><td>&quot;Chennai Super …</td><td>&quot;Gujarat Titans…</td><td>151</td><td>5</td><td>171</td><td>&quot;Chennai Super …</td><td>1</td><td>&quot;Ahmedabad&quot;</td></tr><tr><td>74</td><td>2</td><td>13.2</td><td>&quot;Chennai Super …</td><td>&quot;Gujarat Titans…</td><td>151</td><td>5</td><td>171</td><td>&quot;Chennai Super …</td><td>1</td><td>&quot;Ahmedabad&quot;</td></tr><tr><td>74</td><td>2</td><td>13.3</td><td>&quot;Chennai Super …</td><td>&quot;Gujarat Titans…</td><td>153</td><td>5</td><td>171</td><td>&quot;Chennai Super …</td><td>1</td><td>&quot;Ahmedabad&quot;</td></tr><tr><td>74</td><td>2</td><td>13.4</td><td>&quot;Chennai Super …</td><td>&quot;Gujarat Titans…</td><td>155</td><td>5</td><td>171</td><td>&quot;Chennai Super …</td><td>1</td><td>&quot;Ahmedabad&quot;</td></tr><tr><td>74</td><td>2</td><td>13.5</td><td>&quot;Chennai Super …</td><td>&quot;Gujarat Titans…</td><td>156</td><td>5</td><td>171</td><td>&quot;Chennai Super …</td><td>1</td><td>&quot;Ahmedabad&quot;</td></tr><tr><td>74</td><td>2</td><td>13.6</td><td>&quot;Chennai Super …</td><td>&quot;Gujarat Titans…</td><td>158</td><td>5</td><td>171</td><td>&quot;Chennai Super …</td><td>1</td><td>&quot;Ahmedabad&quot;</td></tr><tr><td>74</td><td>2</td><td>14.1</td><td>&quot;Chennai Super …</td><td>&quot;Gujarat Titans…</td><td>158</td><td>5</td><td>171</td><td>&quot;Chennai Super …</td><td>1</td><td>&quot;Ahmedabad&quot;</td></tr><tr><td>74</td><td>2</td><td>14.2</td><td>&quot;Chennai Super …</td><td>&quot;Gujarat Titans…</td><td>159</td><td>5</td><td>171</td><td>&quot;Chennai Super …</td><td>1</td><td>&quot;Ahmedabad&quot;</td></tr><tr><td>74</td><td>2</td><td>14.3</td><td>&quot;Chennai Super …</td><td>&quot;Gujarat Titans…</td><td>160</td><td>5</td><td>171</td><td>&quot;Chennai Super …</td><td>1</td><td>&quot;Ahmedabad&quot;</td></tr><tr><td>74</td><td>2</td><td>14.4</td><td>&quot;Chennai Super …</td><td>&quot;Gujarat Titans…</td><td>161</td><td>5</td><td>171</td><td>&quot;Chennai Super …</td><td>1</td><td>&quot;Ahmedabad&quot;</td></tr><tr><td>74</td><td>2</td><td>14.5</td><td>&quot;Chennai Super …</td><td>&quot;Gujarat Titans…</td><td>167</td><td>5</td><td>171</td><td>&quot;Chennai Super …</td><td>1</td><td>&quot;Ahmedabad&quot;</td></tr><tr><td>74</td><td>2</td><td>14.6</td><td>&quot;Chennai Super …</td><td>&quot;Gujarat Titans…</td><td>171</td><td>5</td><td>171</td><td>&quot;Chennai Super …</td><td>1</td><td>&quot;Ahmedabad&quot;</td></tr></tbody></table></div>"
      ],
      "text/plain": [
       "shape: (17_862, 11)\n",
       "┌──────────┬─────────┬──────┬────────────┬───┬────────────┬───────────────┬────────────┬───────────┐\n",
       "│ match_id ┆ innings ┆ ball ┆ batting_te ┆ … ┆ final_runs ┆ toss_won      ┆ toss_decis ┆ city      │\n",
       "│ ---      ┆ ---     ┆ ---  ┆ am         ┆   ┆ ---        ┆ ---           ┆ ion        ┆ ---       │\n",
       "│ i64      ┆ i64     ┆ f64  ┆ ---        ┆   ┆ i64        ┆ str           ┆ ---        ┆ str       │\n",
       "│          ┆         ┆      ┆ str        ┆   ┆            ┆               ┆ i64        ┆           │\n",
       "╞══════════╪═════════╪══════╪════════════╪═══╪════════════╪═══════════════╪════════════╪═══════════╡\n",
       "│ 1        ┆ 1       ┆ 0.1  ┆ Chennai    ┆ … ┆ 178        ┆ Gujarat       ┆ 1          ┆ Ahmedabad │\n",
       "│          ┆         ┆      ┆ Super      ┆   ┆            ┆ Titans        ┆            ┆           │\n",
       "│          ┆         ┆      ┆ Kings      ┆   ┆            ┆               ┆            ┆           │\n",
       "│ 1        ┆ 1       ┆ 0.2  ┆ Chennai    ┆ … ┆ 178        ┆ Gujarat       ┆ 1          ┆ Ahmedabad │\n",
       "│          ┆         ┆      ┆ Super      ┆   ┆            ┆ Titans        ┆            ┆           │\n",
       "│          ┆         ┆      ┆ Kings      ┆   ┆            ┆               ┆            ┆           │\n",
       "│ 1        ┆ 1       ┆ 0.3  ┆ Chennai    ┆ … ┆ 178        ┆ Gujarat       ┆ 1          ┆ Ahmedabad │\n",
       "│          ┆         ┆      ┆ Super      ┆   ┆            ┆ Titans        ┆            ┆           │\n",
       "│          ┆         ┆      ┆ Kings      ┆   ┆            ┆               ┆            ┆           │\n",
       "│ 1        ┆ 1       ┆ 0.4  ┆ Chennai    ┆ … ┆ 178        ┆ Gujarat       ┆ 1          ┆ Ahmedabad │\n",
       "│          ┆         ┆      ┆ Super      ┆   ┆            ┆ Titans        ┆            ┆           │\n",
       "│          ┆         ┆      ┆ Kings      ┆   ┆            ┆               ┆            ┆           │\n",
       "│ …        ┆ …       ┆ …    ┆ …          ┆ … ┆ …          ┆ …             ┆ …          ┆ …         │\n",
       "│ 74       ┆ 2       ┆ 14.3 ┆ Chennai    ┆ … ┆ 171        ┆ Chennai Super ┆ 1          ┆ Ahmedabad │\n",
       "│          ┆         ┆      ┆ Super      ┆   ┆            ┆ Kings         ┆            ┆           │\n",
       "│          ┆         ┆      ┆ Kings      ┆   ┆            ┆               ┆            ┆           │\n",
       "│ 74       ┆ 2       ┆ 14.4 ┆ Chennai    ┆ … ┆ 171        ┆ Chennai Super ┆ 1          ┆ Ahmedabad │\n",
       "│          ┆         ┆      ┆ Super      ┆   ┆            ┆ Kings         ┆            ┆           │\n",
       "│          ┆         ┆      ┆ Kings      ┆   ┆            ┆               ┆            ┆           │\n",
       "│ 74       ┆ 2       ┆ 14.5 ┆ Chennai    ┆ … ┆ 171        ┆ Chennai Super ┆ 1          ┆ Ahmedabad │\n",
       "│          ┆         ┆      ┆ Super      ┆   ┆            ┆ Kings         ┆            ┆           │\n",
       "│          ┆         ┆      ┆ Kings      ┆   ┆            ┆               ┆            ┆           │\n",
       "│ 74       ┆ 2       ┆ 14.6 ┆ Chennai    ┆ … ┆ 171        ┆ Chennai Super ┆ 1          ┆ Ahmedabad │\n",
       "│          ┆         ┆      ┆ Super      ┆   ┆            ┆ Kings         ┆            ┆           │\n",
       "│          ┆         ┆      ┆ Kings      ┆   ┆            ┆               ┆            ┆           │\n",
       "└──────────┴─────────┴──────┴────────────┴───┴────────────┴───────────────┴────────────┴───────────┘"
      ]
     },
     "execution_count": 15,
     "metadata": {},
     "output_type": "execute_result"
    }
   ],
   "source": [
    "deliveries=deliveries.with_columns(deliveries[\"toss_decision\"].cast(pl.Int64()))\n",
    "deliveries"
   ]
  },
  {
   "cell_type": "code",
   "execution_count": 16,
   "metadata": {},
   "outputs": [
    {
     "data": {
      "text/html": [
       "<div><style>\n",
       ".dataframe > thead > tr > th,\n",
       ".dataframe > tbody > tr > td {\n",
       "  text-align: right;\n",
       "}\n",
       "</style>\n",
       "<small>shape: (17_862, 12)</small><table border=\"1\" class=\"dataframe\"><thead><tr><th>match_id</th><th>innings</th><th>ball</th><th>batting_team</th><th>bowling_team</th><th>current_runs</th><th>wickets</th><th>final_runs</th><th>toss_won</th><th>toss_decision</th><th>city</th><th>current_run_rate</th></tr><tr><td>i64</td><td>i64</td><td>f64</td><td>str</td><td>str</td><td>i64</td><td>i64</td><td>i64</td><td>str</td><td>i64</td><td>str</td><td>f64</td></tr></thead><tbody><tr><td>1</td><td>1</td><td>0.1</td><td>&quot;Chennai Super …</td><td>&quot;Gujarat Titans…</td><td>0</td><td>0</td><td>178</td><td>&quot;Gujarat Titans…</td><td>1</td><td>&quot;Ahmedabad&quot;</td><td>NaN</td></tr><tr><td>1</td><td>1</td><td>0.2</td><td>&quot;Chennai Super …</td><td>&quot;Gujarat Titans…</td><td>1</td><td>0</td><td>178</td><td>&quot;Gujarat Titans…</td><td>1</td><td>&quot;Ahmedabad&quot;</td><td>inf</td></tr><tr><td>1</td><td>1</td><td>0.3</td><td>&quot;Chennai Super …</td><td>&quot;Gujarat Titans…</td><td>1</td><td>0</td><td>178</td><td>&quot;Gujarat Titans…</td><td>1</td><td>&quot;Ahmedabad&quot;</td><td>inf</td></tr><tr><td>1</td><td>1</td><td>0.4</td><td>&quot;Chennai Super …</td><td>&quot;Gujarat Titans…</td><td>2</td><td>0</td><td>178</td><td>&quot;Gujarat Titans…</td><td>1</td><td>&quot;Ahmedabad&quot;</td><td>inf</td></tr><tr><td>1</td><td>1</td><td>0.5</td><td>&quot;Chennai Super …</td><td>&quot;Gujarat Titans…</td><td>2</td><td>0</td><td>178</td><td>&quot;Gujarat Titans…</td><td>1</td><td>&quot;Ahmedabad&quot;</td><td>inf</td></tr><tr><td>1</td><td>1</td><td>0.6</td><td>&quot;Chennai Super …</td><td>&quot;Gujarat Titans…</td><td>2</td><td>0</td><td>178</td><td>&quot;Gujarat Titans…</td><td>1</td><td>&quot;Ahmedabad&quot;</td><td>inf</td></tr><tr><td>1</td><td>1</td><td>1.1</td><td>&quot;Chennai Super …</td><td>&quot;Gujarat Titans…</td><td>6</td><td>0</td><td>178</td><td>&quot;Gujarat Titans…</td><td>1</td><td>&quot;Ahmedabad&quot;</td><td>6.0</td></tr><tr><td>1</td><td>1</td><td>1.2</td><td>&quot;Chennai Super …</td><td>&quot;Gujarat Titans…</td><td>6</td><td>0</td><td>178</td><td>&quot;Gujarat Titans…</td><td>1</td><td>&quot;Ahmedabad&quot;</td><td>6.0</td></tr><tr><td>1</td><td>1</td><td>1.3</td><td>&quot;Chennai Super …</td><td>&quot;Gujarat Titans…</td><td>10</td><td>0</td><td>178</td><td>&quot;Gujarat Titans…</td><td>1</td><td>&quot;Ahmedabad&quot;</td><td>10.0</td></tr><tr><td>1</td><td>1</td><td>1.4</td><td>&quot;Chennai Super …</td><td>&quot;Gujarat Titans…</td><td>11</td><td>0</td><td>178</td><td>&quot;Gujarat Titans…</td><td>1</td><td>&quot;Ahmedabad&quot;</td><td>11.0</td></tr><tr><td>1</td><td>1</td><td>1.5</td><td>&quot;Chennai Super …</td><td>&quot;Gujarat Titans…</td><td>12</td><td>0</td><td>178</td><td>&quot;Gujarat Titans…</td><td>1</td><td>&quot;Ahmedabad&quot;</td><td>12.0</td></tr><tr><td>1</td><td>1</td><td>1.6</td><td>&quot;Chennai Super …</td><td>&quot;Gujarat Titans…</td><td>13</td><td>0</td><td>178</td><td>&quot;Gujarat Titans…</td><td>1</td><td>&quot;Ahmedabad&quot;</td><td>13.0</td></tr><tr><td>&hellip;</td><td>&hellip;</td><td>&hellip;</td><td>&hellip;</td><td>&hellip;</td><td>&hellip;</td><td>&hellip;</td><td>&hellip;</td><td>&hellip;</td><td>&hellip;</td><td>&hellip;</td><td>&hellip;</td></tr><tr><td>74</td><td>2</td><td>13.1</td><td>&quot;Chennai Super …</td><td>&quot;Gujarat Titans…</td><td>151</td><td>5</td><td>171</td><td>&quot;Chennai Super …</td><td>1</td><td>&quot;Ahmedabad&quot;</td><td>11.615385</td></tr><tr><td>74</td><td>2</td><td>13.2</td><td>&quot;Chennai Super …</td><td>&quot;Gujarat Titans…</td><td>151</td><td>5</td><td>171</td><td>&quot;Chennai Super …</td><td>1</td><td>&quot;Ahmedabad&quot;</td><td>11.615385</td></tr><tr><td>74</td><td>2</td><td>13.3</td><td>&quot;Chennai Super …</td><td>&quot;Gujarat Titans…</td><td>153</td><td>5</td><td>171</td><td>&quot;Chennai Super …</td><td>1</td><td>&quot;Ahmedabad&quot;</td><td>11.769231</td></tr><tr><td>74</td><td>2</td><td>13.4</td><td>&quot;Chennai Super …</td><td>&quot;Gujarat Titans…</td><td>155</td><td>5</td><td>171</td><td>&quot;Chennai Super …</td><td>1</td><td>&quot;Ahmedabad&quot;</td><td>11.923077</td></tr><tr><td>74</td><td>2</td><td>13.5</td><td>&quot;Chennai Super …</td><td>&quot;Gujarat Titans…</td><td>156</td><td>5</td><td>171</td><td>&quot;Chennai Super …</td><td>1</td><td>&quot;Ahmedabad&quot;</td><td>12.0</td></tr><tr><td>74</td><td>2</td><td>13.6</td><td>&quot;Chennai Super …</td><td>&quot;Gujarat Titans…</td><td>158</td><td>5</td><td>171</td><td>&quot;Chennai Super …</td><td>1</td><td>&quot;Ahmedabad&quot;</td><td>12.153846</td></tr><tr><td>74</td><td>2</td><td>14.1</td><td>&quot;Chennai Super …</td><td>&quot;Gujarat Titans…</td><td>158</td><td>5</td><td>171</td><td>&quot;Chennai Super …</td><td>1</td><td>&quot;Ahmedabad&quot;</td><td>11.285714</td></tr><tr><td>74</td><td>2</td><td>14.2</td><td>&quot;Chennai Super …</td><td>&quot;Gujarat Titans…</td><td>159</td><td>5</td><td>171</td><td>&quot;Chennai Super …</td><td>1</td><td>&quot;Ahmedabad&quot;</td><td>11.357143</td></tr><tr><td>74</td><td>2</td><td>14.3</td><td>&quot;Chennai Super …</td><td>&quot;Gujarat Titans…</td><td>160</td><td>5</td><td>171</td><td>&quot;Chennai Super …</td><td>1</td><td>&quot;Ahmedabad&quot;</td><td>11.428571</td></tr><tr><td>74</td><td>2</td><td>14.4</td><td>&quot;Chennai Super …</td><td>&quot;Gujarat Titans…</td><td>161</td><td>5</td><td>171</td><td>&quot;Chennai Super …</td><td>1</td><td>&quot;Ahmedabad&quot;</td><td>11.5</td></tr><tr><td>74</td><td>2</td><td>14.5</td><td>&quot;Chennai Super …</td><td>&quot;Gujarat Titans…</td><td>167</td><td>5</td><td>171</td><td>&quot;Chennai Super …</td><td>1</td><td>&quot;Ahmedabad&quot;</td><td>11.928571</td></tr><tr><td>74</td><td>2</td><td>14.6</td><td>&quot;Chennai Super …</td><td>&quot;Gujarat Titans…</td><td>171</td><td>5</td><td>171</td><td>&quot;Chennai Super …</td><td>1</td><td>&quot;Ahmedabad&quot;</td><td>12.214286</td></tr></tbody></table></div>"
      ],
      "text/plain": [
       "shape: (17_862, 12)\n",
       "┌──────────┬─────────┬──────┬────────────┬───┬───────────────┬────────────┬───────────┬────────────┐\n",
       "│ match_id ┆ innings ┆ ball ┆ batting_te ┆ … ┆ toss_won      ┆ toss_decis ┆ city      ┆ current_ru │\n",
       "│ ---      ┆ ---     ┆ ---  ┆ am         ┆   ┆ ---           ┆ ion        ┆ ---       ┆ n_rate     │\n",
       "│ i64      ┆ i64     ┆ f64  ┆ ---        ┆   ┆ str           ┆ ---        ┆ str       ┆ ---        │\n",
       "│          ┆         ┆      ┆ str        ┆   ┆               ┆ i64        ┆           ┆ f64        │\n",
       "╞══════════╪═════════╪══════╪════════════╪═══╪═══════════════╪════════════╪═══════════╪════════════╡\n",
       "│ 1        ┆ 1       ┆ 0.1  ┆ Chennai    ┆ … ┆ Gujarat       ┆ 1          ┆ Ahmedabad ┆ NaN        │\n",
       "│          ┆         ┆      ┆ Super      ┆   ┆ Titans        ┆            ┆           ┆            │\n",
       "│          ┆         ┆      ┆ Kings      ┆   ┆               ┆            ┆           ┆            │\n",
       "│ 1        ┆ 1       ┆ 0.2  ┆ Chennai    ┆ … ┆ Gujarat       ┆ 1          ┆ Ahmedabad ┆ inf        │\n",
       "│          ┆         ┆      ┆ Super      ┆   ┆ Titans        ┆            ┆           ┆            │\n",
       "│          ┆         ┆      ┆ Kings      ┆   ┆               ┆            ┆           ┆            │\n",
       "│ 1        ┆ 1       ┆ 0.3  ┆ Chennai    ┆ … ┆ Gujarat       ┆ 1          ┆ Ahmedabad ┆ inf        │\n",
       "│          ┆         ┆      ┆ Super      ┆   ┆ Titans        ┆            ┆           ┆            │\n",
       "│          ┆         ┆      ┆ Kings      ┆   ┆               ┆            ┆           ┆            │\n",
       "│ 1        ┆ 1       ┆ 0.4  ┆ Chennai    ┆ … ┆ Gujarat       ┆ 1          ┆ Ahmedabad ┆ inf        │\n",
       "│          ┆         ┆      ┆ Super      ┆   ┆ Titans        ┆            ┆           ┆            │\n",
       "│          ┆         ┆      ┆ Kings      ┆   ┆               ┆            ┆           ┆            │\n",
       "│ …        ┆ …       ┆ …    ┆ …          ┆ … ┆ …             ┆ …          ┆ …         ┆ …          │\n",
       "│ 74       ┆ 2       ┆ 14.3 ┆ Chennai    ┆ … ┆ Chennai Super ┆ 1          ┆ Ahmedabad ┆ 11.428571  │\n",
       "│          ┆         ┆      ┆ Super      ┆   ┆ Kings         ┆            ┆           ┆            │\n",
       "│          ┆         ┆      ┆ Kings      ┆   ┆               ┆            ┆           ┆            │\n",
       "│ 74       ┆ 2       ┆ 14.4 ┆ Chennai    ┆ … ┆ Chennai Super ┆ 1          ┆ Ahmedabad ┆ 11.5       │\n",
       "│          ┆         ┆      ┆ Super      ┆   ┆ Kings         ┆            ┆           ┆            │\n",
       "│          ┆         ┆      ┆ Kings      ┆   ┆               ┆            ┆           ┆            │\n",
       "│ 74       ┆ 2       ┆ 14.5 ┆ Chennai    ┆ … ┆ Chennai Super ┆ 1          ┆ Ahmedabad ┆ 11.928571  │\n",
       "│          ┆         ┆      ┆ Super      ┆   ┆ Kings         ┆            ┆           ┆            │\n",
       "│          ┆         ┆      ┆ Kings      ┆   ┆               ┆            ┆           ┆            │\n",
       "│ 74       ┆ 2       ┆ 14.6 ┆ Chennai    ┆ … ┆ Chennai Super ┆ 1          ┆ Ahmedabad ┆ 12.214286  │\n",
       "│          ┆         ┆      ┆ Super      ┆   ┆ Kings         ┆            ┆           ┆            │\n",
       "│          ┆         ┆      ┆ Kings      ┆   ┆               ┆            ┆           ┆            │\n",
       "└──────────┴─────────┴──────┴────────────┴───┴───────────────┴────────────┴───────────┴────────────┘"
      ]
     },
     "execution_count": 16,
     "metadata": {},
     "output_type": "execute_result"
    }
   ],
   "source": [
    "deliveries=deliveries.with_columns((pl.col(\"current_runs\")/pl.col(\"ball\").cast(int)).alias(\"current_run_rate\"))\n",
    "deliveries=deliveries.filter(pl.col(\"city\")!=None)\n",
    "deliveries"
   ]
  },
  {
   "cell_type": "code",
   "execution_count": 17,
   "metadata": {},
   "outputs": [],
   "source": [
    "import seaborn as sns"
   ]
  },
  {
   "cell_type": "code",
   "execution_count": 18,
   "metadata": {},
   "outputs": [
    {
     "data": {
      "text/html": [
       "<div><style>\n",
       ".dataframe > thead > tr > th,\n",
       ".dataframe > tbody > tr > td {\n",
       "  text-align: right;\n",
       "}\n",
       "</style>\n",
       "<small>shape: (12_363, 11)</small><table border=\"1\" class=\"dataframe\"><thead><tr><th>innings</th><th>ball</th><th>batting_team</th><th>bowling_team</th><th>current_runs</th><th>wickets</th><th>final_runs</th><th>toss_won</th><th>toss_decision</th><th>city</th><th>current_run_rate</th></tr><tr><td>i64</td><td>f64</td><td>str</td><td>str</td><td>i64</td><td>i64</td><td>i64</td><td>str</td><td>i64</td><td>str</td><td>f64</td></tr></thead><tbody><tr><td>1</td><td>6.1</td><td>&quot;Chennai Super …</td><td>&quot;Gujarat Titans…</td><td>51</td><td>2</td><td>178</td><td>&quot;Gujarat Titans…</td><td>1</td><td>&quot;Ahmedabad&quot;</td><td>8.5</td></tr><tr><td>1</td><td>6.2</td><td>&quot;Chennai Super …</td><td>&quot;Gujarat Titans…</td><td>52</td><td>2</td><td>178</td><td>&quot;Gujarat Titans…</td><td>1</td><td>&quot;Ahmedabad&quot;</td><td>8.666667</td></tr><tr><td>1</td><td>6.3</td><td>&quot;Chennai Super …</td><td>&quot;Gujarat Titans…</td><td>58</td><td>2</td><td>178</td><td>&quot;Gujarat Titans…</td><td>1</td><td>&quot;Ahmedabad&quot;</td><td>9.666667</td></tr><tr><td>1</td><td>6.4</td><td>&quot;Chennai Super …</td><td>&quot;Gujarat Titans…</td><td>64</td><td>2</td><td>178</td><td>&quot;Gujarat Titans…</td><td>1</td><td>&quot;Ahmedabad&quot;</td><td>10.666667</td></tr><tr><td>1</td><td>6.5</td><td>&quot;Chennai Super …</td><td>&quot;Gujarat Titans…</td><td>64</td><td>2</td><td>178</td><td>&quot;Gujarat Titans…</td><td>1</td><td>&quot;Ahmedabad&quot;</td><td>10.666667</td></tr><tr><td>1</td><td>6.6</td><td>&quot;Chennai Super …</td><td>&quot;Gujarat Titans…</td><td>64</td><td>2</td><td>178</td><td>&quot;Gujarat Titans…</td><td>1</td><td>&quot;Ahmedabad&quot;</td><td>10.666667</td></tr><tr><td>1</td><td>7.1</td><td>&quot;Chennai Super …</td><td>&quot;Gujarat Titans…</td><td>65</td><td>2</td><td>178</td><td>&quot;Gujarat Titans…</td><td>1</td><td>&quot;Ahmedabad&quot;</td><td>9.285714</td></tr><tr><td>1</td><td>7.2</td><td>&quot;Chennai Super …</td><td>&quot;Gujarat Titans…</td><td>66</td><td>2</td><td>178</td><td>&quot;Gujarat Titans…</td><td>1</td><td>&quot;Ahmedabad&quot;</td><td>9.428571</td></tr><tr><td>1</td><td>7.3</td><td>&quot;Chennai Super …</td><td>&quot;Gujarat Titans…</td><td>70</td><td>2</td><td>178</td><td>&quot;Gujarat Titans…</td><td>1</td><td>&quot;Ahmedabad&quot;</td><td>10.0</td></tr><tr><td>1</td><td>7.4</td><td>&quot;Chennai Super …</td><td>&quot;Gujarat Titans…</td><td>70</td><td>3</td><td>178</td><td>&quot;Gujarat Titans…</td><td>1</td><td>&quot;Ahmedabad&quot;</td><td>10.0</td></tr><tr><td>1</td><td>7.5</td><td>&quot;Chennai Super …</td><td>&quot;Gujarat Titans…</td><td>71</td><td>3</td><td>178</td><td>&quot;Gujarat Titans…</td><td>1</td><td>&quot;Ahmedabad&quot;</td><td>10.142857</td></tr><tr><td>1</td><td>7.6</td><td>&quot;Chennai Super …</td><td>&quot;Gujarat Titans…</td><td>72</td><td>3</td><td>178</td><td>&quot;Gujarat Titans…</td><td>1</td><td>&quot;Ahmedabad&quot;</td><td>10.285714</td></tr><tr><td>&hellip;</td><td>&hellip;</td><td>&hellip;</td><td>&hellip;</td><td>&hellip;</td><td>&hellip;</td><td>&hellip;</td><td>&hellip;</td><td>&hellip;</td><td>&hellip;</td><td>&hellip;</td></tr><tr><td>2</td><td>13.1</td><td>&quot;Chennai Super …</td><td>&quot;Gujarat Titans…</td><td>151</td><td>5</td><td>171</td><td>&quot;Chennai Super …</td><td>1</td><td>&quot;Ahmedabad&quot;</td><td>11.615385</td></tr><tr><td>2</td><td>13.2</td><td>&quot;Chennai Super …</td><td>&quot;Gujarat Titans…</td><td>151</td><td>5</td><td>171</td><td>&quot;Chennai Super …</td><td>1</td><td>&quot;Ahmedabad&quot;</td><td>11.615385</td></tr><tr><td>2</td><td>13.3</td><td>&quot;Chennai Super …</td><td>&quot;Gujarat Titans…</td><td>153</td><td>5</td><td>171</td><td>&quot;Chennai Super …</td><td>1</td><td>&quot;Ahmedabad&quot;</td><td>11.769231</td></tr><tr><td>2</td><td>13.4</td><td>&quot;Chennai Super …</td><td>&quot;Gujarat Titans…</td><td>155</td><td>5</td><td>171</td><td>&quot;Chennai Super …</td><td>1</td><td>&quot;Ahmedabad&quot;</td><td>11.923077</td></tr><tr><td>2</td><td>13.5</td><td>&quot;Chennai Super …</td><td>&quot;Gujarat Titans…</td><td>156</td><td>5</td><td>171</td><td>&quot;Chennai Super …</td><td>1</td><td>&quot;Ahmedabad&quot;</td><td>12.0</td></tr><tr><td>2</td><td>13.6</td><td>&quot;Chennai Super …</td><td>&quot;Gujarat Titans…</td><td>158</td><td>5</td><td>171</td><td>&quot;Chennai Super …</td><td>1</td><td>&quot;Ahmedabad&quot;</td><td>12.153846</td></tr><tr><td>2</td><td>14.1</td><td>&quot;Chennai Super …</td><td>&quot;Gujarat Titans…</td><td>158</td><td>5</td><td>171</td><td>&quot;Chennai Super …</td><td>1</td><td>&quot;Ahmedabad&quot;</td><td>11.285714</td></tr><tr><td>2</td><td>14.2</td><td>&quot;Chennai Super …</td><td>&quot;Gujarat Titans…</td><td>159</td><td>5</td><td>171</td><td>&quot;Chennai Super …</td><td>1</td><td>&quot;Ahmedabad&quot;</td><td>11.357143</td></tr><tr><td>2</td><td>14.3</td><td>&quot;Chennai Super …</td><td>&quot;Gujarat Titans…</td><td>160</td><td>5</td><td>171</td><td>&quot;Chennai Super …</td><td>1</td><td>&quot;Ahmedabad&quot;</td><td>11.428571</td></tr><tr><td>2</td><td>14.4</td><td>&quot;Chennai Super …</td><td>&quot;Gujarat Titans…</td><td>161</td><td>5</td><td>171</td><td>&quot;Chennai Super …</td><td>1</td><td>&quot;Ahmedabad&quot;</td><td>11.5</td></tr><tr><td>2</td><td>14.5</td><td>&quot;Chennai Super …</td><td>&quot;Gujarat Titans…</td><td>167</td><td>5</td><td>171</td><td>&quot;Chennai Super …</td><td>1</td><td>&quot;Ahmedabad&quot;</td><td>11.928571</td></tr><tr><td>2</td><td>14.6</td><td>&quot;Chennai Super …</td><td>&quot;Gujarat Titans…</td><td>171</td><td>5</td><td>171</td><td>&quot;Chennai Super …</td><td>1</td><td>&quot;Ahmedabad&quot;</td><td>12.214286</td></tr></tbody></table></div>"
      ],
      "text/plain": [
       "shape: (12_363, 11)\n",
       "┌─────────┬──────┬────────────┬────────────┬───┬─────────────┬────────────┬───────────┬────────────┐\n",
       "│ innings ┆ ball ┆ batting_te ┆ bowling_te ┆ … ┆ toss_won    ┆ toss_decis ┆ city      ┆ current_ru │\n",
       "│ ---     ┆ ---  ┆ am         ┆ am         ┆   ┆ ---         ┆ ion        ┆ ---       ┆ n_rate     │\n",
       "│ i64     ┆ f64  ┆ ---        ┆ ---        ┆   ┆ str         ┆ ---        ┆ str       ┆ ---        │\n",
       "│         ┆      ┆ str        ┆ str        ┆   ┆             ┆ i64        ┆           ┆ f64        │\n",
       "╞═════════╪══════╪════════════╪════════════╪═══╪═════════════╪════════════╪═══════════╪════════════╡\n",
       "│ 1       ┆ 6.1  ┆ Chennai    ┆ Gujarat    ┆ … ┆ Gujarat     ┆ 1          ┆ Ahmedabad ┆ 8.5        │\n",
       "│         ┆      ┆ Super      ┆ Titans     ┆   ┆ Titans      ┆            ┆           ┆            │\n",
       "│         ┆      ┆ Kings      ┆            ┆   ┆             ┆            ┆           ┆            │\n",
       "│ 1       ┆ 6.2  ┆ Chennai    ┆ Gujarat    ┆ … ┆ Gujarat     ┆ 1          ┆ Ahmedabad ┆ 8.666667   │\n",
       "│         ┆      ┆ Super      ┆ Titans     ┆   ┆ Titans      ┆            ┆           ┆            │\n",
       "│         ┆      ┆ Kings      ┆            ┆   ┆             ┆            ┆           ┆            │\n",
       "│ 1       ┆ 6.3  ┆ Chennai    ┆ Gujarat    ┆ … ┆ Gujarat     ┆ 1          ┆ Ahmedabad ┆ 9.666667   │\n",
       "│         ┆      ┆ Super      ┆ Titans     ┆   ┆ Titans      ┆            ┆           ┆            │\n",
       "│         ┆      ┆ Kings      ┆            ┆   ┆             ┆            ┆           ┆            │\n",
       "│ 1       ┆ 6.4  ┆ Chennai    ┆ Gujarat    ┆ … ┆ Gujarat     ┆ 1          ┆ Ahmedabad ┆ 10.666667  │\n",
       "│         ┆      ┆ Super      ┆ Titans     ┆   ┆ Titans      ┆            ┆           ┆            │\n",
       "│         ┆      ┆ Kings      ┆            ┆   ┆             ┆            ┆           ┆            │\n",
       "│ …       ┆ …    ┆ …          ┆ …          ┆ … ┆ …           ┆ …          ┆ …         ┆ …          │\n",
       "│ 2       ┆ 14.3 ┆ Chennai    ┆ Gujarat    ┆ … ┆ Chennai     ┆ 1          ┆ Ahmedabad ┆ 11.428571  │\n",
       "│         ┆      ┆ Super      ┆ Titans     ┆   ┆ Super Kings ┆            ┆           ┆            │\n",
       "│         ┆      ┆ Kings      ┆            ┆   ┆             ┆            ┆           ┆            │\n",
       "│ 2       ┆ 14.4 ┆ Chennai    ┆ Gujarat    ┆ … ┆ Chennai     ┆ 1          ┆ Ahmedabad ┆ 11.5       │\n",
       "│         ┆      ┆ Super      ┆ Titans     ┆   ┆ Super Kings ┆            ┆           ┆            │\n",
       "│         ┆      ┆ Kings      ┆            ┆   ┆             ┆            ┆           ┆            │\n",
       "│ 2       ┆ 14.5 ┆ Chennai    ┆ Gujarat    ┆ … ┆ Chennai     ┆ 1          ┆ Ahmedabad ┆ 11.928571  │\n",
       "│         ┆      ┆ Super      ┆ Titans     ┆   ┆ Super Kings ┆            ┆           ┆            │\n",
       "│         ┆      ┆ Kings      ┆            ┆   ┆             ┆            ┆           ┆            │\n",
       "│ 2       ┆ 14.6 ┆ Chennai    ┆ Gujarat    ┆ … ┆ Chennai     ┆ 1          ┆ Ahmedabad ┆ 12.214286  │\n",
       "│         ┆      ┆ Super      ┆ Titans     ┆   ┆ Super Kings ┆            ┆           ┆            │\n",
       "│         ┆      ┆ Kings      ┆            ┆   ┆             ┆            ┆           ┆            │\n",
       "└─────────┴──────┴────────────┴────────────┴───┴─────────────┴────────────┴───────────┴────────────┘"
      ]
     },
     "execution_count": 18,
     "metadata": {},
     "output_type": "execute_result"
    }
   ],
   "source": [
    "deliveries=deliveries.filter(pl.col(\"ball\")>=6).drop(\"match_id\")\n",
    "deliveries"
   ]
  },
  {
   "cell_type": "code",
   "execution_count": 19,
   "metadata": {},
   "outputs": [
    {
     "data": {
      "text/html": [
       "<div><style>\n",
       ".dataframe > thead > tr > th,\n",
       ".dataframe > tbody > tr > td {\n",
       "  text-align: right;\n",
       "}\n",
       "</style>\n",
       "<small>shape: (10,)</small><table border=\"1\" class=\"dataframe\"><thead><tr><th>batting_team</th></tr><tr><td>str</td></tr></thead><tbody><tr><td>&quot;Chennai Super …</td></tr><tr><td>&quot;Sunrisers Hyde…</td></tr><tr><td>&quot;Delhi Capitals…</td></tr><tr><td>&quot;Rajasthan Roya…</td></tr><tr><td>&quot;Mumbai Indians…</td></tr><tr><td>&quot;Kolkata Knight…</td></tr><tr><td>&quot;Punjab Kings&quot;</td></tr><tr><td>&quot;Gujarat Titans…</td></tr><tr><td>&quot;Lucknow Super …</td></tr><tr><td>&quot;Royal Challeng…</td></tr></tbody></table></div>"
      ],
      "text/plain": [
       "shape: (10,)\n",
       "Series: 'batting_team' [str]\n",
       "[\n",
       "\t\"Chennai Super …\n",
       "\t\"Sunrisers Hyde…\n",
       "\t\"Delhi Capitals…\n",
       "\t\"Rajasthan Roya…\n",
       "\t\"Mumbai Indians…\n",
       "\t\"Kolkata Knight…\n",
       "\t\"Punjab Kings\"\n",
       "\t\"Gujarat Titans…\n",
       "\t\"Lucknow Super …\n",
       "\t\"Royal Challeng…\n",
       "]"
      ]
     },
     "execution_count": 19,
     "metadata": {},
     "output_type": "execute_result"
    }
   ],
   "source": [
    "deliveries[\"batting_team\"].unique()"
   ]
  },
  {
   "cell_type": "code",
   "execution_count": 20,
   "metadata": {},
   "outputs": [
    {
     "data": {
      "text/html": [
       "<div><style>\n",
       ".dataframe > thead > tr > th,\n",
       ".dataframe > tbody > tr > td {\n",
       "  text-align: right;\n",
       "}\n",
       "</style>\n",
       "<small>shape: (9_880, 11)</small><table border=\"1\" class=\"dataframe\"><thead><tr><th>innings</th><th>ball</th><th>batting_team</th><th>bowling_team</th><th>current_runs</th><th>wickets</th><th>final_runs</th><th>toss_won</th><th>toss_decision</th><th>city</th><th>current_run_rate</th></tr><tr><td>i64</td><td>f64</td><td>str</td><td>str</td><td>i64</td><td>i64</td><td>i64</td><td>str</td><td>i64</td><td>str</td><td>f64</td></tr></thead><tbody><tr><td>1</td><td>6.1</td><td>&quot;Chennai Super …</td><td>&quot;Gujarat Lions&quot;</td><td>51</td><td>2</td><td>178</td><td>&quot;Gujarat Titans…</td><td>1</td><td>&quot;Ahmedabad&quot;</td><td>8.5</td></tr><tr><td>1</td><td>6.2</td><td>&quot;Chennai Super …</td><td>&quot;Gujarat Lions&quot;</td><td>52</td><td>2</td><td>178</td><td>&quot;Gujarat Titans…</td><td>1</td><td>&quot;Ahmedabad&quot;</td><td>8.666667</td></tr><tr><td>1</td><td>6.3</td><td>&quot;Chennai Super …</td><td>&quot;Gujarat Lions&quot;</td><td>58</td><td>2</td><td>178</td><td>&quot;Gujarat Titans…</td><td>1</td><td>&quot;Ahmedabad&quot;</td><td>9.666667</td></tr><tr><td>1</td><td>6.4</td><td>&quot;Chennai Super …</td><td>&quot;Gujarat Lions&quot;</td><td>64</td><td>2</td><td>178</td><td>&quot;Gujarat Titans…</td><td>1</td><td>&quot;Ahmedabad&quot;</td><td>10.666667</td></tr><tr><td>1</td><td>6.5</td><td>&quot;Chennai Super …</td><td>&quot;Gujarat Lions&quot;</td><td>64</td><td>2</td><td>178</td><td>&quot;Gujarat Titans…</td><td>1</td><td>&quot;Ahmedabad&quot;</td><td>10.666667</td></tr><tr><td>1</td><td>6.6</td><td>&quot;Chennai Super …</td><td>&quot;Gujarat Lions&quot;</td><td>64</td><td>2</td><td>178</td><td>&quot;Gujarat Titans…</td><td>1</td><td>&quot;Ahmedabad&quot;</td><td>10.666667</td></tr><tr><td>1</td><td>7.1</td><td>&quot;Chennai Super …</td><td>&quot;Gujarat Lions&quot;</td><td>65</td><td>2</td><td>178</td><td>&quot;Gujarat Titans…</td><td>1</td><td>&quot;Ahmedabad&quot;</td><td>9.285714</td></tr><tr><td>1</td><td>7.2</td><td>&quot;Chennai Super …</td><td>&quot;Gujarat Lions&quot;</td><td>66</td><td>2</td><td>178</td><td>&quot;Gujarat Titans…</td><td>1</td><td>&quot;Ahmedabad&quot;</td><td>9.428571</td></tr><tr><td>1</td><td>7.3</td><td>&quot;Chennai Super …</td><td>&quot;Gujarat Lions&quot;</td><td>70</td><td>2</td><td>178</td><td>&quot;Gujarat Titans…</td><td>1</td><td>&quot;Ahmedabad&quot;</td><td>10.0</td></tr><tr><td>1</td><td>7.4</td><td>&quot;Chennai Super …</td><td>&quot;Gujarat Lions&quot;</td><td>70</td><td>3</td><td>178</td><td>&quot;Gujarat Titans…</td><td>1</td><td>&quot;Ahmedabad&quot;</td><td>10.0</td></tr><tr><td>1</td><td>7.5</td><td>&quot;Chennai Super …</td><td>&quot;Gujarat Lions&quot;</td><td>71</td><td>3</td><td>178</td><td>&quot;Gujarat Titans…</td><td>1</td><td>&quot;Ahmedabad&quot;</td><td>10.142857</td></tr><tr><td>1</td><td>7.6</td><td>&quot;Chennai Super …</td><td>&quot;Gujarat Lions&quot;</td><td>72</td><td>3</td><td>178</td><td>&quot;Gujarat Titans…</td><td>1</td><td>&quot;Ahmedabad&quot;</td><td>10.285714</td></tr><tr><td>&hellip;</td><td>&hellip;</td><td>&hellip;</td><td>&hellip;</td><td>&hellip;</td><td>&hellip;</td><td>&hellip;</td><td>&hellip;</td><td>&hellip;</td><td>&hellip;</td><td>&hellip;</td></tr><tr><td>2</td><td>13.1</td><td>&quot;Chennai Super …</td><td>&quot;Gujarat Lions&quot;</td><td>151</td><td>5</td><td>171</td><td>&quot;Chennai Super …</td><td>1</td><td>&quot;Ahmedabad&quot;</td><td>11.615385</td></tr><tr><td>2</td><td>13.2</td><td>&quot;Chennai Super …</td><td>&quot;Gujarat Lions&quot;</td><td>151</td><td>5</td><td>171</td><td>&quot;Chennai Super …</td><td>1</td><td>&quot;Ahmedabad&quot;</td><td>11.615385</td></tr><tr><td>2</td><td>13.3</td><td>&quot;Chennai Super …</td><td>&quot;Gujarat Lions&quot;</td><td>153</td><td>5</td><td>171</td><td>&quot;Chennai Super …</td><td>1</td><td>&quot;Ahmedabad&quot;</td><td>11.769231</td></tr><tr><td>2</td><td>13.4</td><td>&quot;Chennai Super …</td><td>&quot;Gujarat Lions&quot;</td><td>155</td><td>5</td><td>171</td><td>&quot;Chennai Super …</td><td>1</td><td>&quot;Ahmedabad&quot;</td><td>11.923077</td></tr><tr><td>2</td><td>13.5</td><td>&quot;Chennai Super …</td><td>&quot;Gujarat Lions&quot;</td><td>156</td><td>5</td><td>171</td><td>&quot;Chennai Super …</td><td>1</td><td>&quot;Ahmedabad&quot;</td><td>12.0</td></tr><tr><td>2</td><td>13.6</td><td>&quot;Chennai Super …</td><td>&quot;Gujarat Lions&quot;</td><td>158</td><td>5</td><td>171</td><td>&quot;Chennai Super …</td><td>1</td><td>&quot;Ahmedabad&quot;</td><td>12.153846</td></tr><tr><td>2</td><td>14.1</td><td>&quot;Chennai Super …</td><td>&quot;Gujarat Lions&quot;</td><td>158</td><td>5</td><td>171</td><td>&quot;Chennai Super …</td><td>1</td><td>&quot;Ahmedabad&quot;</td><td>11.285714</td></tr><tr><td>2</td><td>14.2</td><td>&quot;Chennai Super …</td><td>&quot;Gujarat Lions&quot;</td><td>159</td><td>5</td><td>171</td><td>&quot;Chennai Super …</td><td>1</td><td>&quot;Ahmedabad&quot;</td><td>11.357143</td></tr><tr><td>2</td><td>14.3</td><td>&quot;Chennai Super …</td><td>&quot;Gujarat Lions&quot;</td><td>160</td><td>5</td><td>171</td><td>&quot;Chennai Super …</td><td>1</td><td>&quot;Ahmedabad&quot;</td><td>11.428571</td></tr><tr><td>2</td><td>14.4</td><td>&quot;Chennai Super …</td><td>&quot;Gujarat Lions&quot;</td><td>161</td><td>5</td><td>171</td><td>&quot;Chennai Super …</td><td>1</td><td>&quot;Ahmedabad&quot;</td><td>11.5</td></tr><tr><td>2</td><td>14.5</td><td>&quot;Chennai Super …</td><td>&quot;Gujarat Lions&quot;</td><td>167</td><td>5</td><td>171</td><td>&quot;Chennai Super …</td><td>1</td><td>&quot;Ahmedabad&quot;</td><td>11.928571</td></tr><tr><td>2</td><td>14.6</td><td>&quot;Chennai Super …</td><td>&quot;Gujarat Lions&quot;</td><td>171</td><td>5</td><td>171</td><td>&quot;Chennai Super …</td><td>1</td><td>&quot;Ahmedabad&quot;</td><td>12.214286</td></tr></tbody></table></div>"
      ],
      "text/plain": [
       "shape: (9_880, 11)\n",
       "┌─────────┬──────┬────────────┬────────────┬───┬─────────────┬────────────┬───────────┬────────────┐\n",
       "│ innings ┆ ball ┆ batting_te ┆ bowling_te ┆ … ┆ toss_won    ┆ toss_decis ┆ city      ┆ current_ru │\n",
       "│ ---     ┆ ---  ┆ am         ┆ am         ┆   ┆ ---         ┆ ion        ┆ ---       ┆ n_rate     │\n",
       "│ i64     ┆ f64  ┆ ---        ┆ ---        ┆   ┆ str         ┆ ---        ┆ str       ┆ ---        │\n",
       "│         ┆      ┆ str        ┆ str        ┆   ┆             ┆ i64        ┆           ┆ f64        │\n",
       "╞═════════╪══════╪════════════╪════════════╪═══╪═════════════╪════════════╪═══════════╪════════════╡\n",
       "│ 1       ┆ 6.1  ┆ Chennai    ┆ Gujarat    ┆ … ┆ Gujarat     ┆ 1          ┆ Ahmedabad ┆ 8.5        │\n",
       "│         ┆      ┆ Super      ┆ Lions      ┆   ┆ Titans      ┆            ┆           ┆            │\n",
       "│         ┆      ┆ Kings      ┆            ┆   ┆             ┆            ┆           ┆            │\n",
       "│ 1       ┆ 6.2  ┆ Chennai    ┆ Gujarat    ┆ … ┆ Gujarat     ┆ 1          ┆ Ahmedabad ┆ 8.666667   │\n",
       "│         ┆      ┆ Super      ┆ Lions      ┆   ┆ Titans      ┆            ┆           ┆            │\n",
       "│         ┆      ┆ Kings      ┆            ┆   ┆             ┆            ┆           ┆            │\n",
       "│ 1       ┆ 6.3  ┆ Chennai    ┆ Gujarat    ┆ … ┆ Gujarat     ┆ 1          ┆ Ahmedabad ┆ 9.666667   │\n",
       "│         ┆      ┆ Super      ┆ Lions      ┆   ┆ Titans      ┆            ┆           ┆            │\n",
       "│         ┆      ┆ Kings      ┆            ┆   ┆             ┆            ┆           ┆            │\n",
       "│ 1       ┆ 6.4  ┆ Chennai    ┆ Gujarat    ┆ … ┆ Gujarat     ┆ 1          ┆ Ahmedabad ┆ 10.666667  │\n",
       "│         ┆      ┆ Super      ┆ Lions      ┆   ┆ Titans      ┆            ┆           ┆            │\n",
       "│         ┆      ┆ Kings      ┆            ┆   ┆             ┆            ┆           ┆            │\n",
       "│ …       ┆ …    ┆ …          ┆ …          ┆ … ┆ …           ┆ …          ┆ …         ┆ …          │\n",
       "│ 2       ┆ 14.3 ┆ Chennai    ┆ Gujarat    ┆ … ┆ Chennai     ┆ 1          ┆ Ahmedabad ┆ 11.428571  │\n",
       "│         ┆      ┆ Super      ┆ Lions      ┆   ┆ Super Kings ┆            ┆           ┆            │\n",
       "│         ┆      ┆ Kings      ┆            ┆   ┆             ┆            ┆           ┆            │\n",
       "│ 2       ┆ 14.4 ┆ Chennai    ┆ Gujarat    ┆ … ┆ Chennai     ┆ 1          ┆ Ahmedabad ┆ 11.5       │\n",
       "│         ┆      ┆ Super      ┆ Lions      ┆   ┆ Super Kings ┆            ┆           ┆            │\n",
       "│         ┆      ┆ Kings      ┆            ┆   ┆             ┆            ┆           ┆            │\n",
       "│ 2       ┆ 14.5 ┆ Chennai    ┆ Gujarat    ┆ … ┆ Chennai     ┆ 1          ┆ Ahmedabad ┆ 11.928571  │\n",
       "│         ┆      ┆ Super      ┆ Lions      ┆   ┆ Super Kings ┆            ┆           ┆            │\n",
       "│         ┆      ┆ Kings      ┆            ┆   ┆             ┆            ┆           ┆            │\n",
       "│ 2       ┆ 14.6 ┆ Chennai    ┆ Gujarat    ┆ … ┆ Chennai     ┆ 1          ┆ Ahmedabad ┆ 12.214286  │\n",
       "│         ┆      ┆ Super      ┆ Lions      ┆   ┆ Super Kings ┆            ┆           ┆            │\n",
       "│         ┆      ┆ Kings      ┆            ┆   ┆             ┆            ┆           ┆            │\n",
       "└─────────┴──────┴────────────┴────────────┴───┴─────────────┴────────────┴───────────┴────────────┘"
      ]
     },
     "execution_count": 20,
     "metadata": {},
     "output_type": "execute_result"
    }
   ],
   "source": [
    "deliveries=deliveries.with_columns(pl.col(\"batting_team\").str.replace(\"Gujarat Titans\",\"Gujarat Lions\"))\n",
    "deliveries=deliveries.with_columns(pl.col(\"bowling_team\").str.replace(\"Gujarat Titans\",\"Gujarat Lions\"))\n",
    "\n",
    "deliveries=deliveries.with_columns(pl.col(\"batting_team\").str.replace(\"Punjab Kings\",\"Kings XI Punjab\"))\n",
    "deliveries=deliveries.with_columns(pl.col(\"bowling_team\").str.replace(\"Punjab Kings\",\"Kings XI Punjab\"))\n",
    "\n",
    "deliveries=deliveries.filter((deliveries[\"batting_team\"]!=\"Lucknow Super Giants\") & (deliveries[\"bowling_team\"]!=\"Lucknow Super Giants\") )\n",
    "deliveries"
   ]
  },
  {
   "cell_type": "code",
   "execution_count": 21,
   "metadata": {},
   "outputs": [
    {
     "data": {
      "text/html": [
       "<div><style>\n",
       ".dataframe > thead > tr > th,\n",
       ".dataframe > tbody > tr > td {\n",
       "  text-align: right;\n",
       "}\n",
       "</style>\n",
       "<small>shape: (9_880, 11)</small><table border=\"1\" class=\"dataframe\"><thead><tr><th>innings</th><th>ball</th><th>batting_team</th><th>bowling_team</th><th>current_runs</th><th>wickets</th><th>final_runs</th><th>toss_decision</th><th>city</th><th>current_run_rate</th><th>toss_winner</th></tr><tr><td>i64</td><td>f64</td><td>str</td><td>str</td><td>i64</td><td>i64</td><td>i64</td><td>i64</td><td>str</td><td>f64</td><td>str</td></tr></thead><tbody><tr><td>1</td><td>6.1</td><td>&quot;Chennai Super …</td><td>&quot;Gujarat Lions&quot;</td><td>51</td><td>2</td><td>178</td><td>1</td><td>&quot;Ahmedabad&quot;</td><td>8.5</td><td>&quot;Gujarat Titans…</td></tr><tr><td>1</td><td>6.2</td><td>&quot;Chennai Super …</td><td>&quot;Gujarat Lions&quot;</td><td>52</td><td>2</td><td>178</td><td>1</td><td>&quot;Ahmedabad&quot;</td><td>8.666667</td><td>&quot;Gujarat Titans…</td></tr><tr><td>1</td><td>6.3</td><td>&quot;Chennai Super …</td><td>&quot;Gujarat Lions&quot;</td><td>58</td><td>2</td><td>178</td><td>1</td><td>&quot;Ahmedabad&quot;</td><td>9.666667</td><td>&quot;Gujarat Titans…</td></tr><tr><td>1</td><td>6.4</td><td>&quot;Chennai Super …</td><td>&quot;Gujarat Lions&quot;</td><td>64</td><td>2</td><td>178</td><td>1</td><td>&quot;Ahmedabad&quot;</td><td>10.666667</td><td>&quot;Gujarat Titans…</td></tr><tr><td>1</td><td>6.5</td><td>&quot;Chennai Super …</td><td>&quot;Gujarat Lions&quot;</td><td>64</td><td>2</td><td>178</td><td>1</td><td>&quot;Ahmedabad&quot;</td><td>10.666667</td><td>&quot;Gujarat Titans…</td></tr><tr><td>1</td><td>6.6</td><td>&quot;Chennai Super …</td><td>&quot;Gujarat Lions&quot;</td><td>64</td><td>2</td><td>178</td><td>1</td><td>&quot;Ahmedabad&quot;</td><td>10.666667</td><td>&quot;Gujarat Titans…</td></tr><tr><td>1</td><td>7.1</td><td>&quot;Chennai Super …</td><td>&quot;Gujarat Lions&quot;</td><td>65</td><td>2</td><td>178</td><td>1</td><td>&quot;Ahmedabad&quot;</td><td>9.285714</td><td>&quot;Gujarat Titans…</td></tr><tr><td>1</td><td>7.2</td><td>&quot;Chennai Super …</td><td>&quot;Gujarat Lions&quot;</td><td>66</td><td>2</td><td>178</td><td>1</td><td>&quot;Ahmedabad&quot;</td><td>9.428571</td><td>&quot;Gujarat Titans…</td></tr><tr><td>1</td><td>7.3</td><td>&quot;Chennai Super …</td><td>&quot;Gujarat Lions&quot;</td><td>70</td><td>2</td><td>178</td><td>1</td><td>&quot;Ahmedabad&quot;</td><td>10.0</td><td>&quot;Gujarat Titans…</td></tr><tr><td>1</td><td>7.4</td><td>&quot;Chennai Super …</td><td>&quot;Gujarat Lions&quot;</td><td>70</td><td>3</td><td>178</td><td>1</td><td>&quot;Ahmedabad&quot;</td><td>10.0</td><td>&quot;Gujarat Titans…</td></tr><tr><td>1</td><td>7.5</td><td>&quot;Chennai Super …</td><td>&quot;Gujarat Lions&quot;</td><td>71</td><td>3</td><td>178</td><td>1</td><td>&quot;Ahmedabad&quot;</td><td>10.142857</td><td>&quot;Gujarat Titans…</td></tr><tr><td>1</td><td>7.6</td><td>&quot;Chennai Super …</td><td>&quot;Gujarat Lions&quot;</td><td>72</td><td>3</td><td>178</td><td>1</td><td>&quot;Ahmedabad&quot;</td><td>10.285714</td><td>&quot;Gujarat Titans…</td></tr><tr><td>&hellip;</td><td>&hellip;</td><td>&hellip;</td><td>&hellip;</td><td>&hellip;</td><td>&hellip;</td><td>&hellip;</td><td>&hellip;</td><td>&hellip;</td><td>&hellip;</td><td>&hellip;</td></tr><tr><td>2</td><td>13.1</td><td>&quot;Chennai Super …</td><td>&quot;Gujarat Lions&quot;</td><td>151</td><td>5</td><td>171</td><td>1</td><td>&quot;Ahmedabad&quot;</td><td>11.615385</td><td>&quot;Chennai Super …</td></tr><tr><td>2</td><td>13.2</td><td>&quot;Chennai Super …</td><td>&quot;Gujarat Lions&quot;</td><td>151</td><td>5</td><td>171</td><td>1</td><td>&quot;Ahmedabad&quot;</td><td>11.615385</td><td>&quot;Chennai Super …</td></tr><tr><td>2</td><td>13.3</td><td>&quot;Chennai Super …</td><td>&quot;Gujarat Lions&quot;</td><td>153</td><td>5</td><td>171</td><td>1</td><td>&quot;Ahmedabad&quot;</td><td>11.769231</td><td>&quot;Chennai Super …</td></tr><tr><td>2</td><td>13.4</td><td>&quot;Chennai Super …</td><td>&quot;Gujarat Lions&quot;</td><td>155</td><td>5</td><td>171</td><td>1</td><td>&quot;Ahmedabad&quot;</td><td>11.923077</td><td>&quot;Chennai Super …</td></tr><tr><td>2</td><td>13.5</td><td>&quot;Chennai Super …</td><td>&quot;Gujarat Lions&quot;</td><td>156</td><td>5</td><td>171</td><td>1</td><td>&quot;Ahmedabad&quot;</td><td>12.0</td><td>&quot;Chennai Super …</td></tr><tr><td>2</td><td>13.6</td><td>&quot;Chennai Super …</td><td>&quot;Gujarat Lions&quot;</td><td>158</td><td>5</td><td>171</td><td>1</td><td>&quot;Ahmedabad&quot;</td><td>12.153846</td><td>&quot;Chennai Super …</td></tr><tr><td>2</td><td>14.1</td><td>&quot;Chennai Super …</td><td>&quot;Gujarat Lions&quot;</td><td>158</td><td>5</td><td>171</td><td>1</td><td>&quot;Ahmedabad&quot;</td><td>11.285714</td><td>&quot;Chennai Super …</td></tr><tr><td>2</td><td>14.2</td><td>&quot;Chennai Super …</td><td>&quot;Gujarat Lions&quot;</td><td>159</td><td>5</td><td>171</td><td>1</td><td>&quot;Ahmedabad&quot;</td><td>11.357143</td><td>&quot;Chennai Super …</td></tr><tr><td>2</td><td>14.3</td><td>&quot;Chennai Super …</td><td>&quot;Gujarat Lions&quot;</td><td>160</td><td>5</td><td>171</td><td>1</td><td>&quot;Ahmedabad&quot;</td><td>11.428571</td><td>&quot;Chennai Super …</td></tr><tr><td>2</td><td>14.4</td><td>&quot;Chennai Super …</td><td>&quot;Gujarat Lions&quot;</td><td>161</td><td>5</td><td>171</td><td>1</td><td>&quot;Ahmedabad&quot;</td><td>11.5</td><td>&quot;Chennai Super …</td></tr><tr><td>2</td><td>14.5</td><td>&quot;Chennai Super …</td><td>&quot;Gujarat Lions&quot;</td><td>167</td><td>5</td><td>171</td><td>1</td><td>&quot;Ahmedabad&quot;</td><td>11.928571</td><td>&quot;Chennai Super …</td></tr><tr><td>2</td><td>14.6</td><td>&quot;Chennai Super …</td><td>&quot;Gujarat Lions&quot;</td><td>171</td><td>5</td><td>171</td><td>1</td><td>&quot;Ahmedabad&quot;</td><td>12.214286</td><td>&quot;Chennai Super …</td></tr></tbody></table></div>"
      ],
      "text/plain": [
       "shape: (9_880, 11)\n",
       "┌─────────┬──────┬────────────┬────────────┬───┬────────────┬───────────┬────────────┬─────────────┐\n",
       "│ innings ┆ ball ┆ batting_te ┆ bowling_te ┆ … ┆ toss_decis ┆ city      ┆ current_ru ┆ toss_winner │\n",
       "│ ---     ┆ ---  ┆ am         ┆ am         ┆   ┆ ion        ┆ ---       ┆ n_rate     ┆ ---         │\n",
       "│ i64     ┆ f64  ┆ ---        ┆ ---        ┆   ┆ ---        ┆ str       ┆ ---        ┆ str         │\n",
       "│         ┆      ┆ str        ┆ str        ┆   ┆ i64        ┆           ┆ f64        ┆             │\n",
       "╞═════════╪══════╪════════════╪════════════╪═══╪════════════╪═══════════╪════════════╪═════════════╡\n",
       "│ 1       ┆ 6.1  ┆ Chennai    ┆ Gujarat    ┆ … ┆ 1          ┆ Ahmedabad ┆ 8.5        ┆ Gujarat     │\n",
       "│         ┆      ┆ Super      ┆ Lions      ┆   ┆            ┆           ┆            ┆ Titans      │\n",
       "│         ┆      ┆ Kings      ┆            ┆   ┆            ┆           ┆            ┆             │\n",
       "│ 1       ┆ 6.2  ┆ Chennai    ┆ Gujarat    ┆ … ┆ 1          ┆ Ahmedabad ┆ 8.666667   ┆ Gujarat     │\n",
       "│         ┆      ┆ Super      ┆ Lions      ┆   ┆            ┆           ┆            ┆ Titans      │\n",
       "│         ┆      ┆ Kings      ┆            ┆   ┆            ┆           ┆            ┆             │\n",
       "│ 1       ┆ 6.3  ┆ Chennai    ┆ Gujarat    ┆ … ┆ 1          ┆ Ahmedabad ┆ 9.666667   ┆ Gujarat     │\n",
       "│         ┆      ┆ Super      ┆ Lions      ┆   ┆            ┆           ┆            ┆ Titans      │\n",
       "│         ┆      ┆ Kings      ┆            ┆   ┆            ┆           ┆            ┆             │\n",
       "│ 1       ┆ 6.4  ┆ Chennai    ┆ Gujarat    ┆ … ┆ 1          ┆ Ahmedabad ┆ 10.666667  ┆ Gujarat     │\n",
       "│         ┆      ┆ Super      ┆ Lions      ┆   ┆            ┆           ┆            ┆ Titans      │\n",
       "│         ┆      ┆ Kings      ┆            ┆   ┆            ┆           ┆            ┆             │\n",
       "│ …       ┆ …    ┆ …          ┆ …          ┆ … ┆ …          ┆ …         ┆ …          ┆ …           │\n",
       "│ 2       ┆ 14.3 ┆ Chennai    ┆ Gujarat    ┆ … ┆ 1          ┆ Ahmedabad ┆ 11.428571  ┆ Chennai     │\n",
       "│         ┆      ┆ Super      ┆ Lions      ┆   ┆            ┆           ┆            ┆ Super Kings │\n",
       "│         ┆      ┆ Kings      ┆            ┆   ┆            ┆           ┆            ┆             │\n",
       "│ 2       ┆ 14.4 ┆ Chennai    ┆ Gujarat    ┆ … ┆ 1          ┆ Ahmedabad ┆ 11.5       ┆ Chennai     │\n",
       "│         ┆      ┆ Super      ┆ Lions      ┆   ┆            ┆           ┆            ┆ Super Kings │\n",
       "│         ┆      ┆ Kings      ┆            ┆   ┆            ┆           ┆            ┆             │\n",
       "│ 2       ┆ 14.5 ┆ Chennai    ┆ Gujarat    ┆ … ┆ 1          ┆ Ahmedabad ┆ 11.928571  ┆ Chennai     │\n",
       "│         ┆      ┆ Super      ┆ Lions      ┆   ┆            ┆           ┆            ┆ Super Kings │\n",
       "│         ┆      ┆ Kings      ┆            ┆   ┆            ┆           ┆            ┆             │\n",
       "│ 2       ┆ 14.6 ┆ Chennai    ┆ Gujarat    ┆ … ┆ 1          ┆ Ahmedabad ┆ 12.214286  ┆ Chennai     │\n",
       "│         ┆      ┆ Super      ┆ Lions      ┆   ┆            ┆           ┆            ┆ Super Kings │\n",
       "│         ┆      ┆ Kings      ┆            ┆   ┆            ┆           ┆            ┆             │\n",
       "└─────────┴──────┴────────────┴────────────┴───┴────────────┴───────────┴────────────┴─────────────┘"
      ]
     },
     "execution_count": 21,
     "metadata": {},
     "output_type": "execute_result"
    }
   ],
   "source": [
    "deliveries=deliveries.with_columns(pl.col(\"toss_won\").alias(\"toss_winner\")).drop(\"toss_won\")\n",
    "deliveries=deliveries.with_columns(pl.col(\"innings\").alias(\"inning\")).drop(\"inning\")\n",
    "deliveries"
   ]
  },
  {
   "cell_type": "code",
   "execution_count": 22,
   "metadata": {},
   "outputs": [
    {
     "data": {
      "text/html": [
       "<div><style>\n",
       ".dataframe > thead > tr > th,\n",
       ".dataframe > tbody > tr > td {\n",
       "  text-align: right;\n",
       "}\n",
       "</style>\n",
       "<small>shape: (9,)</small><table border=\"1\" class=\"dataframe\"><thead><tr><th>toss_winner</th></tr><tr><td>str</td></tr></thead><tbody><tr><td>&quot;Mumbai Indians…</td></tr><tr><td>&quot;Sunrisers Hyde…</td></tr><tr><td>&quot;Royal Challeng…</td></tr><tr><td>&quot;Gujarat Titans…</td></tr><tr><td>&quot;Chennai Super …</td></tr><tr><td>&quot;Rajasthan Roya…</td></tr><tr><td>&quot;Delhi Capitals…</td></tr><tr><td>&quot;Punjab Kings&quot;</td></tr><tr><td>&quot;Kolkata Knight…</td></tr></tbody></table></div>"
      ],
      "text/plain": [
       "shape: (9,)\n",
       "Series: 'toss_winner' [str]\n",
       "[\n",
       "\t\"Mumbai Indians…\n",
       "\t\"Sunrisers Hyde…\n",
       "\t\"Royal Challeng…\n",
       "\t\"Gujarat Titans…\n",
       "\t\"Chennai Super …\n",
       "\t\"Rajasthan Roya…\n",
       "\t\"Delhi Capitals…\n",
       "\t\"Punjab Kings\"\n",
       "\t\"Kolkata Knight…\n",
       "]"
      ]
     },
     "execution_count": 22,
     "metadata": {},
     "output_type": "execute_result"
    }
   ],
   "source": [
    "deliveries[\"toss_winner\"].unique()"
   ]
  },
  {
   "cell_type": "code",
   "execution_count": 23,
   "metadata": {},
   "outputs": [
    {
     "data": {
      "text/html": [
       "<div><style>\n",
       ".dataframe > thead > tr > th,\n",
       ".dataframe > tbody > tr > td {\n",
       "  text-align: right;\n",
       "}\n",
       "</style>\n",
       "<small>shape: (9_880, 11)</small><table border=\"1\" class=\"dataframe\"><thead><tr><th>innings</th><th>ball</th><th>batting_team</th><th>bowling_team</th><th>current_runs</th><th>wickets</th><th>final_runs</th><th>toss_decision</th><th>city</th><th>current_run_rate</th><th>toss_winner</th></tr><tr><td>i64</td><td>f64</td><td>str</td><td>str</td><td>i64</td><td>i64</td><td>i64</td><td>i64</td><td>str</td><td>f64</td><td>str</td></tr></thead><tbody><tr><td>1</td><td>6.1</td><td>&quot;Chennai Super …</td><td>&quot;Gujarat Lions&quot;</td><td>51</td><td>2</td><td>178</td><td>1</td><td>&quot;Ahmedabad&quot;</td><td>8.5</td><td>&quot;Gujarat Lions&quot;</td></tr><tr><td>1</td><td>6.2</td><td>&quot;Chennai Super …</td><td>&quot;Gujarat Lions&quot;</td><td>52</td><td>2</td><td>178</td><td>1</td><td>&quot;Ahmedabad&quot;</td><td>8.666667</td><td>&quot;Gujarat Lions&quot;</td></tr><tr><td>1</td><td>6.3</td><td>&quot;Chennai Super …</td><td>&quot;Gujarat Lions&quot;</td><td>58</td><td>2</td><td>178</td><td>1</td><td>&quot;Ahmedabad&quot;</td><td>9.666667</td><td>&quot;Gujarat Lions&quot;</td></tr><tr><td>1</td><td>6.4</td><td>&quot;Chennai Super …</td><td>&quot;Gujarat Lions&quot;</td><td>64</td><td>2</td><td>178</td><td>1</td><td>&quot;Ahmedabad&quot;</td><td>10.666667</td><td>&quot;Gujarat Lions&quot;</td></tr><tr><td>1</td><td>6.5</td><td>&quot;Chennai Super …</td><td>&quot;Gujarat Lions&quot;</td><td>64</td><td>2</td><td>178</td><td>1</td><td>&quot;Ahmedabad&quot;</td><td>10.666667</td><td>&quot;Gujarat Lions&quot;</td></tr><tr><td>1</td><td>6.6</td><td>&quot;Chennai Super …</td><td>&quot;Gujarat Lions&quot;</td><td>64</td><td>2</td><td>178</td><td>1</td><td>&quot;Ahmedabad&quot;</td><td>10.666667</td><td>&quot;Gujarat Lions&quot;</td></tr><tr><td>1</td><td>7.1</td><td>&quot;Chennai Super …</td><td>&quot;Gujarat Lions&quot;</td><td>65</td><td>2</td><td>178</td><td>1</td><td>&quot;Ahmedabad&quot;</td><td>9.285714</td><td>&quot;Gujarat Lions&quot;</td></tr><tr><td>1</td><td>7.2</td><td>&quot;Chennai Super …</td><td>&quot;Gujarat Lions&quot;</td><td>66</td><td>2</td><td>178</td><td>1</td><td>&quot;Ahmedabad&quot;</td><td>9.428571</td><td>&quot;Gujarat Lions&quot;</td></tr><tr><td>1</td><td>7.3</td><td>&quot;Chennai Super …</td><td>&quot;Gujarat Lions&quot;</td><td>70</td><td>2</td><td>178</td><td>1</td><td>&quot;Ahmedabad&quot;</td><td>10.0</td><td>&quot;Gujarat Lions&quot;</td></tr><tr><td>1</td><td>7.4</td><td>&quot;Chennai Super …</td><td>&quot;Gujarat Lions&quot;</td><td>70</td><td>3</td><td>178</td><td>1</td><td>&quot;Ahmedabad&quot;</td><td>10.0</td><td>&quot;Gujarat Lions&quot;</td></tr><tr><td>1</td><td>7.5</td><td>&quot;Chennai Super …</td><td>&quot;Gujarat Lions&quot;</td><td>71</td><td>3</td><td>178</td><td>1</td><td>&quot;Ahmedabad&quot;</td><td>10.142857</td><td>&quot;Gujarat Lions&quot;</td></tr><tr><td>1</td><td>7.6</td><td>&quot;Chennai Super …</td><td>&quot;Gujarat Lions&quot;</td><td>72</td><td>3</td><td>178</td><td>1</td><td>&quot;Ahmedabad&quot;</td><td>10.285714</td><td>&quot;Gujarat Lions&quot;</td></tr><tr><td>&hellip;</td><td>&hellip;</td><td>&hellip;</td><td>&hellip;</td><td>&hellip;</td><td>&hellip;</td><td>&hellip;</td><td>&hellip;</td><td>&hellip;</td><td>&hellip;</td><td>&hellip;</td></tr><tr><td>2</td><td>13.1</td><td>&quot;Chennai Super …</td><td>&quot;Gujarat Lions&quot;</td><td>151</td><td>5</td><td>171</td><td>1</td><td>&quot;Ahmedabad&quot;</td><td>11.615385</td><td>&quot;Chennai Super …</td></tr><tr><td>2</td><td>13.2</td><td>&quot;Chennai Super …</td><td>&quot;Gujarat Lions&quot;</td><td>151</td><td>5</td><td>171</td><td>1</td><td>&quot;Ahmedabad&quot;</td><td>11.615385</td><td>&quot;Chennai Super …</td></tr><tr><td>2</td><td>13.3</td><td>&quot;Chennai Super …</td><td>&quot;Gujarat Lions&quot;</td><td>153</td><td>5</td><td>171</td><td>1</td><td>&quot;Ahmedabad&quot;</td><td>11.769231</td><td>&quot;Chennai Super …</td></tr><tr><td>2</td><td>13.4</td><td>&quot;Chennai Super …</td><td>&quot;Gujarat Lions&quot;</td><td>155</td><td>5</td><td>171</td><td>1</td><td>&quot;Ahmedabad&quot;</td><td>11.923077</td><td>&quot;Chennai Super …</td></tr><tr><td>2</td><td>13.5</td><td>&quot;Chennai Super …</td><td>&quot;Gujarat Lions&quot;</td><td>156</td><td>5</td><td>171</td><td>1</td><td>&quot;Ahmedabad&quot;</td><td>12.0</td><td>&quot;Chennai Super …</td></tr><tr><td>2</td><td>13.6</td><td>&quot;Chennai Super …</td><td>&quot;Gujarat Lions&quot;</td><td>158</td><td>5</td><td>171</td><td>1</td><td>&quot;Ahmedabad&quot;</td><td>12.153846</td><td>&quot;Chennai Super …</td></tr><tr><td>2</td><td>14.1</td><td>&quot;Chennai Super …</td><td>&quot;Gujarat Lions&quot;</td><td>158</td><td>5</td><td>171</td><td>1</td><td>&quot;Ahmedabad&quot;</td><td>11.285714</td><td>&quot;Chennai Super …</td></tr><tr><td>2</td><td>14.2</td><td>&quot;Chennai Super …</td><td>&quot;Gujarat Lions&quot;</td><td>159</td><td>5</td><td>171</td><td>1</td><td>&quot;Ahmedabad&quot;</td><td>11.357143</td><td>&quot;Chennai Super …</td></tr><tr><td>2</td><td>14.3</td><td>&quot;Chennai Super …</td><td>&quot;Gujarat Lions&quot;</td><td>160</td><td>5</td><td>171</td><td>1</td><td>&quot;Ahmedabad&quot;</td><td>11.428571</td><td>&quot;Chennai Super …</td></tr><tr><td>2</td><td>14.4</td><td>&quot;Chennai Super …</td><td>&quot;Gujarat Lions&quot;</td><td>161</td><td>5</td><td>171</td><td>1</td><td>&quot;Ahmedabad&quot;</td><td>11.5</td><td>&quot;Chennai Super …</td></tr><tr><td>2</td><td>14.5</td><td>&quot;Chennai Super …</td><td>&quot;Gujarat Lions&quot;</td><td>167</td><td>5</td><td>171</td><td>1</td><td>&quot;Ahmedabad&quot;</td><td>11.928571</td><td>&quot;Chennai Super …</td></tr><tr><td>2</td><td>14.6</td><td>&quot;Chennai Super …</td><td>&quot;Gujarat Lions&quot;</td><td>171</td><td>5</td><td>171</td><td>1</td><td>&quot;Ahmedabad&quot;</td><td>12.214286</td><td>&quot;Chennai Super …</td></tr></tbody></table></div>"
      ],
      "text/plain": [
       "shape: (9_880, 11)\n",
       "┌─────────┬──────┬────────────┬────────────┬───┬────────────┬───────────┬────────────┬─────────────┐\n",
       "│ innings ┆ ball ┆ batting_te ┆ bowling_te ┆ … ┆ toss_decis ┆ city      ┆ current_ru ┆ toss_winner │\n",
       "│ ---     ┆ ---  ┆ am         ┆ am         ┆   ┆ ion        ┆ ---       ┆ n_rate     ┆ ---         │\n",
       "│ i64     ┆ f64  ┆ ---        ┆ ---        ┆   ┆ ---        ┆ str       ┆ ---        ┆ str         │\n",
       "│         ┆      ┆ str        ┆ str        ┆   ┆ i64        ┆           ┆ f64        ┆             │\n",
       "╞═════════╪══════╪════════════╪════════════╪═══╪════════════╪═══════════╪════════════╪═════════════╡\n",
       "│ 1       ┆ 6.1  ┆ Chennai    ┆ Gujarat    ┆ … ┆ 1          ┆ Ahmedabad ┆ 8.5        ┆ Gujarat     │\n",
       "│         ┆      ┆ Super      ┆ Lions      ┆   ┆            ┆           ┆            ┆ Lions       │\n",
       "│         ┆      ┆ Kings      ┆            ┆   ┆            ┆           ┆            ┆             │\n",
       "│ 1       ┆ 6.2  ┆ Chennai    ┆ Gujarat    ┆ … ┆ 1          ┆ Ahmedabad ┆ 8.666667   ┆ Gujarat     │\n",
       "│         ┆      ┆ Super      ┆ Lions      ┆   ┆            ┆           ┆            ┆ Lions       │\n",
       "│         ┆      ┆ Kings      ┆            ┆   ┆            ┆           ┆            ┆             │\n",
       "│ 1       ┆ 6.3  ┆ Chennai    ┆ Gujarat    ┆ … ┆ 1          ┆ Ahmedabad ┆ 9.666667   ┆ Gujarat     │\n",
       "│         ┆      ┆ Super      ┆ Lions      ┆   ┆            ┆           ┆            ┆ Lions       │\n",
       "│         ┆      ┆ Kings      ┆            ┆   ┆            ┆           ┆            ┆             │\n",
       "│ 1       ┆ 6.4  ┆ Chennai    ┆ Gujarat    ┆ … ┆ 1          ┆ Ahmedabad ┆ 10.666667  ┆ Gujarat     │\n",
       "│         ┆      ┆ Super      ┆ Lions      ┆   ┆            ┆           ┆            ┆ Lions       │\n",
       "│         ┆      ┆ Kings      ┆            ┆   ┆            ┆           ┆            ┆             │\n",
       "│ …       ┆ …    ┆ …          ┆ …          ┆ … ┆ …          ┆ …         ┆ …          ┆ …           │\n",
       "│ 2       ┆ 14.3 ┆ Chennai    ┆ Gujarat    ┆ … ┆ 1          ┆ Ahmedabad ┆ 11.428571  ┆ Chennai     │\n",
       "│         ┆      ┆ Super      ┆ Lions      ┆   ┆            ┆           ┆            ┆ Super Kings │\n",
       "│         ┆      ┆ Kings      ┆            ┆   ┆            ┆           ┆            ┆             │\n",
       "│ 2       ┆ 14.4 ┆ Chennai    ┆ Gujarat    ┆ … ┆ 1          ┆ Ahmedabad ┆ 11.5       ┆ Chennai     │\n",
       "│         ┆      ┆ Super      ┆ Lions      ┆   ┆            ┆           ┆            ┆ Super Kings │\n",
       "│         ┆      ┆ Kings      ┆            ┆   ┆            ┆           ┆            ┆             │\n",
       "│ 2       ┆ 14.5 ┆ Chennai    ┆ Gujarat    ┆ … ┆ 1          ┆ Ahmedabad ┆ 11.928571  ┆ Chennai     │\n",
       "│         ┆      ┆ Super      ┆ Lions      ┆   ┆            ┆           ┆            ┆ Super Kings │\n",
       "│         ┆      ┆ Kings      ┆            ┆   ┆            ┆           ┆            ┆             │\n",
       "│ 2       ┆ 14.6 ┆ Chennai    ┆ Gujarat    ┆ … ┆ 1          ┆ Ahmedabad ┆ 12.214286  ┆ Chennai     │\n",
       "│         ┆      ┆ Super      ┆ Lions      ┆   ┆            ┆           ┆            ┆ Super Kings │\n",
       "│         ┆      ┆ Kings      ┆            ┆   ┆            ┆           ┆            ┆             │\n",
       "└─────────┴──────┴────────────┴────────────┴───┴────────────┴───────────┴────────────┴─────────────┘"
      ]
     },
     "execution_count": 23,
     "metadata": {},
     "output_type": "execute_result"
    }
   ],
   "source": [
    "deliveries=deliveries.with_columns(pl.col(\"toss_winner\").str.replace(\"Titans\",\"Lions\"))\n",
    "deliveries=deliveries.with_columns(pl.col(\"toss_winner\").str.replace(\"Punjab Kings\",\"Kings XI Punjab\"))\n",
    "deliveries=deliveries.with_columns(pl.col(\"city\").str.replace(\"Wankhede\",\"Mumbai\"))\n",
    "deliveries=deliveries.with_columns(pl.col(\"city\").str.replace(\"Bengaluru\",\"Bangalore\"))\n",
    "deliveries=deliveries.with_columns(pl.col(\"city\").str.replace(\"Eden Gardens\",\"Kolkata\"))\n",
    "deliveries"
   ]
  },
  {
   "cell_type": "code",
   "execution_count": 24,
   "metadata": {},
   "outputs": [
    {
     "data": {
      "text/html": [
       "<div><style>\n",
       ".dataframe > thead > tr > th,\n",
       ".dataframe > tbody > tr > td {\n",
       "  text-align: right;\n",
       "}\n",
       "</style>\n",
       "<small>shape: (9_530, 11)</small><table border=\"1\" class=\"dataframe\"><thead><tr><th>batting_team</th><th>bowling_team</th><th>current_runs</th><th>wickets</th><th>final_runs</th><th>toss_decision</th><th>city</th><th>current_run_rate</th><th>toss_winner</th><th>inning</th><th>balls</th></tr><tr><td>str</td><td>str</td><td>i64</td><td>i64</td><td>i64</td><td>i64</td><td>str</td><td>f64</td><td>str</td><td>i64</td><td>f64</td></tr></thead><tbody><tr><td>&quot;Chennai Super …</td><td>&quot;Gujarat Lions&quot;</td><td>51</td><td>2</td><td>178</td><td>1</td><td>&quot;Ahmedabad&quot;</td><td>8.5</td><td>&quot;Gujarat Lions&quot;</td><td>1</td><td>6.1</td></tr><tr><td>&quot;Chennai Super …</td><td>&quot;Gujarat Lions&quot;</td><td>52</td><td>2</td><td>178</td><td>1</td><td>&quot;Ahmedabad&quot;</td><td>8.666667</td><td>&quot;Gujarat Lions&quot;</td><td>1</td><td>6.2</td></tr><tr><td>&quot;Chennai Super …</td><td>&quot;Gujarat Lions&quot;</td><td>58</td><td>2</td><td>178</td><td>1</td><td>&quot;Ahmedabad&quot;</td><td>9.666667</td><td>&quot;Gujarat Lions&quot;</td><td>1</td><td>6.3</td></tr><tr><td>&quot;Chennai Super …</td><td>&quot;Gujarat Lions&quot;</td><td>64</td><td>2</td><td>178</td><td>1</td><td>&quot;Ahmedabad&quot;</td><td>10.666667</td><td>&quot;Gujarat Lions&quot;</td><td>1</td><td>6.4</td></tr><tr><td>&quot;Chennai Super …</td><td>&quot;Gujarat Lions&quot;</td><td>64</td><td>2</td><td>178</td><td>1</td><td>&quot;Ahmedabad&quot;</td><td>10.666667</td><td>&quot;Gujarat Lions&quot;</td><td>1</td><td>6.5</td></tr><tr><td>&quot;Chennai Super …</td><td>&quot;Gujarat Lions&quot;</td><td>64</td><td>2</td><td>178</td><td>1</td><td>&quot;Ahmedabad&quot;</td><td>10.666667</td><td>&quot;Gujarat Lions&quot;</td><td>1</td><td>6.6</td></tr><tr><td>&quot;Chennai Super …</td><td>&quot;Gujarat Lions&quot;</td><td>65</td><td>2</td><td>178</td><td>1</td><td>&quot;Ahmedabad&quot;</td><td>9.285714</td><td>&quot;Gujarat Lions&quot;</td><td>1</td><td>7.1</td></tr><tr><td>&quot;Chennai Super …</td><td>&quot;Gujarat Lions&quot;</td><td>66</td><td>2</td><td>178</td><td>1</td><td>&quot;Ahmedabad&quot;</td><td>9.428571</td><td>&quot;Gujarat Lions&quot;</td><td>1</td><td>7.2</td></tr><tr><td>&quot;Chennai Super …</td><td>&quot;Gujarat Lions&quot;</td><td>70</td><td>2</td><td>178</td><td>1</td><td>&quot;Ahmedabad&quot;</td><td>10.0</td><td>&quot;Gujarat Lions&quot;</td><td>1</td><td>7.3</td></tr><tr><td>&quot;Chennai Super …</td><td>&quot;Gujarat Lions&quot;</td><td>70</td><td>3</td><td>178</td><td>1</td><td>&quot;Ahmedabad&quot;</td><td>10.0</td><td>&quot;Gujarat Lions&quot;</td><td>1</td><td>7.4</td></tr><tr><td>&quot;Chennai Super …</td><td>&quot;Gujarat Lions&quot;</td><td>71</td><td>3</td><td>178</td><td>1</td><td>&quot;Ahmedabad&quot;</td><td>10.142857</td><td>&quot;Gujarat Lions&quot;</td><td>1</td><td>7.5</td></tr><tr><td>&quot;Chennai Super …</td><td>&quot;Gujarat Lions&quot;</td><td>72</td><td>3</td><td>178</td><td>1</td><td>&quot;Ahmedabad&quot;</td><td>10.285714</td><td>&quot;Gujarat Lions&quot;</td><td>1</td><td>7.6</td></tr><tr><td>&hellip;</td><td>&hellip;</td><td>&hellip;</td><td>&hellip;</td><td>&hellip;</td><td>&hellip;</td><td>&hellip;</td><td>&hellip;</td><td>&hellip;</td><td>&hellip;</td><td>&hellip;</td></tr><tr><td>&quot;Chennai Super …</td><td>&quot;Gujarat Lions&quot;</td><td>151</td><td>5</td><td>171</td><td>1</td><td>&quot;Ahmedabad&quot;</td><td>11.615385</td><td>&quot;Chennai Super …</td><td>2</td><td>13.1</td></tr><tr><td>&quot;Chennai Super …</td><td>&quot;Gujarat Lions&quot;</td><td>151</td><td>5</td><td>171</td><td>1</td><td>&quot;Ahmedabad&quot;</td><td>11.615385</td><td>&quot;Chennai Super …</td><td>2</td><td>13.2</td></tr><tr><td>&quot;Chennai Super …</td><td>&quot;Gujarat Lions&quot;</td><td>153</td><td>5</td><td>171</td><td>1</td><td>&quot;Ahmedabad&quot;</td><td>11.769231</td><td>&quot;Chennai Super …</td><td>2</td><td>13.3</td></tr><tr><td>&quot;Chennai Super …</td><td>&quot;Gujarat Lions&quot;</td><td>155</td><td>5</td><td>171</td><td>1</td><td>&quot;Ahmedabad&quot;</td><td>11.923077</td><td>&quot;Chennai Super …</td><td>2</td><td>13.4</td></tr><tr><td>&quot;Chennai Super …</td><td>&quot;Gujarat Lions&quot;</td><td>156</td><td>5</td><td>171</td><td>1</td><td>&quot;Ahmedabad&quot;</td><td>12.0</td><td>&quot;Chennai Super …</td><td>2</td><td>13.5</td></tr><tr><td>&quot;Chennai Super …</td><td>&quot;Gujarat Lions&quot;</td><td>158</td><td>5</td><td>171</td><td>1</td><td>&quot;Ahmedabad&quot;</td><td>12.153846</td><td>&quot;Chennai Super …</td><td>2</td><td>13.6</td></tr><tr><td>&quot;Chennai Super …</td><td>&quot;Gujarat Lions&quot;</td><td>158</td><td>5</td><td>171</td><td>1</td><td>&quot;Ahmedabad&quot;</td><td>11.285714</td><td>&quot;Chennai Super …</td><td>2</td><td>14.1</td></tr><tr><td>&quot;Chennai Super …</td><td>&quot;Gujarat Lions&quot;</td><td>159</td><td>5</td><td>171</td><td>1</td><td>&quot;Ahmedabad&quot;</td><td>11.357143</td><td>&quot;Chennai Super …</td><td>2</td><td>14.2</td></tr><tr><td>&quot;Chennai Super …</td><td>&quot;Gujarat Lions&quot;</td><td>160</td><td>5</td><td>171</td><td>1</td><td>&quot;Ahmedabad&quot;</td><td>11.428571</td><td>&quot;Chennai Super …</td><td>2</td><td>14.3</td></tr><tr><td>&quot;Chennai Super …</td><td>&quot;Gujarat Lions&quot;</td><td>161</td><td>5</td><td>171</td><td>1</td><td>&quot;Ahmedabad&quot;</td><td>11.5</td><td>&quot;Chennai Super …</td><td>2</td><td>14.4</td></tr><tr><td>&quot;Chennai Super …</td><td>&quot;Gujarat Lions&quot;</td><td>167</td><td>5</td><td>171</td><td>1</td><td>&quot;Ahmedabad&quot;</td><td>11.928571</td><td>&quot;Chennai Super …</td><td>2</td><td>14.5</td></tr><tr><td>&quot;Chennai Super …</td><td>&quot;Gujarat Lions&quot;</td><td>171</td><td>5</td><td>171</td><td>1</td><td>&quot;Ahmedabad&quot;</td><td>12.214286</td><td>&quot;Chennai Super …</td><td>2</td><td>14.6</td></tr></tbody></table></div>"
      ],
      "text/plain": [
       "shape: (9_530, 11)\n",
       "┌────────────┬────────────┬────────────┬─────────┬───┬────────────┬───────────────┬────────┬───────┐\n",
       "│ batting_te ┆ bowling_te ┆ current_ru ┆ wickets ┆ … ┆ current_ru ┆ toss_winner   ┆ inning ┆ balls │\n",
       "│ am         ┆ am         ┆ ns         ┆ ---     ┆   ┆ n_rate     ┆ ---           ┆ ---    ┆ ---   │\n",
       "│ ---        ┆ ---        ┆ ---        ┆ i64     ┆   ┆ ---        ┆ str           ┆ i64    ┆ f64   │\n",
       "│ str        ┆ str        ┆ i64        ┆         ┆   ┆ f64        ┆               ┆        ┆       │\n",
       "╞════════════╪════════════╪════════════╪═════════╪═══╪════════════╪═══════════════╪════════╪═══════╡\n",
       "│ Chennai    ┆ Gujarat    ┆ 51         ┆ 2       ┆ … ┆ 8.5        ┆ Gujarat Lions ┆ 1      ┆ 6.1   │\n",
       "│ Super      ┆ Lions      ┆            ┆         ┆   ┆            ┆               ┆        ┆       │\n",
       "│ Kings      ┆            ┆            ┆         ┆   ┆            ┆               ┆        ┆       │\n",
       "│ Chennai    ┆ Gujarat    ┆ 52         ┆ 2       ┆ … ┆ 8.666667   ┆ Gujarat Lions ┆ 1      ┆ 6.2   │\n",
       "│ Super      ┆ Lions      ┆            ┆         ┆   ┆            ┆               ┆        ┆       │\n",
       "│ Kings      ┆            ┆            ┆         ┆   ┆            ┆               ┆        ┆       │\n",
       "│ Chennai    ┆ Gujarat    ┆ 58         ┆ 2       ┆ … ┆ 9.666667   ┆ Gujarat Lions ┆ 1      ┆ 6.3   │\n",
       "│ Super      ┆ Lions      ┆            ┆         ┆   ┆            ┆               ┆        ┆       │\n",
       "│ Kings      ┆            ┆            ┆         ┆   ┆            ┆               ┆        ┆       │\n",
       "│ Chennai    ┆ Gujarat    ┆ 64         ┆ 2       ┆ … ┆ 10.666667  ┆ Gujarat Lions ┆ 1      ┆ 6.4   │\n",
       "│ Super      ┆ Lions      ┆            ┆         ┆   ┆            ┆               ┆        ┆       │\n",
       "│ Kings      ┆            ┆            ┆         ┆   ┆            ┆               ┆        ┆       │\n",
       "│ …          ┆ …          ┆ …          ┆ …       ┆ … ┆ …          ┆ …             ┆ …      ┆ …     │\n",
       "│ Chennai    ┆ Gujarat    ┆ 160        ┆ 5       ┆ … ┆ 11.428571  ┆ Chennai Super ┆ 2      ┆ 14.3  │\n",
       "│ Super      ┆ Lions      ┆            ┆         ┆   ┆            ┆ Kings         ┆        ┆       │\n",
       "│ Kings      ┆            ┆            ┆         ┆   ┆            ┆               ┆        ┆       │\n",
       "│ Chennai    ┆ Gujarat    ┆ 161        ┆ 5       ┆ … ┆ 11.5       ┆ Chennai Super ┆ 2      ┆ 14.4  │\n",
       "│ Super      ┆ Lions      ┆            ┆         ┆   ┆            ┆ Kings         ┆        ┆       │\n",
       "│ Kings      ┆            ┆            ┆         ┆   ┆            ┆               ┆        ┆       │\n",
       "│ Chennai    ┆ Gujarat    ┆ 167        ┆ 5       ┆ … ┆ 11.928571  ┆ Chennai Super ┆ 2      ┆ 14.5  │\n",
       "│ Super      ┆ Lions      ┆            ┆         ┆   ┆            ┆ Kings         ┆        ┆       │\n",
       "│ Kings      ┆            ┆            ┆         ┆   ┆            ┆               ┆        ┆       │\n",
       "│ Chennai    ┆ Gujarat    ┆ 171        ┆ 5       ┆ … ┆ 12.214286  ┆ Chennai Super ┆ 2      ┆ 14.6  │\n",
       "│ Super      ┆ Lions      ┆            ┆         ┆   ┆            ┆ Kings         ┆        ┆       │\n",
       "│ Kings      ┆            ┆            ┆         ┆   ┆            ┆               ┆        ┆       │\n",
       "└────────────┴────────────┴────────────┴─────────┴───┴────────────┴───────────────┴────────┴───────┘"
      ]
     },
     "execution_count": 24,
     "metadata": {},
     "output_type": "execute_result"
    }
   ],
   "source": [
    "deliveries=deliveries.with_columns((pl.col(\"innings\")).alias(\"inning\"),(pl.col(\"ball\")).alias(\"balls\")).drop(\"innings\",\"ball\").filter(pl.col(\"city\")!=\"Guwahati\")\n",
    "deliveries "
   ]
  },
  {
   "cell_type": "code",
   "execution_count": 25,
   "metadata": {},
   "outputs": [
    {
     "data": {
      "text/plain": [
       "['Hyderabad',\n",
       " 'Ahmedabad',\n",
       " 'Delhi',\n",
       " 'Mumbai',\n",
       " 'Kolkata',\n",
       " 'Bangalore',\n",
       " 'Chennai',\n",
       " 'Dharamsala',\n",
       " 'Chandigarh',\n",
       " 'Jaipur']"
      ]
     },
     "execution_count": 25,
     "metadata": {},
     "output_type": "execute_result"
    }
   ],
   "source": [
    "deliveries[\"city\"].unique().to_list()"
   ]
  },
  {
   "cell_type": "code",
   "execution_count": 26,
   "metadata": {},
   "outputs": [
    {
     "data": {
      "text/html": [
       "<div><style>\n",
       ".dataframe > thead > tr > th,\n",
       ".dataframe > tbody > tr > td {\n",
       "  text-align: right;\n",
       "}\n",
       "</style>\n",
       "<small>shape: (9_530, 44)</small><table border=\"1\" class=\"dataframe\"><thead><tr><th>batting_team_Chennai Super Kings</th><th>batting_team_Delhi Capitals</th><th>batting_team_Gujarat Lions</th><th>batting_team_Kings XI Punjab</th><th>batting_team_Kolkata Knight Riders</th><th>batting_team_Mumbai Indians</th><th>batting_team_Rajasthan Royals</th><th>batting_team_Royal Challengers Bangalore</th><th>batting_team_Sunrisers Hyderabad</th><th>bowling_team_Chennai Super Kings</th><th>bowling_team_Delhi Capitals</th><th>bowling_team_Gujarat Lions</th><th>bowling_team_Kings XI Punjab</th><th>bowling_team_Kolkata Knight Riders</th><th>bowling_team_Mumbai Indians</th><th>bowling_team_Rajasthan Royals</th><th>bowling_team_Royal Challengers Bangalore</th><th>bowling_team_Sunrisers Hyderabad</th><th>current_runs</th><th>wickets</th><th>final_runs</th><th>toss_decision</th><th>city_Ahmedabad</th><th>city_Bangalore</th><th>city_Chandigarh</th><th>city_Chennai</th><th>city_Delhi</th><th>city_Dharamsala</th><th>city_Hyderabad</th><th>city_Jaipur</th><th>city_Kolkata</th><th>city_Mumbai</th><th>current_run_rate</th><th>toss_winner_Chennai Super Kings</th><th>toss_winner_Delhi Capitals</th><th>toss_winner_Gujarat Lions</th><th>toss_winner_Kings XI Punjab</th><th>toss_winner_Kolkata Knight Riders</th><th>toss_winner_Mumbai Indians</th><th>toss_winner_Rajasthan Royals</th><th>toss_winner_Royal Challengers Bangalore</th><th>toss_winner_Sunrisers Hyderabad</th><th>inning</th><th>balls</th></tr><tr><td>u8</td><td>u8</td><td>u8</td><td>u8</td><td>u8</td><td>u8</td><td>u8</td><td>u8</td><td>u8</td><td>u8</td><td>u8</td><td>u8</td><td>u8</td><td>u8</td><td>u8</td><td>u8</td><td>u8</td><td>u8</td><td>i64</td><td>i64</td><td>i64</td><td>i64</td><td>u8</td><td>u8</td><td>u8</td><td>u8</td><td>u8</td><td>u8</td><td>u8</td><td>u8</td><td>u8</td><td>u8</td><td>f64</td><td>u8</td><td>u8</td><td>u8</td><td>u8</td><td>u8</td><td>u8</td><td>u8</td><td>u8</td><td>u8</td><td>i64</td><td>f64</td></tr></thead><tbody><tr><td>1</td><td>0</td><td>0</td><td>0</td><td>0</td><td>0</td><td>0</td><td>0</td><td>0</td><td>0</td><td>0</td><td>1</td><td>0</td><td>0</td><td>0</td><td>0</td><td>0</td><td>0</td><td>51</td><td>2</td><td>178</td><td>1</td><td>1</td><td>0</td><td>0</td><td>0</td><td>0</td><td>0</td><td>0</td><td>0</td><td>0</td><td>0</td><td>8.5</td><td>0</td><td>0</td><td>1</td><td>0</td><td>0</td><td>0</td><td>0</td><td>0</td><td>0</td><td>1</td><td>6.1</td></tr><tr><td>1</td><td>0</td><td>0</td><td>0</td><td>0</td><td>0</td><td>0</td><td>0</td><td>0</td><td>0</td><td>0</td><td>1</td><td>0</td><td>0</td><td>0</td><td>0</td><td>0</td><td>0</td><td>52</td><td>2</td><td>178</td><td>1</td><td>1</td><td>0</td><td>0</td><td>0</td><td>0</td><td>0</td><td>0</td><td>0</td><td>0</td><td>0</td><td>8.666667</td><td>0</td><td>0</td><td>1</td><td>0</td><td>0</td><td>0</td><td>0</td><td>0</td><td>0</td><td>1</td><td>6.2</td></tr><tr><td>1</td><td>0</td><td>0</td><td>0</td><td>0</td><td>0</td><td>0</td><td>0</td><td>0</td><td>0</td><td>0</td><td>1</td><td>0</td><td>0</td><td>0</td><td>0</td><td>0</td><td>0</td><td>58</td><td>2</td><td>178</td><td>1</td><td>1</td><td>0</td><td>0</td><td>0</td><td>0</td><td>0</td><td>0</td><td>0</td><td>0</td><td>0</td><td>9.666667</td><td>0</td><td>0</td><td>1</td><td>0</td><td>0</td><td>0</td><td>0</td><td>0</td><td>0</td><td>1</td><td>6.3</td></tr><tr><td>1</td><td>0</td><td>0</td><td>0</td><td>0</td><td>0</td><td>0</td><td>0</td><td>0</td><td>0</td><td>0</td><td>1</td><td>0</td><td>0</td><td>0</td><td>0</td><td>0</td><td>0</td><td>64</td><td>2</td><td>178</td><td>1</td><td>1</td><td>0</td><td>0</td><td>0</td><td>0</td><td>0</td><td>0</td><td>0</td><td>0</td><td>0</td><td>10.666667</td><td>0</td><td>0</td><td>1</td><td>0</td><td>0</td><td>0</td><td>0</td><td>0</td><td>0</td><td>1</td><td>6.4</td></tr><tr><td>1</td><td>0</td><td>0</td><td>0</td><td>0</td><td>0</td><td>0</td><td>0</td><td>0</td><td>0</td><td>0</td><td>1</td><td>0</td><td>0</td><td>0</td><td>0</td><td>0</td><td>0</td><td>64</td><td>2</td><td>178</td><td>1</td><td>1</td><td>0</td><td>0</td><td>0</td><td>0</td><td>0</td><td>0</td><td>0</td><td>0</td><td>0</td><td>10.666667</td><td>0</td><td>0</td><td>1</td><td>0</td><td>0</td><td>0</td><td>0</td><td>0</td><td>0</td><td>1</td><td>6.5</td></tr><tr><td>1</td><td>0</td><td>0</td><td>0</td><td>0</td><td>0</td><td>0</td><td>0</td><td>0</td><td>0</td><td>0</td><td>1</td><td>0</td><td>0</td><td>0</td><td>0</td><td>0</td><td>0</td><td>64</td><td>2</td><td>178</td><td>1</td><td>1</td><td>0</td><td>0</td><td>0</td><td>0</td><td>0</td><td>0</td><td>0</td><td>0</td><td>0</td><td>10.666667</td><td>0</td><td>0</td><td>1</td><td>0</td><td>0</td><td>0</td><td>0</td><td>0</td><td>0</td><td>1</td><td>6.6</td></tr><tr><td>1</td><td>0</td><td>0</td><td>0</td><td>0</td><td>0</td><td>0</td><td>0</td><td>0</td><td>0</td><td>0</td><td>1</td><td>0</td><td>0</td><td>0</td><td>0</td><td>0</td><td>0</td><td>65</td><td>2</td><td>178</td><td>1</td><td>1</td><td>0</td><td>0</td><td>0</td><td>0</td><td>0</td><td>0</td><td>0</td><td>0</td><td>0</td><td>9.285714</td><td>0</td><td>0</td><td>1</td><td>0</td><td>0</td><td>0</td><td>0</td><td>0</td><td>0</td><td>1</td><td>7.1</td></tr><tr><td>1</td><td>0</td><td>0</td><td>0</td><td>0</td><td>0</td><td>0</td><td>0</td><td>0</td><td>0</td><td>0</td><td>1</td><td>0</td><td>0</td><td>0</td><td>0</td><td>0</td><td>0</td><td>66</td><td>2</td><td>178</td><td>1</td><td>1</td><td>0</td><td>0</td><td>0</td><td>0</td><td>0</td><td>0</td><td>0</td><td>0</td><td>0</td><td>9.428571</td><td>0</td><td>0</td><td>1</td><td>0</td><td>0</td><td>0</td><td>0</td><td>0</td><td>0</td><td>1</td><td>7.2</td></tr><tr><td>1</td><td>0</td><td>0</td><td>0</td><td>0</td><td>0</td><td>0</td><td>0</td><td>0</td><td>0</td><td>0</td><td>1</td><td>0</td><td>0</td><td>0</td><td>0</td><td>0</td><td>0</td><td>70</td><td>2</td><td>178</td><td>1</td><td>1</td><td>0</td><td>0</td><td>0</td><td>0</td><td>0</td><td>0</td><td>0</td><td>0</td><td>0</td><td>10.0</td><td>0</td><td>0</td><td>1</td><td>0</td><td>0</td><td>0</td><td>0</td><td>0</td><td>0</td><td>1</td><td>7.3</td></tr><tr><td>1</td><td>0</td><td>0</td><td>0</td><td>0</td><td>0</td><td>0</td><td>0</td><td>0</td><td>0</td><td>0</td><td>1</td><td>0</td><td>0</td><td>0</td><td>0</td><td>0</td><td>0</td><td>70</td><td>3</td><td>178</td><td>1</td><td>1</td><td>0</td><td>0</td><td>0</td><td>0</td><td>0</td><td>0</td><td>0</td><td>0</td><td>0</td><td>10.0</td><td>0</td><td>0</td><td>1</td><td>0</td><td>0</td><td>0</td><td>0</td><td>0</td><td>0</td><td>1</td><td>7.4</td></tr><tr><td>1</td><td>0</td><td>0</td><td>0</td><td>0</td><td>0</td><td>0</td><td>0</td><td>0</td><td>0</td><td>0</td><td>1</td><td>0</td><td>0</td><td>0</td><td>0</td><td>0</td><td>0</td><td>71</td><td>3</td><td>178</td><td>1</td><td>1</td><td>0</td><td>0</td><td>0</td><td>0</td><td>0</td><td>0</td><td>0</td><td>0</td><td>0</td><td>10.142857</td><td>0</td><td>0</td><td>1</td><td>0</td><td>0</td><td>0</td><td>0</td><td>0</td><td>0</td><td>1</td><td>7.5</td></tr><tr><td>1</td><td>0</td><td>0</td><td>0</td><td>0</td><td>0</td><td>0</td><td>0</td><td>0</td><td>0</td><td>0</td><td>1</td><td>0</td><td>0</td><td>0</td><td>0</td><td>0</td><td>0</td><td>72</td><td>3</td><td>178</td><td>1</td><td>1</td><td>0</td><td>0</td><td>0</td><td>0</td><td>0</td><td>0</td><td>0</td><td>0</td><td>0</td><td>10.285714</td><td>0</td><td>0</td><td>1</td><td>0</td><td>0</td><td>0</td><td>0</td><td>0</td><td>0</td><td>1</td><td>7.6</td></tr><tr><td>&hellip;</td><td>&hellip;</td><td>&hellip;</td><td>&hellip;</td><td>&hellip;</td><td>&hellip;</td><td>&hellip;</td><td>&hellip;</td><td>&hellip;</td><td>&hellip;</td><td>&hellip;</td><td>&hellip;</td><td>&hellip;</td><td>&hellip;</td><td>&hellip;</td><td>&hellip;</td><td>&hellip;</td><td>&hellip;</td><td>&hellip;</td><td>&hellip;</td><td>&hellip;</td><td>&hellip;</td><td>&hellip;</td><td>&hellip;</td><td>&hellip;</td><td>&hellip;</td><td>&hellip;</td><td>&hellip;</td><td>&hellip;</td><td>&hellip;</td><td>&hellip;</td><td>&hellip;</td><td>&hellip;</td><td>&hellip;</td><td>&hellip;</td><td>&hellip;</td><td>&hellip;</td><td>&hellip;</td><td>&hellip;</td><td>&hellip;</td><td>&hellip;</td><td>&hellip;</td><td>&hellip;</td><td>&hellip;</td></tr><tr><td>1</td><td>0</td><td>0</td><td>0</td><td>0</td><td>0</td><td>0</td><td>0</td><td>0</td><td>0</td><td>0</td><td>1</td><td>0</td><td>0</td><td>0</td><td>0</td><td>0</td><td>0</td><td>151</td><td>5</td><td>171</td><td>1</td><td>1</td><td>0</td><td>0</td><td>0</td><td>0</td><td>0</td><td>0</td><td>0</td><td>0</td><td>0</td><td>11.615385</td><td>1</td><td>0</td><td>0</td><td>0</td><td>0</td><td>0</td><td>0</td><td>0</td><td>0</td><td>2</td><td>13.1</td></tr><tr><td>1</td><td>0</td><td>0</td><td>0</td><td>0</td><td>0</td><td>0</td><td>0</td><td>0</td><td>0</td><td>0</td><td>1</td><td>0</td><td>0</td><td>0</td><td>0</td><td>0</td><td>0</td><td>151</td><td>5</td><td>171</td><td>1</td><td>1</td><td>0</td><td>0</td><td>0</td><td>0</td><td>0</td><td>0</td><td>0</td><td>0</td><td>0</td><td>11.615385</td><td>1</td><td>0</td><td>0</td><td>0</td><td>0</td><td>0</td><td>0</td><td>0</td><td>0</td><td>2</td><td>13.2</td></tr><tr><td>1</td><td>0</td><td>0</td><td>0</td><td>0</td><td>0</td><td>0</td><td>0</td><td>0</td><td>0</td><td>0</td><td>1</td><td>0</td><td>0</td><td>0</td><td>0</td><td>0</td><td>0</td><td>153</td><td>5</td><td>171</td><td>1</td><td>1</td><td>0</td><td>0</td><td>0</td><td>0</td><td>0</td><td>0</td><td>0</td><td>0</td><td>0</td><td>11.769231</td><td>1</td><td>0</td><td>0</td><td>0</td><td>0</td><td>0</td><td>0</td><td>0</td><td>0</td><td>2</td><td>13.3</td></tr><tr><td>1</td><td>0</td><td>0</td><td>0</td><td>0</td><td>0</td><td>0</td><td>0</td><td>0</td><td>0</td><td>0</td><td>1</td><td>0</td><td>0</td><td>0</td><td>0</td><td>0</td><td>0</td><td>155</td><td>5</td><td>171</td><td>1</td><td>1</td><td>0</td><td>0</td><td>0</td><td>0</td><td>0</td><td>0</td><td>0</td><td>0</td><td>0</td><td>11.923077</td><td>1</td><td>0</td><td>0</td><td>0</td><td>0</td><td>0</td><td>0</td><td>0</td><td>0</td><td>2</td><td>13.4</td></tr><tr><td>1</td><td>0</td><td>0</td><td>0</td><td>0</td><td>0</td><td>0</td><td>0</td><td>0</td><td>0</td><td>0</td><td>1</td><td>0</td><td>0</td><td>0</td><td>0</td><td>0</td><td>0</td><td>156</td><td>5</td><td>171</td><td>1</td><td>1</td><td>0</td><td>0</td><td>0</td><td>0</td><td>0</td><td>0</td><td>0</td><td>0</td><td>0</td><td>12.0</td><td>1</td><td>0</td><td>0</td><td>0</td><td>0</td><td>0</td><td>0</td><td>0</td><td>0</td><td>2</td><td>13.5</td></tr><tr><td>1</td><td>0</td><td>0</td><td>0</td><td>0</td><td>0</td><td>0</td><td>0</td><td>0</td><td>0</td><td>0</td><td>1</td><td>0</td><td>0</td><td>0</td><td>0</td><td>0</td><td>0</td><td>158</td><td>5</td><td>171</td><td>1</td><td>1</td><td>0</td><td>0</td><td>0</td><td>0</td><td>0</td><td>0</td><td>0</td><td>0</td><td>0</td><td>12.153846</td><td>1</td><td>0</td><td>0</td><td>0</td><td>0</td><td>0</td><td>0</td><td>0</td><td>0</td><td>2</td><td>13.6</td></tr><tr><td>1</td><td>0</td><td>0</td><td>0</td><td>0</td><td>0</td><td>0</td><td>0</td><td>0</td><td>0</td><td>0</td><td>1</td><td>0</td><td>0</td><td>0</td><td>0</td><td>0</td><td>0</td><td>158</td><td>5</td><td>171</td><td>1</td><td>1</td><td>0</td><td>0</td><td>0</td><td>0</td><td>0</td><td>0</td><td>0</td><td>0</td><td>0</td><td>11.285714</td><td>1</td><td>0</td><td>0</td><td>0</td><td>0</td><td>0</td><td>0</td><td>0</td><td>0</td><td>2</td><td>14.1</td></tr><tr><td>1</td><td>0</td><td>0</td><td>0</td><td>0</td><td>0</td><td>0</td><td>0</td><td>0</td><td>0</td><td>0</td><td>1</td><td>0</td><td>0</td><td>0</td><td>0</td><td>0</td><td>0</td><td>159</td><td>5</td><td>171</td><td>1</td><td>1</td><td>0</td><td>0</td><td>0</td><td>0</td><td>0</td><td>0</td><td>0</td><td>0</td><td>0</td><td>11.357143</td><td>1</td><td>0</td><td>0</td><td>0</td><td>0</td><td>0</td><td>0</td><td>0</td><td>0</td><td>2</td><td>14.2</td></tr><tr><td>1</td><td>0</td><td>0</td><td>0</td><td>0</td><td>0</td><td>0</td><td>0</td><td>0</td><td>0</td><td>0</td><td>1</td><td>0</td><td>0</td><td>0</td><td>0</td><td>0</td><td>0</td><td>160</td><td>5</td><td>171</td><td>1</td><td>1</td><td>0</td><td>0</td><td>0</td><td>0</td><td>0</td><td>0</td><td>0</td><td>0</td><td>0</td><td>11.428571</td><td>1</td><td>0</td><td>0</td><td>0</td><td>0</td><td>0</td><td>0</td><td>0</td><td>0</td><td>2</td><td>14.3</td></tr><tr><td>1</td><td>0</td><td>0</td><td>0</td><td>0</td><td>0</td><td>0</td><td>0</td><td>0</td><td>0</td><td>0</td><td>1</td><td>0</td><td>0</td><td>0</td><td>0</td><td>0</td><td>0</td><td>161</td><td>5</td><td>171</td><td>1</td><td>1</td><td>0</td><td>0</td><td>0</td><td>0</td><td>0</td><td>0</td><td>0</td><td>0</td><td>0</td><td>11.5</td><td>1</td><td>0</td><td>0</td><td>0</td><td>0</td><td>0</td><td>0</td><td>0</td><td>0</td><td>2</td><td>14.4</td></tr><tr><td>1</td><td>0</td><td>0</td><td>0</td><td>0</td><td>0</td><td>0</td><td>0</td><td>0</td><td>0</td><td>0</td><td>1</td><td>0</td><td>0</td><td>0</td><td>0</td><td>0</td><td>0</td><td>167</td><td>5</td><td>171</td><td>1</td><td>1</td><td>0</td><td>0</td><td>0</td><td>0</td><td>0</td><td>0</td><td>0</td><td>0</td><td>0</td><td>11.928571</td><td>1</td><td>0</td><td>0</td><td>0</td><td>0</td><td>0</td><td>0</td><td>0</td><td>0</td><td>2</td><td>14.5</td></tr><tr><td>1</td><td>0</td><td>0</td><td>0</td><td>0</td><td>0</td><td>0</td><td>0</td><td>0</td><td>0</td><td>0</td><td>1</td><td>0</td><td>0</td><td>0</td><td>0</td><td>0</td><td>0</td><td>171</td><td>5</td><td>171</td><td>1</td><td>1</td><td>0</td><td>0</td><td>0</td><td>0</td><td>0</td><td>0</td><td>0</td><td>0</td><td>0</td><td>12.214286</td><td>1</td><td>0</td><td>0</td><td>0</td><td>0</td><td>0</td><td>0</td><td>0</td><td>0</td><td>2</td><td>14.6</td></tr></tbody></table></div>"
      ],
      "text/plain": [
       "shape: (9_530, 44)\n",
       "┌────────────┬────────────┬────────────┬────────────┬───┬────────────┬────────────┬────────┬───────┐\n",
       "│ batting_te ┆ batting_te ┆ batting_te ┆ batting_te ┆ … ┆ toss_winne ┆ toss_winne ┆ inning ┆ balls │\n",
       "│ am_Chennai ┆ am_Delhi   ┆ am_Gujarat ┆ am_Kings   ┆   ┆ r_Royal    ┆ r_Sunriser ┆ ---    ┆ ---   │\n",
       "│ Super      ┆ Capitals   ┆ Lions      ┆ XI Punjab  ┆   ┆ Challenger ┆ s          ┆ i64    ┆ f64   │\n",
       "│ Kings      ┆ ---        ┆ ---        ┆ ---        ┆   ┆ s Ba…      ┆ Hyderabad  ┆        ┆       │\n",
       "│ ---        ┆ u8         ┆ u8         ┆ u8         ┆   ┆ ---        ┆ ---        ┆        ┆       │\n",
       "│ u8         ┆            ┆            ┆            ┆   ┆ u8         ┆ u8         ┆        ┆       │\n",
       "╞════════════╪════════════╪════════════╪════════════╪═══╪════════════╪════════════╪════════╪═══════╡\n",
       "│ 1          ┆ 0          ┆ 0          ┆ 0          ┆ … ┆ 0          ┆ 0          ┆ 1      ┆ 6.1   │\n",
       "│ 1          ┆ 0          ┆ 0          ┆ 0          ┆ … ┆ 0          ┆ 0          ┆ 1      ┆ 6.2   │\n",
       "│ 1          ┆ 0          ┆ 0          ┆ 0          ┆ … ┆ 0          ┆ 0          ┆ 1      ┆ 6.3   │\n",
       "│ 1          ┆ 0          ┆ 0          ┆ 0          ┆ … ┆ 0          ┆ 0          ┆ 1      ┆ 6.4   │\n",
       "│ …          ┆ …          ┆ …          ┆ …          ┆ … ┆ …          ┆ …          ┆ …      ┆ …     │\n",
       "│ 1          ┆ 0          ┆ 0          ┆ 0          ┆ … ┆ 0          ┆ 0          ┆ 2      ┆ 14.3  │\n",
       "│ 1          ┆ 0          ┆ 0          ┆ 0          ┆ … ┆ 0          ┆ 0          ┆ 2      ┆ 14.4  │\n",
       "│ 1          ┆ 0          ┆ 0          ┆ 0          ┆ … ┆ 0          ┆ 0          ┆ 2      ┆ 14.5  │\n",
       "│ 1          ┆ 0          ┆ 0          ┆ 0          ┆ … ┆ 0          ┆ 0          ┆ 2      ┆ 14.6  │\n",
       "└────────────┴────────────┴────────────┴────────────┴───┴────────────┴────────────┴────────┴───────┘"
      ]
     },
     "execution_count": 26,
     "metadata": {},
     "output_type": "execute_result"
    }
   ],
   "source": [
    "deliveries=deliveries.to_dummies([\"batting_team\",\"bowling_team\",\"city\",\"toss_winner\"])\n",
    "deliveries"
   ]
  },
  {
   "cell_type": "code",
   "execution_count": 27,
   "metadata": {},
   "outputs": [
    {
     "data": {
      "text/html": [
       "<div><style>\n",
       ".dataframe > thead > tr > th,\n",
       ".dataframe > tbody > tr > td {\n",
       "  text-align: right;\n",
       "}\n",
       "</style>\n",
       "<small>shape: (9_530, 49)</small><table border=\"1\" class=\"dataframe\"><thead><tr><th>batting_team_Chennai Super Kings</th><th>batting_team_Delhi Capitals</th><th>batting_team_Gujarat Lions</th><th>batting_team_Kings XI Punjab</th><th>batting_team_Kolkata Knight Riders</th><th>batting_team_Mumbai Indians</th><th>batting_team_Rajasthan Royals</th><th>batting_team_Royal Challengers Bangalore</th><th>batting_team_Sunrisers Hyderabad</th><th>bowling_team_Chennai Super Kings</th><th>bowling_team_Delhi Capitals</th><th>bowling_team_Gujarat Lions</th><th>bowling_team_Kings XI Punjab</th><th>bowling_team_Kolkata Knight Riders</th><th>bowling_team_Mumbai Indians</th><th>bowling_team_Rajasthan Royals</th><th>bowling_team_Royal Challengers Bangalore</th><th>bowling_team_Sunrisers Hyderabad</th><th>current_runs</th><th>wickets</th><th>final_runs</th><th>toss_decision</th><th>city_Ahmedabad</th><th>city_Bangalore</th><th>city_Chandigarh</th><th>city_Chennai</th><th>city_Delhi</th><th>city_Dharamsala</th><th>city_Hyderabad</th><th>city_Jaipur</th><th>city_Kolkata</th><th>city_Mumbai</th><th>current_run_rate</th><th>toss_winner_Chennai Super Kings</th><th>toss_winner_Delhi Capitals</th><th>toss_winner_Gujarat Lions</th><th>toss_winner_Kings XI Punjab</th><th>toss_winner_Kolkata Knight Riders</th><th>toss_winner_Mumbai Indians</th><th>toss_winner_Rajasthan Royals</th><th>toss_winner_Royal Challengers Bangalore</th><th>toss_winner_Sunrisers Hyderabad</th><th>inning</th><th>balls</th><th>batting_team_Pune Warriors</th><th>bowling_team_Pune Warriors</th><th>city_Mohali</th><th>city_Pune</th><th>toss_winner_Pune Warriors</th></tr><tr><td>u8</td><td>u8</td><td>u8</td><td>u8</td><td>u8</td><td>u8</td><td>u8</td><td>u8</td><td>u8</td><td>u8</td><td>u8</td><td>u8</td><td>u8</td><td>u8</td><td>u8</td><td>u8</td><td>u8</td><td>u8</td><td>i64</td><td>i64</td><td>i64</td><td>i64</td><td>u8</td><td>u8</td><td>u8</td><td>u8</td><td>u8</td><td>u8</td><td>u8</td><td>u8</td><td>u8</td><td>u8</td><td>f64</td><td>u8</td><td>u8</td><td>u8</td><td>u8</td><td>u8</td><td>u8</td><td>u8</td><td>u8</td><td>u8</td><td>i64</td><td>f64</td><td>f64</td><td>f64</td><td>f64</td><td>f64</td><td>f64</td></tr></thead><tbody><tr><td>1</td><td>0</td><td>0</td><td>0</td><td>0</td><td>0</td><td>0</td><td>0</td><td>0</td><td>0</td><td>0</td><td>1</td><td>0</td><td>0</td><td>0</td><td>0</td><td>0</td><td>0</td><td>51</td><td>2</td><td>178</td><td>1</td><td>1</td><td>0</td><td>0</td><td>0</td><td>0</td><td>0</td><td>0</td><td>0</td><td>0</td><td>0</td><td>8.5</td><td>0</td><td>0</td><td>1</td><td>0</td><td>0</td><td>0</td><td>0</td><td>0</td><td>0</td><td>1</td><td>6.1</td><td>0.0</td><td>0.0</td><td>0.0</td><td>0.0</td><td>0.0</td></tr><tr><td>1</td><td>0</td><td>0</td><td>0</td><td>0</td><td>0</td><td>0</td><td>0</td><td>0</td><td>0</td><td>0</td><td>1</td><td>0</td><td>0</td><td>0</td><td>0</td><td>0</td><td>0</td><td>52</td><td>2</td><td>178</td><td>1</td><td>1</td><td>0</td><td>0</td><td>0</td><td>0</td><td>0</td><td>0</td><td>0</td><td>0</td><td>0</td><td>8.666667</td><td>0</td><td>0</td><td>1</td><td>0</td><td>0</td><td>0</td><td>0</td><td>0</td><td>0</td><td>1</td><td>6.2</td><td>0.0</td><td>0.0</td><td>0.0</td><td>0.0</td><td>0.0</td></tr><tr><td>1</td><td>0</td><td>0</td><td>0</td><td>0</td><td>0</td><td>0</td><td>0</td><td>0</td><td>0</td><td>0</td><td>1</td><td>0</td><td>0</td><td>0</td><td>0</td><td>0</td><td>0</td><td>58</td><td>2</td><td>178</td><td>1</td><td>1</td><td>0</td><td>0</td><td>0</td><td>0</td><td>0</td><td>0</td><td>0</td><td>0</td><td>0</td><td>9.666667</td><td>0</td><td>0</td><td>1</td><td>0</td><td>0</td><td>0</td><td>0</td><td>0</td><td>0</td><td>1</td><td>6.3</td><td>0.0</td><td>0.0</td><td>0.0</td><td>0.0</td><td>0.0</td></tr><tr><td>1</td><td>0</td><td>0</td><td>0</td><td>0</td><td>0</td><td>0</td><td>0</td><td>0</td><td>0</td><td>0</td><td>1</td><td>0</td><td>0</td><td>0</td><td>0</td><td>0</td><td>0</td><td>64</td><td>2</td><td>178</td><td>1</td><td>1</td><td>0</td><td>0</td><td>0</td><td>0</td><td>0</td><td>0</td><td>0</td><td>0</td><td>0</td><td>10.666667</td><td>0</td><td>0</td><td>1</td><td>0</td><td>0</td><td>0</td><td>0</td><td>0</td><td>0</td><td>1</td><td>6.4</td><td>0.0</td><td>0.0</td><td>0.0</td><td>0.0</td><td>0.0</td></tr><tr><td>1</td><td>0</td><td>0</td><td>0</td><td>0</td><td>0</td><td>0</td><td>0</td><td>0</td><td>0</td><td>0</td><td>1</td><td>0</td><td>0</td><td>0</td><td>0</td><td>0</td><td>0</td><td>64</td><td>2</td><td>178</td><td>1</td><td>1</td><td>0</td><td>0</td><td>0</td><td>0</td><td>0</td><td>0</td><td>0</td><td>0</td><td>0</td><td>10.666667</td><td>0</td><td>0</td><td>1</td><td>0</td><td>0</td><td>0</td><td>0</td><td>0</td><td>0</td><td>1</td><td>6.5</td><td>0.0</td><td>0.0</td><td>0.0</td><td>0.0</td><td>0.0</td></tr><tr><td>1</td><td>0</td><td>0</td><td>0</td><td>0</td><td>0</td><td>0</td><td>0</td><td>0</td><td>0</td><td>0</td><td>1</td><td>0</td><td>0</td><td>0</td><td>0</td><td>0</td><td>0</td><td>64</td><td>2</td><td>178</td><td>1</td><td>1</td><td>0</td><td>0</td><td>0</td><td>0</td><td>0</td><td>0</td><td>0</td><td>0</td><td>0</td><td>10.666667</td><td>0</td><td>0</td><td>1</td><td>0</td><td>0</td><td>0</td><td>0</td><td>0</td><td>0</td><td>1</td><td>6.6</td><td>0.0</td><td>0.0</td><td>0.0</td><td>0.0</td><td>0.0</td></tr><tr><td>1</td><td>0</td><td>0</td><td>0</td><td>0</td><td>0</td><td>0</td><td>0</td><td>0</td><td>0</td><td>0</td><td>1</td><td>0</td><td>0</td><td>0</td><td>0</td><td>0</td><td>0</td><td>65</td><td>2</td><td>178</td><td>1</td><td>1</td><td>0</td><td>0</td><td>0</td><td>0</td><td>0</td><td>0</td><td>0</td><td>0</td><td>0</td><td>9.285714</td><td>0</td><td>0</td><td>1</td><td>0</td><td>0</td><td>0</td><td>0</td><td>0</td><td>0</td><td>1</td><td>7.1</td><td>0.0</td><td>0.0</td><td>0.0</td><td>0.0</td><td>0.0</td></tr><tr><td>1</td><td>0</td><td>0</td><td>0</td><td>0</td><td>0</td><td>0</td><td>0</td><td>0</td><td>0</td><td>0</td><td>1</td><td>0</td><td>0</td><td>0</td><td>0</td><td>0</td><td>0</td><td>66</td><td>2</td><td>178</td><td>1</td><td>1</td><td>0</td><td>0</td><td>0</td><td>0</td><td>0</td><td>0</td><td>0</td><td>0</td><td>0</td><td>9.428571</td><td>0</td><td>0</td><td>1</td><td>0</td><td>0</td><td>0</td><td>0</td><td>0</td><td>0</td><td>1</td><td>7.2</td><td>0.0</td><td>0.0</td><td>0.0</td><td>0.0</td><td>0.0</td></tr><tr><td>1</td><td>0</td><td>0</td><td>0</td><td>0</td><td>0</td><td>0</td><td>0</td><td>0</td><td>0</td><td>0</td><td>1</td><td>0</td><td>0</td><td>0</td><td>0</td><td>0</td><td>0</td><td>70</td><td>2</td><td>178</td><td>1</td><td>1</td><td>0</td><td>0</td><td>0</td><td>0</td><td>0</td><td>0</td><td>0</td><td>0</td><td>0</td><td>10.0</td><td>0</td><td>0</td><td>1</td><td>0</td><td>0</td><td>0</td><td>0</td><td>0</td><td>0</td><td>1</td><td>7.3</td><td>0.0</td><td>0.0</td><td>0.0</td><td>0.0</td><td>0.0</td></tr><tr><td>1</td><td>0</td><td>0</td><td>0</td><td>0</td><td>0</td><td>0</td><td>0</td><td>0</td><td>0</td><td>0</td><td>1</td><td>0</td><td>0</td><td>0</td><td>0</td><td>0</td><td>0</td><td>70</td><td>3</td><td>178</td><td>1</td><td>1</td><td>0</td><td>0</td><td>0</td><td>0</td><td>0</td><td>0</td><td>0</td><td>0</td><td>0</td><td>10.0</td><td>0</td><td>0</td><td>1</td><td>0</td><td>0</td><td>0</td><td>0</td><td>0</td><td>0</td><td>1</td><td>7.4</td><td>0.0</td><td>0.0</td><td>0.0</td><td>0.0</td><td>0.0</td></tr><tr><td>1</td><td>0</td><td>0</td><td>0</td><td>0</td><td>0</td><td>0</td><td>0</td><td>0</td><td>0</td><td>0</td><td>1</td><td>0</td><td>0</td><td>0</td><td>0</td><td>0</td><td>0</td><td>71</td><td>3</td><td>178</td><td>1</td><td>1</td><td>0</td><td>0</td><td>0</td><td>0</td><td>0</td><td>0</td><td>0</td><td>0</td><td>0</td><td>10.142857</td><td>0</td><td>0</td><td>1</td><td>0</td><td>0</td><td>0</td><td>0</td><td>0</td><td>0</td><td>1</td><td>7.5</td><td>0.0</td><td>0.0</td><td>0.0</td><td>0.0</td><td>0.0</td></tr><tr><td>1</td><td>0</td><td>0</td><td>0</td><td>0</td><td>0</td><td>0</td><td>0</td><td>0</td><td>0</td><td>0</td><td>1</td><td>0</td><td>0</td><td>0</td><td>0</td><td>0</td><td>0</td><td>72</td><td>3</td><td>178</td><td>1</td><td>1</td><td>0</td><td>0</td><td>0</td><td>0</td><td>0</td><td>0</td><td>0</td><td>0</td><td>0</td><td>10.285714</td><td>0</td><td>0</td><td>1</td><td>0</td><td>0</td><td>0</td><td>0</td><td>0</td><td>0</td><td>1</td><td>7.6</td><td>0.0</td><td>0.0</td><td>0.0</td><td>0.0</td><td>0.0</td></tr><tr><td>&hellip;</td><td>&hellip;</td><td>&hellip;</td><td>&hellip;</td><td>&hellip;</td><td>&hellip;</td><td>&hellip;</td><td>&hellip;</td><td>&hellip;</td><td>&hellip;</td><td>&hellip;</td><td>&hellip;</td><td>&hellip;</td><td>&hellip;</td><td>&hellip;</td><td>&hellip;</td><td>&hellip;</td><td>&hellip;</td><td>&hellip;</td><td>&hellip;</td><td>&hellip;</td><td>&hellip;</td><td>&hellip;</td><td>&hellip;</td><td>&hellip;</td><td>&hellip;</td><td>&hellip;</td><td>&hellip;</td><td>&hellip;</td><td>&hellip;</td><td>&hellip;</td><td>&hellip;</td><td>&hellip;</td><td>&hellip;</td><td>&hellip;</td><td>&hellip;</td><td>&hellip;</td><td>&hellip;</td><td>&hellip;</td><td>&hellip;</td><td>&hellip;</td><td>&hellip;</td><td>&hellip;</td><td>&hellip;</td><td>&hellip;</td><td>&hellip;</td><td>&hellip;</td><td>&hellip;</td><td>&hellip;</td></tr><tr><td>1</td><td>0</td><td>0</td><td>0</td><td>0</td><td>0</td><td>0</td><td>0</td><td>0</td><td>0</td><td>0</td><td>1</td><td>0</td><td>0</td><td>0</td><td>0</td><td>0</td><td>0</td><td>151</td><td>5</td><td>171</td><td>1</td><td>1</td><td>0</td><td>0</td><td>0</td><td>0</td><td>0</td><td>0</td><td>0</td><td>0</td><td>0</td><td>11.615385</td><td>1</td><td>0</td><td>0</td><td>0</td><td>0</td><td>0</td><td>0</td><td>0</td><td>0</td><td>2</td><td>13.1</td><td>0.0</td><td>0.0</td><td>0.0</td><td>0.0</td><td>0.0</td></tr><tr><td>1</td><td>0</td><td>0</td><td>0</td><td>0</td><td>0</td><td>0</td><td>0</td><td>0</td><td>0</td><td>0</td><td>1</td><td>0</td><td>0</td><td>0</td><td>0</td><td>0</td><td>0</td><td>151</td><td>5</td><td>171</td><td>1</td><td>1</td><td>0</td><td>0</td><td>0</td><td>0</td><td>0</td><td>0</td><td>0</td><td>0</td><td>0</td><td>11.615385</td><td>1</td><td>0</td><td>0</td><td>0</td><td>0</td><td>0</td><td>0</td><td>0</td><td>0</td><td>2</td><td>13.2</td><td>0.0</td><td>0.0</td><td>0.0</td><td>0.0</td><td>0.0</td></tr><tr><td>1</td><td>0</td><td>0</td><td>0</td><td>0</td><td>0</td><td>0</td><td>0</td><td>0</td><td>0</td><td>0</td><td>1</td><td>0</td><td>0</td><td>0</td><td>0</td><td>0</td><td>0</td><td>153</td><td>5</td><td>171</td><td>1</td><td>1</td><td>0</td><td>0</td><td>0</td><td>0</td><td>0</td><td>0</td><td>0</td><td>0</td><td>0</td><td>11.769231</td><td>1</td><td>0</td><td>0</td><td>0</td><td>0</td><td>0</td><td>0</td><td>0</td><td>0</td><td>2</td><td>13.3</td><td>0.0</td><td>0.0</td><td>0.0</td><td>0.0</td><td>0.0</td></tr><tr><td>1</td><td>0</td><td>0</td><td>0</td><td>0</td><td>0</td><td>0</td><td>0</td><td>0</td><td>0</td><td>0</td><td>1</td><td>0</td><td>0</td><td>0</td><td>0</td><td>0</td><td>0</td><td>155</td><td>5</td><td>171</td><td>1</td><td>1</td><td>0</td><td>0</td><td>0</td><td>0</td><td>0</td><td>0</td><td>0</td><td>0</td><td>0</td><td>11.923077</td><td>1</td><td>0</td><td>0</td><td>0</td><td>0</td><td>0</td><td>0</td><td>0</td><td>0</td><td>2</td><td>13.4</td><td>0.0</td><td>0.0</td><td>0.0</td><td>0.0</td><td>0.0</td></tr><tr><td>1</td><td>0</td><td>0</td><td>0</td><td>0</td><td>0</td><td>0</td><td>0</td><td>0</td><td>0</td><td>0</td><td>1</td><td>0</td><td>0</td><td>0</td><td>0</td><td>0</td><td>0</td><td>156</td><td>5</td><td>171</td><td>1</td><td>1</td><td>0</td><td>0</td><td>0</td><td>0</td><td>0</td><td>0</td><td>0</td><td>0</td><td>0</td><td>12.0</td><td>1</td><td>0</td><td>0</td><td>0</td><td>0</td><td>0</td><td>0</td><td>0</td><td>0</td><td>2</td><td>13.5</td><td>0.0</td><td>0.0</td><td>0.0</td><td>0.0</td><td>0.0</td></tr><tr><td>1</td><td>0</td><td>0</td><td>0</td><td>0</td><td>0</td><td>0</td><td>0</td><td>0</td><td>0</td><td>0</td><td>1</td><td>0</td><td>0</td><td>0</td><td>0</td><td>0</td><td>0</td><td>158</td><td>5</td><td>171</td><td>1</td><td>1</td><td>0</td><td>0</td><td>0</td><td>0</td><td>0</td><td>0</td><td>0</td><td>0</td><td>0</td><td>12.153846</td><td>1</td><td>0</td><td>0</td><td>0</td><td>0</td><td>0</td><td>0</td><td>0</td><td>0</td><td>2</td><td>13.6</td><td>0.0</td><td>0.0</td><td>0.0</td><td>0.0</td><td>0.0</td></tr><tr><td>1</td><td>0</td><td>0</td><td>0</td><td>0</td><td>0</td><td>0</td><td>0</td><td>0</td><td>0</td><td>0</td><td>1</td><td>0</td><td>0</td><td>0</td><td>0</td><td>0</td><td>0</td><td>158</td><td>5</td><td>171</td><td>1</td><td>1</td><td>0</td><td>0</td><td>0</td><td>0</td><td>0</td><td>0</td><td>0</td><td>0</td><td>0</td><td>11.285714</td><td>1</td><td>0</td><td>0</td><td>0</td><td>0</td><td>0</td><td>0</td><td>0</td><td>0</td><td>2</td><td>14.1</td><td>0.0</td><td>0.0</td><td>0.0</td><td>0.0</td><td>0.0</td></tr><tr><td>1</td><td>0</td><td>0</td><td>0</td><td>0</td><td>0</td><td>0</td><td>0</td><td>0</td><td>0</td><td>0</td><td>1</td><td>0</td><td>0</td><td>0</td><td>0</td><td>0</td><td>0</td><td>159</td><td>5</td><td>171</td><td>1</td><td>1</td><td>0</td><td>0</td><td>0</td><td>0</td><td>0</td><td>0</td><td>0</td><td>0</td><td>0</td><td>11.357143</td><td>1</td><td>0</td><td>0</td><td>0</td><td>0</td><td>0</td><td>0</td><td>0</td><td>0</td><td>2</td><td>14.2</td><td>0.0</td><td>0.0</td><td>0.0</td><td>0.0</td><td>0.0</td></tr><tr><td>1</td><td>0</td><td>0</td><td>0</td><td>0</td><td>0</td><td>0</td><td>0</td><td>0</td><td>0</td><td>0</td><td>1</td><td>0</td><td>0</td><td>0</td><td>0</td><td>0</td><td>0</td><td>160</td><td>5</td><td>171</td><td>1</td><td>1</td><td>0</td><td>0</td><td>0</td><td>0</td><td>0</td><td>0</td><td>0</td><td>0</td><td>0</td><td>11.428571</td><td>1</td><td>0</td><td>0</td><td>0</td><td>0</td><td>0</td><td>0</td><td>0</td><td>0</td><td>2</td><td>14.3</td><td>0.0</td><td>0.0</td><td>0.0</td><td>0.0</td><td>0.0</td></tr><tr><td>1</td><td>0</td><td>0</td><td>0</td><td>0</td><td>0</td><td>0</td><td>0</td><td>0</td><td>0</td><td>0</td><td>1</td><td>0</td><td>0</td><td>0</td><td>0</td><td>0</td><td>0</td><td>161</td><td>5</td><td>171</td><td>1</td><td>1</td><td>0</td><td>0</td><td>0</td><td>0</td><td>0</td><td>0</td><td>0</td><td>0</td><td>0</td><td>11.5</td><td>1</td><td>0</td><td>0</td><td>0</td><td>0</td><td>0</td><td>0</td><td>0</td><td>0</td><td>2</td><td>14.4</td><td>0.0</td><td>0.0</td><td>0.0</td><td>0.0</td><td>0.0</td></tr><tr><td>1</td><td>0</td><td>0</td><td>0</td><td>0</td><td>0</td><td>0</td><td>0</td><td>0</td><td>0</td><td>0</td><td>1</td><td>0</td><td>0</td><td>0</td><td>0</td><td>0</td><td>0</td><td>167</td><td>5</td><td>171</td><td>1</td><td>1</td><td>0</td><td>0</td><td>0</td><td>0</td><td>0</td><td>0</td><td>0</td><td>0</td><td>0</td><td>11.928571</td><td>1</td><td>0</td><td>0</td><td>0</td><td>0</td><td>0</td><td>0</td><td>0</td><td>0</td><td>2</td><td>14.5</td><td>0.0</td><td>0.0</td><td>0.0</td><td>0.0</td><td>0.0</td></tr><tr><td>1</td><td>0</td><td>0</td><td>0</td><td>0</td><td>0</td><td>0</td><td>0</td><td>0</td><td>0</td><td>0</td><td>1</td><td>0</td><td>0</td><td>0</td><td>0</td><td>0</td><td>0</td><td>171</td><td>5</td><td>171</td><td>1</td><td>1</td><td>0</td><td>0</td><td>0</td><td>0</td><td>0</td><td>0</td><td>0</td><td>0</td><td>0</td><td>12.214286</td><td>1</td><td>0</td><td>0</td><td>0</td><td>0</td><td>0</td><td>0</td><td>0</td><td>0</td><td>2</td><td>14.6</td><td>0.0</td><td>0.0</td><td>0.0</td><td>0.0</td><td>0.0</td></tr></tbody></table></div>"
      ],
      "text/plain": [
       "shape: (9_530, 49)\n",
       "┌────────────┬────────────┬────────────┬────────────┬───┬────────────┬───────────┬─────────┬────────────┐\n",
       "│ batting_te ┆ batting_te ┆ batting_te ┆ batting_te ┆ … ┆ bowling_te ┆ city_Moha ┆ city_Pu ┆ toss_winne │\n",
       "│ am_Chennai ┆ am_Delhi   ┆ am_Gujarat ┆ am_Kings   ┆   ┆ am_Pune    ┆ li        ┆ ne      ┆ r_Pune     │\n",
       "│ Super      ┆ Capitals   ┆ Lions      ┆ XI Punjab  ┆   ┆ Warriors   ┆ ---       ┆ ---     ┆ Warriors   │\n",
       "│ Kings      ┆ ---        ┆ ---        ┆ ---        ┆   ┆ ---        ┆ f64       ┆ f64     ┆ ---        │\n",
       "│ ---        ┆ u8         ┆ u8         ┆ u8         ┆   ┆ f64        ┆           ┆         ┆ f64        │\n",
       "│ u8         ┆            ┆            ┆            ┆   ┆            ┆           ┆         ┆            │\n",
       "╞════════════╪════════════╪════════════╪════════════╪═══╪════════════╪═══════════╪═════════╪════════════╡\n",
       "│ 1          ┆ 0          ┆ 0          ┆ 0          ┆ … ┆ 0.0        ┆ 0.0       ┆ 0.0     ┆ 0.0        │\n",
       "│ 1          ┆ 0          ┆ 0          ┆ 0          ┆ … ┆ 0.0        ┆ 0.0       ┆ 0.0     ┆ 0.0        │\n",
       "│ 1          ┆ 0          ┆ 0          ┆ 0          ┆ … ┆ 0.0        ┆ 0.0       ┆ 0.0     ┆ 0.0        │\n",
       "│ 1          ┆ 0          ┆ 0          ┆ 0          ┆ … ┆ 0.0        ┆ 0.0       ┆ 0.0     ┆ 0.0        │\n",
       "│ …          ┆ …          ┆ …          ┆ …          ┆ … ┆ …          ┆ …         ┆ …       ┆ …          │\n",
       "│ 1          ┆ 0          ┆ 0          ┆ 0          ┆ … ┆ 0.0        ┆ 0.0       ┆ 0.0     ┆ 0.0        │\n",
       "│ 1          ┆ 0          ┆ 0          ┆ 0          ┆ … ┆ 0.0        ┆ 0.0       ┆ 0.0     ┆ 0.0        │\n",
       "│ 1          ┆ 0          ┆ 0          ┆ 0          ┆ … ┆ 0.0        ┆ 0.0       ┆ 0.0     ┆ 0.0        │\n",
       "│ 1          ┆ 0          ┆ 0          ┆ 0          ┆ … ┆ 0.0        ┆ 0.0       ┆ 0.0     ┆ 0.0        │\n",
       "└────────────┴────────────┴────────────┴────────────┴───┴────────────┴───────────┴─────────┴────────────┘"
      ]
     },
     "execution_count": 27,
     "metadata": {},
     "output_type": "execute_result"
    }
   ],
   "source": [
    "deliveries=deliveries.with_columns((pl.Series(name=\"batting_team_Pune Warriors\", values=np.zeros(shape=(1)))),\n",
    "                        (pl.Series(name=\"bowling_team_Pune Warriors\", values=np.zeros(shape=(1)))),\n",
    "                        (pl.Series(name=\"city_Mohali\", values=np.zeros(shape=(1)))),\n",
    "                        (pl.Series(name=\"city_Pune\", values=np.zeros(shape=(1)))),\n",
    "                        (pl.Series(name=\"toss_winner_Pune Warriors\", values=np.zeros(shape=(1))))\n",
    ")\n",
    "deliveries"
   ]
  },
  {
   "cell_type": "code",
   "execution_count": 28,
   "metadata": {},
   "outputs": [
    {
     "data": {
      "text/html": [
       "<div><style>\n",
       ".dataframe > thead > tr > th,\n",
       ".dataframe > tbody > tr > td {\n",
       "  text-align: right;\n",
       "}\n",
       "</style>\n",
       "<small>shape: (9_530, 49)</small><table border=\"1\" class=\"dataframe\"><thead><tr><th>inning</th><th>batting_team_Chennai Super Kings</th><th>batting_team_Delhi Capitals</th><th>batting_team_Gujarat Lions</th><th>batting_team_Kings XI Punjab</th><th>batting_team_Kolkata Knight Riders</th><th>batting_team_Mumbai Indians</th><th>batting_team_Pune Warriors</th><th>batting_team_Rajasthan Royals</th><th>batting_team_Royal Challengers Bangalore</th><th>batting_team_Sunrisers Hyderabad</th><th>bowling_team_Chennai Super Kings</th><th>bowling_team_Delhi Capitals</th><th>bowling_team_Gujarat Lions</th><th>bowling_team_Kings XI Punjab</th><th>bowling_team_Kolkata Knight Riders</th><th>bowling_team_Mumbai Indians</th><th>bowling_team_Pune Warriors</th><th>bowling_team_Rajasthan Royals</th><th>bowling_team_Royal Challengers Bangalore</th><th>bowling_team_Sunrisers Hyderabad</th><th>final_runs</th><th>city_Ahmedabad</th><th>city_Bangalore</th><th>city_Chandigarh</th><th>city_Chennai</th><th>city_Delhi</th><th>city_Dharamsala</th><th>city_Hyderabad</th><th>city_Jaipur</th><th>city_Kolkata</th><th>city_Mohali</th><th>city_Mumbai</th><th>city_Pune</th><th>toss_winner_Chennai Super Kings</th><th>toss_winner_Delhi Capitals</th><th>toss_winner_Gujarat Lions</th><th>toss_winner_Kings XI Punjab</th><th>toss_winner_Kolkata Knight Riders</th><th>toss_winner_Mumbai Indians</th><th>toss_winner_Pune Warriors</th><th>toss_winner_Rajasthan Royals</th><th>toss_winner_Royal Challengers Bangalore</th><th>toss_winner_Sunrisers Hyderabad</th><th>toss_decision</th><th>balls</th><th>current_runs</th><th>wickets</th><th>current_run_rate</th></tr><tr><td>i64</td><td>u8</td><td>u8</td><td>u8</td><td>u8</td><td>u8</td><td>u8</td><td>f64</td><td>u8</td><td>u8</td><td>u8</td><td>u8</td><td>u8</td><td>u8</td><td>u8</td><td>u8</td><td>u8</td><td>f64</td><td>u8</td><td>u8</td><td>u8</td><td>i64</td><td>u8</td><td>u8</td><td>u8</td><td>u8</td><td>u8</td><td>u8</td><td>u8</td><td>u8</td><td>u8</td><td>f64</td><td>u8</td><td>f64</td><td>u8</td><td>u8</td><td>u8</td><td>u8</td><td>u8</td><td>u8</td><td>f64</td><td>u8</td><td>u8</td><td>u8</td><td>i64</td><td>f64</td><td>i64</td><td>i64</td><td>f64</td></tr></thead><tbody><tr><td>1</td><td>1</td><td>0</td><td>0</td><td>0</td><td>0</td><td>0</td><td>0.0</td><td>0</td><td>0</td><td>0</td><td>0</td><td>0</td><td>1</td><td>0</td><td>0</td><td>0</td><td>0.0</td><td>0</td><td>0</td><td>0</td><td>178</td><td>1</td><td>0</td><td>0</td><td>0</td><td>0</td><td>0</td><td>0</td><td>0</td><td>0</td><td>0.0</td><td>0</td><td>0.0</td><td>0</td><td>0</td><td>1</td><td>0</td><td>0</td><td>0</td><td>0.0</td><td>0</td><td>0</td><td>0</td><td>1</td><td>6.1</td><td>51</td><td>2</td><td>8.5</td></tr><tr><td>1</td><td>1</td><td>0</td><td>0</td><td>0</td><td>0</td><td>0</td><td>0.0</td><td>0</td><td>0</td><td>0</td><td>0</td><td>0</td><td>1</td><td>0</td><td>0</td><td>0</td><td>0.0</td><td>0</td><td>0</td><td>0</td><td>178</td><td>1</td><td>0</td><td>0</td><td>0</td><td>0</td><td>0</td><td>0</td><td>0</td><td>0</td><td>0.0</td><td>0</td><td>0.0</td><td>0</td><td>0</td><td>1</td><td>0</td><td>0</td><td>0</td><td>0.0</td><td>0</td><td>0</td><td>0</td><td>1</td><td>6.2</td><td>52</td><td>2</td><td>8.666667</td></tr><tr><td>1</td><td>1</td><td>0</td><td>0</td><td>0</td><td>0</td><td>0</td><td>0.0</td><td>0</td><td>0</td><td>0</td><td>0</td><td>0</td><td>1</td><td>0</td><td>0</td><td>0</td><td>0.0</td><td>0</td><td>0</td><td>0</td><td>178</td><td>1</td><td>0</td><td>0</td><td>0</td><td>0</td><td>0</td><td>0</td><td>0</td><td>0</td><td>0.0</td><td>0</td><td>0.0</td><td>0</td><td>0</td><td>1</td><td>0</td><td>0</td><td>0</td><td>0.0</td><td>0</td><td>0</td><td>0</td><td>1</td><td>6.3</td><td>58</td><td>2</td><td>9.666667</td></tr><tr><td>1</td><td>1</td><td>0</td><td>0</td><td>0</td><td>0</td><td>0</td><td>0.0</td><td>0</td><td>0</td><td>0</td><td>0</td><td>0</td><td>1</td><td>0</td><td>0</td><td>0</td><td>0.0</td><td>0</td><td>0</td><td>0</td><td>178</td><td>1</td><td>0</td><td>0</td><td>0</td><td>0</td><td>0</td><td>0</td><td>0</td><td>0</td><td>0.0</td><td>0</td><td>0.0</td><td>0</td><td>0</td><td>1</td><td>0</td><td>0</td><td>0</td><td>0.0</td><td>0</td><td>0</td><td>0</td><td>1</td><td>6.4</td><td>64</td><td>2</td><td>10.666667</td></tr><tr><td>1</td><td>1</td><td>0</td><td>0</td><td>0</td><td>0</td><td>0</td><td>0.0</td><td>0</td><td>0</td><td>0</td><td>0</td><td>0</td><td>1</td><td>0</td><td>0</td><td>0</td><td>0.0</td><td>0</td><td>0</td><td>0</td><td>178</td><td>1</td><td>0</td><td>0</td><td>0</td><td>0</td><td>0</td><td>0</td><td>0</td><td>0</td><td>0.0</td><td>0</td><td>0.0</td><td>0</td><td>0</td><td>1</td><td>0</td><td>0</td><td>0</td><td>0.0</td><td>0</td><td>0</td><td>0</td><td>1</td><td>6.5</td><td>64</td><td>2</td><td>10.666667</td></tr><tr><td>1</td><td>1</td><td>0</td><td>0</td><td>0</td><td>0</td><td>0</td><td>0.0</td><td>0</td><td>0</td><td>0</td><td>0</td><td>0</td><td>1</td><td>0</td><td>0</td><td>0</td><td>0.0</td><td>0</td><td>0</td><td>0</td><td>178</td><td>1</td><td>0</td><td>0</td><td>0</td><td>0</td><td>0</td><td>0</td><td>0</td><td>0</td><td>0.0</td><td>0</td><td>0.0</td><td>0</td><td>0</td><td>1</td><td>0</td><td>0</td><td>0</td><td>0.0</td><td>0</td><td>0</td><td>0</td><td>1</td><td>6.6</td><td>64</td><td>2</td><td>10.666667</td></tr><tr><td>1</td><td>1</td><td>0</td><td>0</td><td>0</td><td>0</td><td>0</td><td>0.0</td><td>0</td><td>0</td><td>0</td><td>0</td><td>0</td><td>1</td><td>0</td><td>0</td><td>0</td><td>0.0</td><td>0</td><td>0</td><td>0</td><td>178</td><td>1</td><td>0</td><td>0</td><td>0</td><td>0</td><td>0</td><td>0</td><td>0</td><td>0</td><td>0.0</td><td>0</td><td>0.0</td><td>0</td><td>0</td><td>1</td><td>0</td><td>0</td><td>0</td><td>0.0</td><td>0</td><td>0</td><td>0</td><td>1</td><td>7.1</td><td>65</td><td>2</td><td>9.285714</td></tr><tr><td>1</td><td>1</td><td>0</td><td>0</td><td>0</td><td>0</td><td>0</td><td>0.0</td><td>0</td><td>0</td><td>0</td><td>0</td><td>0</td><td>1</td><td>0</td><td>0</td><td>0</td><td>0.0</td><td>0</td><td>0</td><td>0</td><td>178</td><td>1</td><td>0</td><td>0</td><td>0</td><td>0</td><td>0</td><td>0</td><td>0</td><td>0</td><td>0.0</td><td>0</td><td>0.0</td><td>0</td><td>0</td><td>1</td><td>0</td><td>0</td><td>0</td><td>0.0</td><td>0</td><td>0</td><td>0</td><td>1</td><td>7.2</td><td>66</td><td>2</td><td>9.428571</td></tr><tr><td>1</td><td>1</td><td>0</td><td>0</td><td>0</td><td>0</td><td>0</td><td>0.0</td><td>0</td><td>0</td><td>0</td><td>0</td><td>0</td><td>1</td><td>0</td><td>0</td><td>0</td><td>0.0</td><td>0</td><td>0</td><td>0</td><td>178</td><td>1</td><td>0</td><td>0</td><td>0</td><td>0</td><td>0</td><td>0</td><td>0</td><td>0</td><td>0.0</td><td>0</td><td>0.0</td><td>0</td><td>0</td><td>1</td><td>0</td><td>0</td><td>0</td><td>0.0</td><td>0</td><td>0</td><td>0</td><td>1</td><td>7.3</td><td>70</td><td>2</td><td>10.0</td></tr><tr><td>1</td><td>1</td><td>0</td><td>0</td><td>0</td><td>0</td><td>0</td><td>0.0</td><td>0</td><td>0</td><td>0</td><td>0</td><td>0</td><td>1</td><td>0</td><td>0</td><td>0</td><td>0.0</td><td>0</td><td>0</td><td>0</td><td>178</td><td>1</td><td>0</td><td>0</td><td>0</td><td>0</td><td>0</td><td>0</td><td>0</td><td>0</td><td>0.0</td><td>0</td><td>0.0</td><td>0</td><td>0</td><td>1</td><td>0</td><td>0</td><td>0</td><td>0.0</td><td>0</td><td>0</td><td>0</td><td>1</td><td>7.4</td><td>70</td><td>3</td><td>10.0</td></tr><tr><td>1</td><td>1</td><td>0</td><td>0</td><td>0</td><td>0</td><td>0</td><td>0.0</td><td>0</td><td>0</td><td>0</td><td>0</td><td>0</td><td>1</td><td>0</td><td>0</td><td>0</td><td>0.0</td><td>0</td><td>0</td><td>0</td><td>178</td><td>1</td><td>0</td><td>0</td><td>0</td><td>0</td><td>0</td><td>0</td><td>0</td><td>0</td><td>0.0</td><td>0</td><td>0.0</td><td>0</td><td>0</td><td>1</td><td>0</td><td>0</td><td>0</td><td>0.0</td><td>0</td><td>0</td><td>0</td><td>1</td><td>7.5</td><td>71</td><td>3</td><td>10.142857</td></tr><tr><td>1</td><td>1</td><td>0</td><td>0</td><td>0</td><td>0</td><td>0</td><td>0.0</td><td>0</td><td>0</td><td>0</td><td>0</td><td>0</td><td>1</td><td>0</td><td>0</td><td>0</td><td>0.0</td><td>0</td><td>0</td><td>0</td><td>178</td><td>1</td><td>0</td><td>0</td><td>0</td><td>0</td><td>0</td><td>0</td><td>0</td><td>0</td><td>0.0</td><td>0</td><td>0.0</td><td>0</td><td>0</td><td>1</td><td>0</td><td>0</td><td>0</td><td>0.0</td><td>0</td><td>0</td><td>0</td><td>1</td><td>7.6</td><td>72</td><td>3</td><td>10.285714</td></tr><tr><td>&hellip;</td><td>&hellip;</td><td>&hellip;</td><td>&hellip;</td><td>&hellip;</td><td>&hellip;</td><td>&hellip;</td><td>&hellip;</td><td>&hellip;</td><td>&hellip;</td><td>&hellip;</td><td>&hellip;</td><td>&hellip;</td><td>&hellip;</td><td>&hellip;</td><td>&hellip;</td><td>&hellip;</td><td>&hellip;</td><td>&hellip;</td><td>&hellip;</td><td>&hellip;</td><td>&hellip;</td><td>&hellip;</td><td>&hellip;</td><td>&hellip;</td><td>&hellip;</td><td>&hellip;</td><td>&hellip;</td><td>&hellip;</td><td>&hellip;</td><td>&hellip;</td><td>&hellip;</td><td>&hellip;</td><td>&hellip;</td><td>&hellip;</td><td>&hellip;</td><td>&hellip;</td><td>&hellip;</td><td>&hellip;</td><td>&hellip;</td><td>&hellip;</td><td>&hellip;</td><td>&hellip;</td><td>&hellip;</td><td>&hellip;</td><td>&hellip;</td><td>&hellip;</td><td>&hellip;</td><td>&hellip;</td></tr><tr><td>2</td><td>1</td><td>0</td><td>0</td><td>0</td><td>0</td><td>0</td><td>0.0</td><td>0</td><td>0</td><td>0</td><td>0</td><td>0</td><td>1</td><td>0</td><td>0</td><td>0</td><td>0.0</td><td>0</td><td>0</td><td>0</td><td>171</td><td>1</td><td>0</td><td>0</td><td>0</td><td>0</td><td>0</td><td>0</td><td>0</td><td>0</td><td>0.0</td><td>0</td><td>0.0</td><td>1</td><td>0</td><td>0</td><td>0</td><td>0</td><td>0</td><td>0.0</td><td>0</td><td>0</td><td>0</td><td>1</td><td>13.1</td><td>151</td><td>5</td><td>11.615385</td></tr><tr><td>2</td><td>1</td><td>0</td><td>0</td><td>0</td><td>0</td><td>0</td><td>0.0</td><td>0</td><td>0</td><td>0</td><td>0</td><td>0</td><td>1</td><td>0</td><td>0</td><td>0</td><td>0.0</td><td>0</td><td>0</td><td>0</td><td>171</td><td>1</td><td>0</td><td>0</td><td>0</td><td>0</td><td>0</td><td>0</td><td>0</td><td>0</td><td>0.0</td><td>0</td><td>0.0</td><td>1</td><td>0</td><td>0</td><td>0</td><td>0</td><td>0</td><td>0.0</td><td>0</td><td>0</td><td>0</td><td>1</td><td>13.2</td><td>151</td><td>5</td><td>11.615385</td></tr><tr><td>2</td><td>1</td><td>0</td><td>0</td><td>0</td><td>0</td><td>0</td><td>0.0</td><td>0</td><td>0</td><td>0</td><td>0</td><td>0</td><td>1</td><td>0</td><td>0</td><td>0</td><td>0.0</td><td>0</td><td>0</td><td>0</td><td>171</td><td>1</td><td>0</td><td>0</td><td>0</td><td>0</td><td>0</td><td>0</td><td>0</td><td>0</td><td>0.0</td><td>0</td><td>0.0</td><td>1</td><td>0</td><td>0</td><td>0</td><td>0</td><td>0</td><td>0.0</td><td>0</td><td>0</td><td>0</td><td>1</td><td>13.3</td><td>153</td><td>5</td><td>11.769231</td></tr><tr><td>2</td><td>1</td><td>0</td><td>0</td><td>0</td><td>0</td><td>0</td><td>0.0</td><td>0</td><td>0</td><td>0</td><td>0</td><td>0</td><td>1</td><td>0</td><td>0</td><td>0</td><td>0.0</td><td>0</td><td>0</td><td>0</td><td>171</td><td>1</td><td>0</td><td>0</td><td>0</td><td>0</td><td>0</td><td>0</td><td>0</td><td>0</td><td>0.0</td><td>0</td><td>0.0</td><td>1</td><td>0</td><td>0</td><td>0</td><td>0</td><td>0</td><td>0.0</td><td>0</td><td>0</td><td>0</td><td>1</td><td>13.4</td><td>155</td><td>5</td><td>11.923077</td></tr><tr><td>2</td><td>1</td><td>0</td><td>0</td><td>0</td><td>0</td><td>0</td><td>0.0</td><td>0</td><td>0</td><td>0</td><td>0</td><td>0</td><td>1</td><td>0</td><td>0</td><td>0</td><td>0.0</td><td>0</td><td>0</td><td>0</td><td>171</td><td>1</td><td>0</td><td>0</td><td>0</td><td>0</td><td>0</td><td>0</td><td>0</td><td>0</td><td>0.0</td><td>0</td><td>0.0</td><td>1</td><td>0</td><td>0</td><td>0</td><td>0</td><td>0</td><td>0.0</td><td>0</td><td>0</td><td>0</td><td>1</td><td>13.5</td><td>156</td><td>5</td><td>12.0</td></tr><tr><td>2</td><td>1</td><td>0</td><td>0</td><td>0</td><td>0</td><td>0</td><td>0.0</td><td>0</td><td>0</td><td>0</td><td>0</td><td>0</td><td>1</td><td>0</td><td>0</td><td>0</td><td>0.0</td><td>0</td><td>0</td><td>0</td><td>171</td><td>1</td><td>0</td><td>0</td><td>0</td><td>0</td><td>0</td><td>0</td><td>0</td><td>0</td><td>0.0</td><td>0</td><td>0.0</td><td>1</td><td>0</td><td>0</td><td>0</td><td>0</td><td>0</td><td>0.0</td><td>0</td><td>0</td><td>0</td><td>1</td><td>13.6</td><td>158</td><td>5</td><td>12.153846</td></tr><tr><td>2</td><td>1</td><td>0</td><td>0</td><td>0</td><td>0</td><td>0</td><td>0.0</td><td>0</td><td>0</td><td>0</td><td>0</td><td>0</td><td>1</td><td>0</td><td>0</td><td>0</td><td>0.0</td><td>0</td><td>0</td><td>0</td><td>171</td><td>1</td><td>0</td><td>0</td><td>0</td><td>0</td><td>0</td><td>0</td><td>0</td><td>0</td><td>0.0</td><td>0</td><td>0.0</td><td>1</td><td>0</td><td>0</td><td>0</td><td>0</td><td>0</td><td>0.0</td><td>0</td><td>0</td><td>0</td><td>1</td><td>14.1</td><td>158</td><td>5</td><td>11.285714</td></tr><tr><td>2</td><td>1</td><td>0</td><td>0</td><td>0</td><td>0</td><td>0</td><td>0.0</td><td>0</td><td>0</td><td>0</td><td>0</td><td>0</td><td>1</td><td>0</td><td>0</td><td>0</td><td>0.0</td><td>0</td><td>0</td><td>0</td><td>171</td><td>1</td><td>0</td><td>0</td><td>0</td><td>0</td><td>0</td><td>0</td><td>0</td><td>0</td><td>0.0</td><td>0</td><td>0.0</td><td>1</td><td>0</td><td>0</td><td>0</td><td>0</td><td>0</td><td>0.0</td><td>0</td><td>0</td><td>0</td><td>1</td><td>14.2</td><td>159</td><td>5</td><td>11.357143</td></tr><tr><td>2</td><td>1</td><td>0</td><td>0</td><td>0</td><td>0</td><td>0</td><td>0.0</td><td>0</td><td>0</td><td>0</td><td>0</td><td>0</td><td>1</td><td>0</td><td>0</td><td>0</td><td>0.0</td><td>0</td><td>0</td><td>0</td><td>171</td><td>1</td><td>0</td><td>0</td><td>0</td><td>0</td><td>0</td><td>0</td><td>0</td><td>0</td><td>0.0</td><td>0</td><td>0.0</td><td>1</td><td>0</td><td>0</td><td>0</td><td>0</td><td>0</td><td>0.0</td><td>0</td><td>0</td><td>0</td><td>1</td><td>14.3</td><td>160</td><td>5</td><td>11.428571</td></tr><tr><td>2</td><td>1</td><td>0</td><td>0</td><td>0</td><td>0</td><td>0</td><td>0.0</td><td>0</td><td>0</td><td>0</td><td>0</td><td>0</td><td>1</td><td>0</td><td>0</td><td>0</td><td>0.0</td><td>0</td><td>0</td><td>0</td><td>171</td><td>1</td><td>0</td><td>0</td><td>0</td><td>0</td><td>0</td><td>0</td><td>0</td><td>0</td><td>0.0</td><td>0</td><td>0.0</td><td>1</td><td>0</td><td>0</td><td>0</td><td>0</td><td>0</td><td>0.0</td><td>0</td><td>0</td><td>0</td><td>1</td><td>14.4</td><td>161</td><td>5</td><td>11.5</td></tr><tr><td>2</td><td>1</td><td>0</td><td>0</td><td>0</td><td>0</td><td>0</td><td>0.0</td><td>0</td><td>0</td><td>0</td><td>0</td><td>0</td><td>1</td><td>0</td><td>0</td><td>0</td><td>0.0</td><td>0</td><td>0</td><td>0</td><td>171</td><td>1</td><td>0</td><td>0</td><td>0</td><td>0</td><td>0</td><td>0</td><td>0</td><td>0</td><td>0.0</td><td>0</td><td>0.0</td><td>1</td><td>0</td><td>0</td><td>0</td><td>0</td><td>0</td><td>0.0</td><td>0</td><td>0</td><td>0</td><td>1</td><td>14.5</td><td>167</td><td>5</td><td>11.928571</td></tr><tr><td>2</td><td>1</td><td>0</td><td>0</td><td>0</td><td>0</td><td>0</td><td>0.0</td><td>0</td><td>0</td><td>0</td><td>0</td><td>0</td><td>1</td><td>0</td><td>0</td><td>0</td><td>0.0</td><td>0</td><td>0</td><td>0</td><td>171</td><td>1</td><td>0</td><td>0</td><td>0</td><td>0</td><td>0</td><td>0</td><td>0</td><td>0</td><td>0.0</td><td>0</td><td>0.0</td><td>1</td><td>0</td><td>0</td><td>0</td><td>0</td><td>0</td><td>0.0</td><td>0</td><td>0</td><td>0</td><td>1</td><td>14.6</td><td>171</td><td>5</td><td>12.214286</td></tr></tbody></table></div>"
      ],
      "text/plain": [
       "shape: (9_530, 49)\n",
       "┌────────┬────────────┬────────────┬────────────┬───┬───────┬────────────┬─────────┬───────────────┐\n",
       "│ inning ┆ batting_te ┆ batting_te ┆ batting_te ┆ … ┆ balls ┆ current_ru ┆ wickets ┆ current_run_r │\n",
       "│ ---    ┆ am_Chennai ┆ am_Delhi   ┆ am_Gujarat ┆   ┆ ---   ┆ ns         ┆ ---     ┆ ate           │\n",
       "│ i64    ┆ Super      ┆ Capitals   ┆ Lions      ┆   ┆ f64   ┆ ---        ┆ i64     ┆ ---           │\n",
       "│        ┆ Kings      ┆ ---        ┆ ---        ┆   ┆       ┆ i64        ┆         ┆ f64           │\n",
       "│        ┆ ---        ┆ u8         ┆ u8         ┆   ┆       ┆            ┆         ┆               │\n",
       "│        ┆ u8         ┆            ┆            ┆   ┆       ┆            ┆         ┆               │\n",
       "╞════════╪════════════╪════════════╪════════════╪═══╪═══════╪════════════╪═════════╪═══════════════╡\n",
       "│ 1      ┆ 1          ┆ 0          ┆ 0          ┆ … ┆ 6.1   ┆ 51         ┆ 2       ┆ 8.5           │\n",
       "│ 1      ┆ 1          ┆ 0          ┆ 0          ┆ … ┆ 6.2   ┆ 52         ┆ 2       ┆ 8.666667      │\n",
       "│ 1      ┆ 1          ┆ 0          ┆ 0          ┆ … ┆ 6.3   ┆ 58         ┆ 2       ┆ 9.666667      │\n",
       "│ 1      ┆ 1          ┆ 0          ┆ 0          ┆ … ┆ 6.4   ┆ 64         ┆ 2       ┆ 10.666667     │\n",
       "│ …      ┆ …          ┆ …          ┆ …          ┆ … ┆ …     ┆ …          ┆ …       ┆ …             │\n",
       "│ 2      ┆ 1          ┆ 0          ┆ 0          ┆ … ┆ 14.3  ┆ 160        ┆ 5       ┆ 11.428571     │\n",
       "│ 2      ┆ 1          ┆ 0          ┆ 0          ┆ … ┆ 14.4  ┆ 161        ┆ 5       ┆ 11.5          │\n",
       "│ 2      ┆ 1          ┆ 0          ┆ 0          ┆ … ┆ 14.5  ┆ 167        ┆ 5       ┆ 11.928571     │\n",
       "│ 2      ┆ 1          ┆ 0          ┆ 0          ┆ … ┆ 14.6  ┆ 171        ┆ 5       ┆ 12.214286     │\n",
       "└────────┴────────────┴────────────┴────────────┴───┴───────┴────────────┴─────────┴───────────────┘"
      ]
     },
     "execution_count": 28,
     "metadata": {},
     "output_type": "execute_result"
    }
   ],
   "source": [
    "deliveries =deliveries.select(\"inning\",\"batting_team_Chennai Super Kings\",\"batting_team_Delhi Capitals\",\"batting_team_Gujarat Lions\",\"batting_team_Kings XI Punjab\",\n",
    "                            \"batting_team_Kolkata Knight Riders\",\"batting_team_Mumbai Indians\",\"batting_team_Pune Warriors\",\"batting_team_Rajasthan Royals\",\"batting_team_Royal Challengers Bangalore\",\n",
    "                        \t\"batting_team_Sunrisers Hyderabad\",\"bowling_team_Chennai Super Kings\",\"bowling_team_Delhi Capitals\",\"bowling_team_Gujarat Lions\",\"bowling_team_Kings XI Punjab\",\n",
    "                            \"bowling_team_Kolkata Knight Riders\",\"bowling_team_Mumbai Indians\",\"bowling_team_Pune Warriors\",\"bowling_team_Rajasthan Royals\",\"bowling_team_Royal Challengers Bangalore\",\n",
    "                            \"bowling_team_Sunrisers Hyderabad\",\"final_runs\",\"city_Ahmedabad\",\"city_Bangalore\",\t\n",
    "                            \"city_Chandigarh\",\"city_Chennai\",\"city_Delhi\",\"city_Dharamsala\",\"city_Hyderabad\",\"city_Jaipur\",\n",
    "                            \"city_Kolkata\",\"city_Mohali\",\"city_Mumbai\",\"city_Pune\",\n",
    "                            \"toss_winner_Chennai Super Kings\",\"toss_winner_Delhi Capitals\",\"toss_winner_Gujarat Lions\",\"toss_winner_Kings XI Punjab\",\"toss_winner_Kolkata Knight Riders\",\"toss_winner_Mumbai Indians\",\n",
    "                            \"toss_winner_Pune Warriors\",\"toss_winner_Rajasthan Royals\",\"toss_winner_Royal Challengers Bangalore\",\"toss_winner_Sunrisers Hyderabad\",\"toss_decision\",\"balls\",\"current_runs\",\n",
    "                            \"wickets\",\"current_run_rate\")\n",
    "deliveries"
   ]
  },
  {
   "cell_type": "code",
   "execution_count": 29,
   "metadata": {},
   "outputs": [],
   "source": [
    "import requests\n",
    "import tempfile\n",
    "import pandas as pd\n",
    "import polars as pl\n",
    "from pycaret.regression import *\n",
    "import os\n",
    "from google.cloud import storage"
   ]
  },
  {
   "cell_type": "code",
   "execution_count": 32,
   "metadata": {},
   "outputs": [
    {
     "name": "stdout",
     "output_type": "stream",
     "text": [
      "Transformation Pipeline and Model Successfully Loaded\n"
     ]
    }
   ],
   "source": [
    "# Set the path to your service account key file\n",
    "key_file = \"/workspace/Ravikumar/healthy-genre-391115-f36176b04acf.json\"\n",
    "\n",
    "# Set the environment variable for the key file\n",
    "os.environ[\"GOOGLE_APPLICATION_CREDENTIALS\"] = key_file\n",
    "\n",
    "# Create a client using the provided credentials\n",
    "client = storage.Client()\n",
    "\n",
    "# Specify the GCS URI for the model\n",
    "gcs_uri = 'gs://githubml_models/ipl_models/ipl_pycaret.pkl'\n",
    "\n",
    "# Get the bucket and blob names from the GCS URI\n",
    "bucket_name, blob_name = gcs_uri[5:].split(\"/\", 1)\n",
    "# Get the bucket\n",
    "bucket = client.get_bucket(bucket_name)\n",
    "\n",
    "# Get the blob\n",
    "blob = bucket.blob(blob_name)\n",
    "\n",
    "# Download the model file as bytes\n",
    "model_data = blob.download_as_bytes()\n",
    "# Create the file.\n",
    "with tempfile.NamedTemporaryFile(suffix='.pkl', delete=False) as temp_file:\n",
    "    # Write the model data to the file.\n",
    "    temp_file.write(model_data)\n",
    "    # Load the model from the file.\n",
    "    model = load_model(temp_file.name[:-4])  # Remove the \".pkl\" extension\n",
    "\n",
    "# Close the file.\n",
    "temp_file.close()\n",
    "\n",
    "# Now you can use the model for predictions or other tasks"
   ]
  },
  {
   "cell_type": "code",
   "execution_count": 33,
   "metadata": {},
   "outputs": [],
   "source": [
    "deliveries =deliveries.to_pandas()"
   ]
  },
  {
   "cell_type": "code",
   "execution_count": 34,
   "metadata": {},
   "outputs": [],
   "source": [
    "deliveries.to_csv(\"test_ipl_data.csv\")"
   ]
  },
  {
   "cell_type": "code",
   "execution_count": 35,
   "metadata": {},
   "outputs": [],
   "source": [
    "X=deliveries.drop(\"final_runs\",axis=1)\n",
    "Y=deliveries[\"final_runs\"]"
   ]
  },
  {
   "cell_type": "code",
   "execution_count": 36,
   "metadata": {},
   "outputs": [
    {
     "data": {
      "text/plain": [
       "0.4514304814151747"
      ]
     },
     "execution_count": 36,
     "metadata": {},
     "output_type": "execute_result"
    }
   ],
   "source": [
    "model.score(X,Y)"
   ]
  },
  {
   "cell_type": "code",
   "execution_count": 37,
   "metadata": {},
   "outputs": [],
   "source": [
    "deliveries.to_csv(\"test_ipl_data.csv\")"
   ]
  }
 ],
 "metadata": {
  "kernelspec": {
   "display_name": "Python 3",
   "language": "python",
   "name": "python3"
  },
  "language_info": {
   "codemirror_mode": {
    "name": "ipython",
    "version": 3
   },
   "file_extension": ".py",
   "mimetype": "text/x-python",
   "name": "python",
   "nbconvert_exporter": "python",
   "pygments_lexer": "ipython3",
   "version": "3.10.4"
  },
  "orig_nbformat": 4
 },
 "nbformat": 4,
 "nbformat_minor": 2
}
